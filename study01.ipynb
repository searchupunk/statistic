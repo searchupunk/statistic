{
 "cells": [
  {
   "cell_type": "code",
   "execution_count": 77,
   "metadata": {},
   "outputs": [],
   "source": [
    "import pandas as pd\n",
    "import plotly.express as px\n",
    "import plotly.io as pio\n",
    "pio.templates.default = \"plotly_dark\"\n",
    "import matplotlib.pyplot as plt\n",
    "from matplotlib.ticker import PercentFormatter\n",
    "plt.style.use('dark_background')"
   ]
  },
  {
   "cell_type": "code",
   "execution_count": 78,
   "metadata": {},
   "outputs": [
    {
     "name": "stderr",
     "output_type": "stream",
     "text": [
      "/Users/nauta/opt/anaconda3/lib/python3.9/site-packages/openpyxl/worksheet/_read_only.py:79: UserWarning:\n",
      "\n",
      "Data Validation extension is not supported and will be removed\n",
      "\n"
     ]
    },
    {
     "data": {
      "text/html": [
       "<div>\n",
       "<style scoped>\n",
       "    .dataframe tbody tr th:only-of-type {\n",
       "        vertical-align: middle;\n",
       "    }\n",
       "\n",
       "    .dataframe tbody tr th {\n",
       "        vertical-align: top;\n",
       "    }\n",
       "\n",
       "    .dataframe thead th {\n",
       "        text-align: right;\n",
       "    }\n",
       "</style>\n",
       "<table border=\"1\" class=\"dataframe\">\n",
       "  <thead>\n",
       "    <tr style=\"text-align: right;\">\n",
       "      <th></th>\n",
       "      <th>Unnamed: 0</th>\n",
       "      <th>365 DataScience RE California Database</th>\n",
       "      <th>Unnamed: 2</th>\n",
       "      <th>Unnamed: 3</th>\n",
       "      <th>Unnamed: 4</th>\n",
       "      <th>Unnamed: 5</th>\n",
       "      <th>Unnamed: 6</th>\n",
       "      <th>Unnamed: 7</th>\n",
       "      <th>Unnamed: 8</th>\n",
       "      <th>Unnamed: 9</th>\n",
       "      <th>...</th>\n",
       "      <th>Unnamed: 17</th>\n",
       "      <th>Unnamed: 18</th>\n",
       "      <th>Unnamed: 19</th>\n",
       "      <th>Unnamed: 20</th>\n",
       "      <th>Unnamed: 21</th>\n",
       "      <th>Unnamed: 22</th>\n",
       "      <th>Unnamed: 23</th>\n",
       "      <th>Unnamed: 24</th>\n",
       "      <th>Unnamed: 25</th>\n",
       "      <th>Unnamed: 26</th>\n",
       "    </tr>\n",
       "  </thead>\n",
       "  <tbody>\n",
       "    <tr>\n",
       "      <th>0</th>\n",
       "      <td>NaN</td>\n",
       "      <td>Practical example</td>\n",
       "      <td>NaN</td>\n",
       "      <td>NaN</td>\n",
       "      <td>NaN</td>\n",
       "      <td>NaN</td>\n",
       "      <td>NaN</td>\n",
       "      <td>NaN</td>\n",
       "      <td>NaN</td>\n",
       "      <td>NaN</td>\n",
       "      <td>...</td>\n",
       "      <td>NaN</td>\n",
       "      <td>NaN</td>\n",
       "      <td>NaN</td>\n",
       "      <td>NaN</td>\n",
       "      <td>NaN</td>\n",
       "      <td>NaN</td>\n",
       "      <td>NaN</td>\n",
       "      <td>NaN</td>\n",
       "      <td>NaN</td>\n",
       "      <td>NaN</td>\n",
       "    </tr>\n",
       "    <tr>\n",
       "      <th>1</th>\n",
       "      <td>NaN</td>\n",
       "      <td>NaN</td>\n",
       "      <td>NaN</td>\n",
       "      <td>NaN</td>\n",
       "      <td>NaN</td>\n",
       "      <td>NaN</td>\n",
       "      <td>NaN</td>\n",
       "      <td>NaN</td>\n",
       "      <td>NaN</td>\n",
       "      <td>NaN</td>\n",
       "      <td>...</td>\n",
       "      <td>NaN</td>\n",
       "      <td>NaN</td>\n",
       "      <td>NaN</td>\n",
       "      <td>NaN</td>\n",
       "      <td>NaN</td>\n",
       "      <td>NaN</td>\n",
       "      <td>NaN</td>\n",
       "      <td>NaN</td>\n",
       "      <td>NaN</td>\n",
       "      <td>NaN</td>\n",
       "    </tr>\n",
       "    <tr>\n",
       "      <th>2</th>\n",
       "      <td>NaN</td>\n",
       "      <td>Product</td>\n",
       "      <td>NaN</td>\n",
       "      <td>NaN</td>\n",
       "      <td>NaN</td>\n",
       "      <td>NaN</td>\n",
       "      <td>NaN</td>\n",
       "      <td>NaN</td>\n",
       "      <td>NaN</td>\n",
       "      <td>NaN</td>\n",
       "      <td>...</td>\n",
       "      <td>NaN</td>\n",
       "      <td>NaN</td>\n",
       "      <td>NaN</td>\n",
       "      <td>NaN</td>\n",
       "      <td>NaN</td>\n",
       "      <td>NaN</td>\n",
       "      <td>NaN</td>\n",
       "      <td>NaN</td>\n",
       "      <td>NaN</td>\n",
       "      <td>NaN</td>\n",
       "    </tr>\n",
       "    <tr>\n",
       "      <th>3</th>\n",
       "      <td>NaN</td>\n",
       "      <td>ID</td>\n",
       "      <td>Building</td>\n",
       "      <td>Year of sale</td>\n",
       "      <td>Month of sale</td>\n",
       "      <td>Type of property</td>\n",
       "      <td>Property #</td>\n",
       "      <td>Area (ft.)</td>\n",
       "      <td>Price</td>\n",
       "      <td>Status</td>\n",
       "      <td>...</td>\n",
       "      <td>Y</td>\n",
       "      <td>M</td>\n",
       "      <td>D</td>\n",
       "      <td>Gender</td>\n",
       "      <td>Country</td>\n",
       "      <td>State</td>\n",
       "      <td>Purpose</td>\n",
       "      <td>Deal satisfaction</td>\n",
       "      <td>Mortgage</td>\n",
       "      <td>Source</td>\n",
       "    </tr>\n",
       "  </tbody>\n",
       "</table>\n",
       "<p>4 rows × 27 columns</p>\n",
       "</div>"
      ],
      "text/plain": [
       "  Unnamed: 0 365 DataScience RE California Database Unnamed: 2    Unnamed: 3  \\\n",
       "0        NaN                      Practical example        NaN           NaN   \n",
       "1        NaN                                    NaN        NaN           NaN   \n",
       "2        NaN                                Product        NaN           NaN   \n",
       "3        NaN                                     ID   Building  Year of sale   \n",
       "\n",
       "      Unnamed: 4        Unnamed: 5  Unnamed: 6  Unnamed: 7 Unnamed: 8  \\\n",
       "0            NaN               NaN         NaN         NaN        NaN   \n",
       "1            NaN               NaN         NaN         NaN        NaN   \n",
       "2            NaN               NaN         NaN         NaN        NaN   \n",
       "3  Month of sale  Type of property  Property #  Area (ft.)      Price   \n",
       "\n",
       "  Unnamed: 9  ...  Unnamed: 17 Unnamed: 18 Unnamed: 19 Unnamed: 20  \\\n",
       "0        NaN  ...          NaN         NaN         NaN         NaN   \n",
       "1        NaN  ...          NaN         NaN         NaN         NaN   \n",
       "2        NaN  ...          NaN         NaN         NaN         NaN   \n",
       "3     Status  ...            Y           M           D      Gender   \n",
       "\n",
       "  Unnamed: 21 Unnamed: 22 Unnamed: 23        Unnamed: 24 Unnamed: 25  \\\n",
       "0         NaN         NaN         NaN                NaN         NaN   \n",
       "1         NaN         NaN         NaN                NaN         NaN   \n",
       "2         NaN         NaN         NaN                NaN         NaN   \n",
       "3     Country       State     Purpose  Deal satisfaction    Mortgage   \n",
       "\n",
       "  Unnamed: 26  \n",
       "0         NaN  \n",
       "1         NaN  \n",
       "2         NaN  \n",
       "3      Source  \n",
       "\n",
       "[4 rows x 27 columns]"
      ]
     },
     "execution_count": 78,
     "metadata": {},
     "output_type": "execute_result"
    }
   ],
   "source": [
    "df = pd.read_excel('study01.xlsx')\n",
    "df.head(4)"
   ]
  },
  {
   "cell_type": "markdown",
   "metadata": {},
   "source": []
  },
  {
   "cell_type": "code",
   "execution_count": 79,
   "metadata": {},
   "outputs": [
    {
     "data": {
      "text/html": [
       "<div>\n",
       "<style scoped>\n",
       "    .dataframe tbody tr th:only-of-type {\n",
       "        vertical-align: middle;\n",
       "    }\n",
       "\n",
       "    .dataframe tbody tr th {\n",
       "        vertical-align: top;\n",
       "    }\n",
       "\n",
       "    .dataframe thead th {\n",
       "        text-align: right;\n",
       "    }\n",
       "</style>\n",
       "<table border=\"1\" class=\"dataframe\">\n",
       "  <thead>\n",
       "    <tr style=\"text-align: right;\">\n",
       "      <th></th>\n",
       "      <th>ID</th>\n",
       "      <th>Building</th>\n",
       "      <th>Year of sale</th>\n",
       "      <th>Month of sale</th>\n",
       "      <th>Type of property</th>\n",
       "      <th>Property #</th>\n",
       "      <th>Area (ft.)</th>\n",
       "      <th>Price</th>\n",
       "      <th>Status</th>\n",
       "      <th>Customer ID</th>\n",
       "      <th>...</th>\n",
       "      <th>Y</th>\n",
       "      <th>M</th>\n",
       "      <th>D</th>\n",
       "      <th>Gender</th>\n",
       "      <th>Country</th>\n",
       "      <th>State</th>\n",
       "      <th>Purpose</th>\n",
       "      <th>Deal satisfaction</th>\n",
       "      <th>Mortage</th>\n",
       "      <th>Source</th>\n",
       "    </tr>\n",
       "  </thead>\n",
       "  <tbody>\n",
       "    <tr>\n",
       "      <th>4</th>\n",
       "      <td>1030</td>\n",
       "      <td>1</td>\n",
       "      <td>2005</td>\n",
       "      <td>11</td>\n",
       "      <td>Apartment</td>\n",
       "      <td>30</td>\n",
       "      <td>743.0856</td>\n",
       "      <td>246172.676</td>\n",
       "      <td>Sold</td>\n",
       "      <td>C0028</td>\n",
       "      <td>...</td>\n",
       "      <td>1986</td>\n",
       "      <td>6</td>\n",
       "      <td>21</td>\n",
       "      <td>F</td>\n",
       "      <td>USA</td>\n",
       "      <td>California</td>\n",
       "      <td>Home</td>\n",
       "      <td>5</td>\n",
       "      <td>No</td>\n",
       "      <td>Website</td>\n",
       "    </tr>\n",
       "    <tr>\n",
       "      <th>5</th>\n",
       "      <td>1029</td>\n",
       "      <td>1</td>\n",
       "      <td>2005</td>\n",
       "      <td>10</td>\n",
       "      <td>Apartment</td>\n",
       "      <td>29</td>\n",
       "      <td>756.2128</td>\n",
       "      <td>246331.904</td>\n",
       "      <td>Sold</td>\n",
       "      <td>C0027</td>\n",
       "      <td>...</td>\n",
       "      <td>1983</td>\n",
       "      <td>2</td>\n",
       "      <td>24.0</td>\n",
       "      <td>F</td>\n",
       "      <td>USA</td>\n",
       "      <td>California</td>\n",
       "      <td>Home</td>\n",
       "      <td>5</td>\n",
       "      <td>No</td>\n",
       "      <td>Website</td>\n",
       "    </tr>\n",
       "    <tr>\n",
       "      <th>6</th>\n",
       "      <td>2002</td>\n",
       "      <td>2</td>\n",
       "      <td>2007</td>\n",
       "      <td>7</td>\n",
       "      <td>Apartment</td>\n",
       "      <td>2</td>\n",
       "      <td>587.2808</td>\n",
       "      <td>209280.9104</td>\n",
       "      <td>Sold</td>\n",
       "      <td>C0112</td>\n",
       "      <td>...</td>\n",
       "      <td>1985</td>\n",
       "      <td>12</td>\n",
       "      <td>27</td>\n",
       "      <td>M</td>\n",
       "      <td>USA</td>\n",
       "      <td>California</td>\n",
       "      <td>Home</td>\n",
       "      <td>1</td>\n",
       "      <td>Yes</td>\n",
       "      <td>Client</td>\n",
       "    </tr>\n",
       "    <tr>\n",
       "      <th>7</th>\n",
       "      <td>2031</td>\n",
       "      <td>2</td>\n",
       "      <td>2007</td>\n",
       "      <td>12</td>\n",
       "      <td>Apartment</td>\n",
       "      <td>31</td>\n",
       "      <td>1604.7464</td>\n",
       "      <td>452667.0064</td>\n",
       "      <td>Sold</td>\n",
       "      <td>C0160</td>\n",
       "      <td>...</td>\n",
       "      <td>1985</td>\n",
       "      <td>12</td>\n",
       "      <td>27</td>\n",
       "      <td>M</td>\n",
       "      <td>USA</td>\n",
       "      <td>California</td>\n",
       "      <td>Investment</td>\n",
       "      <td>3</td>\n",
       "      <td>Yes</td>\n",
       "      <td>Website</td>\n",
       "    </tr>\n",
       "    <tr>\n",
       "      <th>8</th>\n",
       "      <td>1049</td>\n",
       "      <td>1</td>\n",
       "      <td>2004</td>\n",
       "      <td>11</td>\n",
       "      <td>Apartment</td>\n",
       "      <td>49</td>\n",
       "      <td>1375.4508</td>\n",
       "      <td>467083.3132</td>\n",
       "      <td>Sold</td>\n",
       "      <td>C0014</td>\n",
       "      <td>...</td>\n",
       "      <td>1979</td>\n",
       "      <td>5</td>\n",
       "      <td>15</td>\n",
       "      <td>F</td>\n",
       "      <td>USA</td>\n",
       "      <td>California</td>\n",
       "      <td>Home</td>\n",
       "      <td>4</td>\n",
       "      <td>No</td>\n",
       "      <td>Agency</td>\n",
       "    </tr>\n",
       "    <tr>\n",
       "      <th>9</th>\n",
       "      <td>3011</td>\n",
       "      <td>3</td>\n",
       "      <td>2007</td>\n",
       "      <td>9</td>\n",
       "      <td>Apartment</td>\n",
       "      <td>11</td>\n",
       "      <td>675.19</td>\n",
       "      <td>203491.85</td>\n",
       "      <td>Sold</td>\n",
       "      <td>C0125</td>\n",
       "      <td>...</td>\n",
       "      <td>1981</td>\n",
       "      <td>12</td>\n",
       "      <td>26</td>\n",
       "      <td>F</td>\n",
       "      <td>USA</td>\n",
       "      <td>Virginia</td>\n",
       "      <td>Investment</td>\n",
       "      <td>5</td>\n",
       "      <td>No</td>\n",
       "      <td>Client</td>\n",
       "    </tr>\n",
       "    <tr>\n",
       "      <th>10</th>\n",
       "      <td>3026</td>\n",
       "      <td>3</td>\n",
       "      <td>2007</td>\n",
       "      <td>9</td>\n",
       "      <td>Apartment</td>\n",
       "      <td>26</td>\n",
       "      <td>670.886</td>\n",
       "      <td>212520.826</td>\n",
       "      <td>Sold</td>\n",
       "      <td>C0125</td>\n",
       "      <td>...</td>\n",
       "      <td>1981</td>\n",
       "      <td>12</td>\n",
       "      <td>26</td>\n",
       "      <td>F</td>\n",
       "      <td>USA</td>\n",
       "      <td>Virginia</td>\n",
       "      <td>Investment</td>\n",
       "      <td>5</td>\n",
       "      <td>No</td>\n",
       "      <td>Agency</td>\n",
       "    </tr>\n",
       "    <tr>\n",
       "      <th>11</th>\n",
       "      <td>3023</td>\n",
       "      <td>3</td>\n",
       "      <td>2008</td>\n",
       "      <td>1</td>\n",
       "      <td>Apartment</td>\n",
       "      <td>23</td>\n",
       "      <td>720.8124</td>\n",
       "      <td>198591.8488</td>\n",
       "      <td>Sold</td>\n",
       "      <td>C0166</td>\n",
       "      <td>...</td>\n",
       "      <td>1982</td>\n",
       "      <td>5</td>\n",
       "      <td>27</td>\n",
       "      <td>M</td>\n",
       "      <td>USA</td>\n",
       "      <td>California</td>\n",
       "      <td>Home</td>\n",
       "      <td>5</td>\n",
       "      <td>No</td>\n",
       "      <td>Client</td>\n",
       "    </tr>\n",
       "    <tr>\n",
       "      <th>12</th>\n",
       "      <td>1031</td>\n",
       "      <td>1</td>\n",
       "      <td>2006</td>\n",
       "      <td>6</td>\n",
       "      <td>Apartment</td>\n",
       "      <td>31</td>\n",
       "      <td>782.252</td>\n",
       "      <td>265467.68</td>\n",
       "      <td>Sold</td>\n",
       "      <td>C0034</td>\n",
       "      <td>...</td>\n",
       "      <td>1979</td>\n",
       "      <td>6</td>\n",
       "      <td>27</td>\n",
       "      <td>M</td>\n",
       "      <td>USA</td>\n",
       "      <td>Arizona</td>\n",
       "      <td>Home</td>\n",
       "      <td>2</td>\n",
       "      <td>Yes</td>\n",
       "      <td>Website</td>\n",
       "    </tr>\n",
       "    <tr>\n",
       "      <th>13</th>\n",
       "      <td>4023</td>\n",
       "      <td>4</td>\n",
       "      <td>2006</td>\n",
       "      <td>3</td>\n",
       "      <td>Apartment</td>\n",
       "      <td>23</td>\n",
       "      <td>794.5184</td>\n",
       "      <td>235633.2592</td>\n",
       "      <td>Sold</td>\n",
       "      <td>C0170</td>\n",
       "      <td>...</td>\n",
       "      <td>1979</td>\n",
       "      <td>12</td>\n",
       "      <td>3</td>\n",
       "      <td>F</td>\n",
       "      <td>USA</td>\n",
       "      <td>Virginia</td>\n",
       "      <td>Investment</td>\n",
       "      <td>3</td>\n",
       "      <td>Yes</td>\n",
       "      <td>Agency</td>\n",
       "    </tr>\n",
       "    <tr>\n",
       "      <th>14</th>\n",
       "      <td>1036</td>\n",
       "      <td>1</td>\n",
       "      <td>2004</td>\n",
       "      <td>10</td>\n",
       "      <td>Apartment</td>\n",
       "      <td>36</td>\n",
       "      <td>1160.3584</td>\n",
       "      <td>317473.8608</td>\n",
       "      <td>Sold</td>\n",
       "      <td>C0009</td>\n",
       "      <td>...</td>\n",
       "      <td>1976</td>\n",
       "      <td>8</td>\n",
       "      <td>17</td>\n",
       "      <td>F</td>\n",
       "      <td>USA</td>\n",
       "      <td>Oregon</td>\n",
       "      <td>Home</td>\n",
       "      <td>1</td>\n",
       "      <td>No</td>\n",
       "      <td>Agency</td>\n",
       "    </tr>\n",
       "    <tr>\n",
       "      <th>15</th>\n",
       "      <td>1046</td>\n",
       "      <td>1</td>\n",
       "      <td>2006</td>\n",
       "      <td>8</td>\n",
       "      <td>Apartment</td>\n",
       "      <td>46</td>\n",
       "      <td>1942.5028</td>\n",
       "      <td>503790.2308</td>\n",
       "      <td>Sold</td>\n",
       "      <td>C0041</td>\n",
       "      <td>...</td>\n",
       "      <td>1980</td>\n",
       "      <td>9</td>\n",
       "      <td>14</td>\n",
       "      <td>M</td>\n",
       "      <td>USA</td>\n",
       "      <td>California</td>\n",
       "      <td>Home</td>\n",
       "      <td>5</td>\n",
       "      <td>No</td>\n",
       "      <td>Website</td>\n",
       "    </tr>\n",
       "    <tr>\n",
       "      <th>16</th>\n",
       "      <td>4035</td>\n",
       "      <td>4</td>\n",
       "      <td>2007</td>\n",
       "      <td>10</td>\n",
       "      <td>Apartment</td>\n",
       "      <td>35</td>\n",
       "      <td>794.5184</td>\n",
       "      <td>217786.376</td>\n",
       "      <td>Sold</td>\n",
       "      <td>C0057</td>\n",
       "      <td>...</td>\n",
       "      <td>1978</td>\n",
       "      <td>6</td>\n",
       "      <td>4</td>\n",
       "      <td>F</td>\n",
       "      <td>USA</td>\n",
       "      <td>Nevada</td>\n",
       "      <td>Home</td>\n",
       "      <td>3</td>\n",
       "      <td>Yes</td>\n",
       "      <td>Website</td>\n",
       "    </tr>\n",
       "    <tr>\n",
       "      <th>17</th>\n",
       "      <td>2036</td>\n",
       "      <td>2</td>\n",
       "      <td>2006</td>\n",
       "      <td>11</td>\n",
       "      <td>Apartment</td>\n",
       "      <td>36</td>\n",
       "      <td>1109.2484</td>\n",
       "      <td>460001.256</td>\n",
       "      <td>Sold</td>\n",
       "      <td>C0061</td>\n",
       "      <td>...</td>\n",
       "      <td>1977</td>\n",
       "      <td>6</td>\n",
       "      <td>10</td>\n",
       "      <td>M</td>\n",
       "      <td>USA</td>\n",
       "      <td>California</td>\n",
       "      <td>Home</td>\n",
       "      <td>2</td>\n",
       "      <td>No</td>\n",
       "      <td>Website</td>\n",
       "    </tr>\n",
       "    <tr>\n",
       "      <th>18</th>\n",
       "      <td>2056</td>\n",
       "      <td>2</td>\n",
       "      <td>2007</td>\n",
       "      <td>4</td>\n",
       "      <td>Apartment</td>\n",
       "      <td>56</td>\n",
       "      <td>1400.952</td>\n",
       "      <td>460001.256</td>\n",
       "      <td>Sold</td>\n",
       "      <td>C0089</td>\n",
       "      <td>...</td>\n",
       "      <td>1978</td>\n",
       "      <td>12</td>\n",
       "      <td>3.0</td>\n",
       "      <td>F</td>\n",
       "      <td>USA</td>\n",
       "      <td>California</td>\n",
       "      <td>Home</td>\n",
       "      <td>5</td>\n",
       "      <td>No</td>\n",
       "      <td>Agency</td>\n",
       "    </tr>\n",
       "    <tr>\n",
       "      <th>19</th>\n",
       "      <td>1047</td>\n",
       "      <td>1</td>\n",
       "      <td>2007</td>\n",
       "      <td>12</td>\n",
       "      <td>Apartment</td>\n",
       "      <td>47</td>\n",
       "      <td>1479.7152</td>\n",
       "      <td>448134.2688</td>\n",
       "      <td>Sold</td>\n",
       "      <td>C0159</td>\n",
       "      <td>...</td>\n",
       "      <td>1978</td>\n",
       "      <td>9</td>\n",
       "      <td>14</td>\n",
       "      <td>M</td>\n",
       "      <td>USA</td>\n",
       "      <td>California</td>\n",
       "      <td>Home</td>\n",
       "      <td>5</td>\n",
       "      <td>No</td>\n",
       "      <td>Website</td>\n",
       "    </tr>\n",
       "    <tr>\n",
       "      <th>20</th>\n",
       "      <td>5051</td>\n",
       "      <td>5</td>\n",
       "      <td>2006</td>\n",
       "      <td>3</td>\n",
       "      <td>Apartment</td>\n",
       "      <td>51</td>\n",
       "      <td>790.5372</td>\n",
       "      <td>249591.9948</td>\n",
       "      <td>Sold</td>\n",
       "      <td>C0171</td>\n",
       "      <td>...</td>\n",
       "      <td>1977</td>\n",
       "      <td>12</td>\n",
       "      <td>25</td>\n",
       "      <td>M</td>\n",
       "      <td>USA</td>\n",
       "      <td>Nevada</td>\n",
       "      <td>Home</td>\n",
       "      <td>4</td>\n",
       "      <td>Yes</td>\n",
       "      <td>Website</td>\n",
       "    </tr>\n",
       "    <tr>\n",
       "      <th>21</th>\n",
       "      <td>2007</td>\n",
       "      <td>2</td>\n",
       "      <td>2006</td>\n",
       "      <td>8</td>\n",
       "      <td>Apartment</td>\n",
       "      <td>7</td>\n",
       "      <td>723.9328</td>\n",
       "      <td>196142.192</td>\n",
       "      <td>Sold</td>\n",
       "      <td>C0042</td>\n",
       "      <td>...</td>\n",
       "      <td>1976</td>\n",
       "      <td>12</td>\n",
       "      <td>25</td>\n",
       "      <td>M</td>\n",
       "      <td>USA</td>\n",
       "      <td>Colorado</td>\n",
       "      <td>Home</td>\n",
       "      <td>4</td>\n",
       "      <td>Yes</td>\n",
       "      <td>Agency</td>\n",
       "    </tr>\n",
       "    <tr>\n",
       "      <th>22</th>\n",
       "      <td>3020</td>\n",
       "      <td>3</td>\n",
       "      <td>2007</td>\n",
       "      <td>4</td>\n",
       "      <td>Apartment</td>\n",
       "      <td>20</td>\n",
       "      <td>781.0684</td>\n",
       "      <td>258572.4776</td>\n",
       "      <td>Sold</td>\n",
       "      <td>C0093</td>\n",
       "      <td>...</td>\n",
       "      <td>1977</td>\n",
       "      <td>1</td>\n",
       "      <td>8</td>\n",
       "      <td>M</td>\n",
       "      <td>USA</td>\n",
       "      <td>Arizona</td>\n",
       "      <td>Home</td>\n",
       "      <td>5</td>\n",
       "      <td>No</td>\n",
       "      <td>Client</td>\n",
       "    </tr>\n",
       "    <tr>\n",
       "      <th>23</th>\n",
       "      <td>3029</td>\n",
       "      <td>3</td>\n",
       "      <td>2007</td>\n",
       "      <td>4</td>\n",
       "      <td>Apartment</td>\n",
       "      <td>29</td>\n",
       "      <td>1127.7556</td>\n",
       "      <td>310831.2116</td>\n",
       "      <td>Sold</td>\n",
       "      <td>C0093</td>\n",
       "      <td>...</td>\n",
       "      <td>1977</td>\n",
       "      <td>1</td>\n",
       "      <td>8</td>\n",
       "      <td>M</td>\n",
       "      <td>USA</td>\n",
       "      <td>Arizona</td>\n",
       "      <td>Home</td>\n",
       "      <td>3</td>\n",
       "      <td>No</td>\n",
       "      <td>Client</td>\n",
       "    </tr>\n",
       "    <tr>\n",
       "      <th>24</th>\n",
       "      <td>3015</td>\n",
       "      <td>3</td>\n",
       "      <td>2006</td>\n",
       "      <td>10</td>\n",
       "      <td>Apartment</td>\n",
       "      <td>15</td>\n",
       "      <td>720.7048</td>\n",
       "      <td>207281.5912</td>\n",
       "      <td>Sold</td>\n",
       "      <td>C0051</td>\n",
       "      <td>...</td>\n",
       "      <td>1975</td>\n",
       "      <td>3</td>\n",
       "      <td>22</td>\n",
       "      <td>M</td>\n",
       "      <td>USA</td>\n",
       "      <td>Nevada</td>\n",
       "      <td>Home</td>\n",
       "      <td>5</td>\n",
       "      <td>No</td>\n",
       "      <td>Website</td>\n",
       "    </tr>\n",
       "    <tr>\n",
       "      <th>25</th>\n",
       "      <td>2004</td>\n",
       "      <td>2</td>\n",
       "      <td>2006</td>\n",
       "      <td>12</td>\n",
       "      <td>Apartment</td>\n",
       "      <td>4</td>\n",
       "      <td>649.6888</td>\n",
       "      <td>168834.0424</td>\n",
       "      <td>Sold</td>\n",
       "      <td>C0064</td>\n",
       "      <td>...</td>\n",
       "      <td>1975</td>\n",
       "      <td>10</td>\n",
       "      <td>5</td>\n",
       "      <td>M</td>\n",
       "      <td>USA</td>\n",
       "      <td>California</td>\n",
       "      <td>Investment</td>\n",
       "      <td>5</td>\n",
       "      <td>No</td>\n",
       "      <td>Agency</td>\n",
       "    </tr>\n",
       "    <tr>\n",
       "      <th>26</th>\n",
       "      <td>2006</td>\n",
       "      <td>2</td>\n",
       "      <td>2006</td>\n",
       "      <td>12</td>\n",
       "      <td>Apartment</td>\n",
       "      <td>6</td>\n",
       "      <td>1307.4476</td>\n",
       "      <td>396973.8324</td>\n",
       "      <td>Sold</td>\n",
       "      <td>C0064</td>\n",
       "      <td>...</td>\n",
       "      <td>1975</td>\n",
       "      <td>10</td>\n",
       "      <td>5</td>\n",
       "      <td>M</td>\n",
       "      <td>USA</td>\n",
       "      <td>California</td>\n",
       "      <td>Investment</td>\n",
       "      <td>5</td>\n",
       "      <td>No</td>\n",
       "      <td>Agency</td>\n",
       "    </tr>\n",
       "    <tr>\n",
       "      <th>27</th>\n",
       "      <td>5013</td>\n",
       "      <td>5</td>\n",
       "      <td>2007</td>\n",
       "      <td>9</td>\n",
       "      <td>Apartment</td>\n",
       "      <td>13</td>\n",
       "      <td>618.3772</td>\n",
       "      <td>188743.1072</td>\n",
       "      <td>Sold</td>\n",
       "      <td>C0128</td>\n",
       "      <td>...</td>\n",
       "      <td>1976</td>\n",
       "      <td>2</td>\n",
       "      <td>26</td>\n",
       "      <td>F</td>\n",
       "      <td>USA</td>\n",
       "      <td>Colorado</td>\n",
       "      <td>Home</td>\n",
       "      <td>4</td>\n",
       "      <td>Yes</td>\n",
       "      <td>Agency</td>\n",
       "    </tr>\n",
       "    <tr>\n",
       "      <th>28</th>\n",
       "      <td>1026</td>\n",
       "      <td>1</td>\n",
       "      <td>2005</td>\n",
       "      <td>3</td>\n",
       "      <td>Apartment</td>\n",
       "      <td>26</td>\n",
       "      <td>625.8016</td>\n",
       "      <td>179674.0752</td>\n",
       "      <td>Sold</td>\n",
       "      <td>C0019</td>\n",
       "      <td>...</td>\n",
       "      <td>1973</td>\n",
       "      <td>9</td>\n",
       "      <td>1</td>\n",
       "      <td>M</td>\n",
       "      <td>USA</td>\n",
       "      <td>California</td>\n",
       "      <td>Home</td>\n",
       "      <td>4</td>\n",
       "      <td>No</td>\n",
       "      <td>Website</td>\n",
       "    </tr>\n",
       "    <tr>\n",
       "      <th>29</th>\n",
       "      <td>2054</td>\n",
       "      <td>2</td>\n",
       "      <td>2006</td>\n",
       "      <td>6</td>\n",
       "      <td>Apartment</td>\n",
       "      <td>54</td>\n",
       "      <td>1203.2908</td>\n",
       "      <td>306363.6436</td>\n",
       "      <td>Sold</td>\n",
       "      <td>C0037</td>\n",
       "      <td>...</td>\n",
       "      <td>1974</td>\n",
       "      <td>3</td>\n",
       "      <td>27</td>\n",
       "      <td>M</td>\n",
       "      <td>USA</td>\n",
       "      <td>California</td>\n",
       "      <td>Home</td>\n",
       "      <td>5</td>\n",
       "      <td>Yes</td>\n",
       "      <td>Client</td>\n",
       "    </tr>\n",
       "    <tr>\n",
       "      <th>30</th>\n",
       "      <td>3033</td>\n",
       "      <td>3</td>\n",
       "      <td>2007</td>\n",
       "      <td>9</td>\n",
       "      <td>Apartment</td>\n",
       "      <td>33</td>\n",
       "      <td>670.886</td>\n",
       "      <td>200300.634</td>\n",
       "      <td>Sold</td>\n",
       "      <td>C0127</td>\n",
       "      <td>...</td>\n",
       "      <td>1975</td>\n",
       "      <td>8</td>\n",
       "      <td>12.0</td>\n",
       "      <td>F</td>\n",
       "      <td>USA</td>\n",
       "      <td>Utah</td>\n",
       "      <td>Home</td>\n",
       "      <td>1</td>\n",
       "      <td>Yes</td>\n",
       "      <td>Website</td>\n",
       "    </tr>\n",
       "    <tr>\n",
       "      <th>31</th>\n",
       "      <td>1025</td>\n",
       "      <td>1</td>\n",
       "      <td>2005</td>\n",
       "      <td>3</td>\n",
       "      <td>Apartment</td>\n",
       "      <td>25</td>\n",
       "      <td>1434.0928</td>\n",
       "      <td>382041.128</td>\n",
       "      <td>Sold</td>\n",
       "      <td>C0018</td>\n",
       "      <td>...</td>\n",
       "      <td>1972</td>\n",
       "      <td>3</td>\n",
       "      <td>26</td>\n",
       "      <td>M</td>\n",
       "      <td>USA</td>\n",
       "      <td>California</td>\n",
       "      <td>Home</td>\n",
       "      <td>1</td>\n",
       "      <td>No</td>\n",
       "      <td>Agency</td>\n",
       "    </tr>\n",
       "    <tr>\n",
       "      <th>32</th>\n",
       "      <td>3027</td>\n",
       "      <td>3</td>\n",
       "      <td>2006</td>\n",
       "      <td>8</td>\n",
       "      <td>Apartment</td>\n",
       "      <td>27</td>\n",
       "      <td>781.0684</td>\n",
       "      <td>245572.7936</td>\n",
       "      <td>Sold</td>\n",
       "      <td>C0040</td>\n",
       "      <td>...</td>\n",
       "      <td>1973</td>\n",
       "      <td>9</td>\n",
       "      <td>15</td>\n",
       "      <td>M</td>\n",
       "      <td>USA</td>\n",
       "      <td>California</td>\n",
       "      <td>Home</td>\n",
       "      <td>3</td>\n",
       "      <td>No</td>\n",
       "      <td>Website</td>\n",
       "    </tr>\n",
       "    <tr>\n",
       "      <th>33</th>\n",
       "      <td>3031</td>\n",
       "      <td>3</td>\n",
       "      <td>2007</td>\n",
       "      <td>3</td>\n",
       "      <td>Apartment</td>\n",
       "      <td>31</td>\n",
       "      <td>1596.3536</td>\n",
       "      <td>407214.2896</td>\n",
       "      <td>Sold</td>\n",
       "      <td>C0080</td>\n",
       "      <td>...</td>\n",
       "      <td>1974</td>\n",
       "      <td>12</td>\n",
       "      <td>25</td>\n",
       "      <td>F</td>\n",
       "      <td>USA</td>\n",
       "      <td>California</td>\n",
       "      <td>Investment</td>\n",
       "      <td>4</td>\n",
       "      <td>No</td>\n",
       "      <td>Client</td>\n",
       "    </tr>\n",
       "    <tr>\n",
       "      <th>34</th>\n",
       "      <td>2043</td>\n",
       "      <td>2</td>\n",
       "      <td>2007</td>\n",
       "      <td>4</td>\n",
       "      <td>Apartment</td>\n",
       "      <td>43</td>\n",
       "      <td>1110.3244</td>\n",
       "      <td>355073.4032</td>\n",
       "      <td>Sold</td>\n",
       "      <td>C0083</td>\n",
       "      <td>...</td>\n",
       "      <td>1974</td>\n",
       "      <td>7.0</td>\n",
       "      <td>18</td>\n",
       "      <td>M</td>\n",
       "      <td>USA</td>\n",
       "      <td>Nevada</td>\n",
       "      <td>Home</td>\n",
       "      <td>2</td>\n",
       "      <td>Yes</td>\n",
       "      <td>Website</td>\n",
       "    </tr>\n",
       "    <tr>\n",
       "      <th>35</th>\n",
       "      <td>3034</td>\n",
       "      <td>3</td>\n",
       "      <td>2007</td>\n",
       "      <td>4</td>\n",
       "      <td>Apartment</td>\n",
       "      <td>34</td>\n",
       "      <td>781.0684</td>\n",
       "      <td>256821.6404</td>\n",
       "      <td>Sold</td>\n",
       "      <td>C0085</td>\n",
       "      <td>...</td>\n",
       "      <td>1974</td>\n",
       "      <td>12</td>\n",
       "      <td>25</td>\n",
       "      <td>F</td>\n",
       "      <td>USA</td>\n",
       "      <td>California</td>\n",
       "      <td>Investment</td>\n",
       "      <td>3</td>\n",
       "      <td>No</td>\n",
       "      <td>Client</td>\n",
       "    </tr>\n",
       "    <tr>\n",
       "      <th>36</th>\n",
       "      <td>3016</td>\n",
       "      <td>3</td>\n",
       "      <td>2007</td>\n",
       "      <td>4</td>\n",
       "      <td>Apartment</td>\n",
       "      <td>16</td>\n",
       "      <td>697.8936</td>\n",
       "      <td>226342.8032</td>\n",
       "      <td>Sold</td>\n",
       "      <td>C0091</td>\n",
       "      <td>...</td>\n",
       "      <td>1974</td>\n",
       "      <td>2</td>\n",
       "      <td>10</td>\n",
       "      <td>M</td>\n",
       "      <td>UK</td>\n",
       "      <td>Arizona</td>\n",
       "      <td>Investment</td>\n",
       "      <td>4</td>\n",
       "      <td>No</td>\n",
       "      <td>Agency</td>\n",
       "    </tr>\n",
       "    <tr>\n",
       "      <th>37</th>\n",
       "      <td>1018</td>\n",
       "      <td>1</td>\n",
       "      <td>2004</td>\n",
       "      <td>10</td>\n",
       "      <td>Apartment</td>\n",
       "      <td>18</td>\n",
       "      <td>625.8016</td>\n",
       "      <td>191389.8688</td>\n",
       "      <td>Sold</td>\n",
       "      <td>C0007</td>\n",
       "      <td>...</td>\n",
       "      <td>1970</td>\n",
       "      <td>5</td>\n",
       "      <td>5</td>\n",
       "      <td>F</td>\n",
       "      <td>USA</td>\n",
       "      <td>California</td>\n",
       "      <td>Home</td>\n",
       "      <td>3</td>\n",
       "      <td>No</td>\n",
       "      <td>Website</td>\n",
       "    </tr>\n",
       "    <tr>\n",
       "      <th>38</th>\n",
       "      <td>2050</td>\n",
       "      <td>2</td>\n",
       "      <td>2006</td>\n",
       "      <td>9</td>\n",
       "      <td>Apartment</td>\n",
       "      <td>50</td>\n",
       "      <td>957.5324</td>\n",
       "      <td>297008.9652</td>\n",
       "      <td>Sold</td>\n",
       "      <td>C0048</td>\n",
       "      <td>...</td>\n",
       "      <td>1972</td>\n",
       "      <td>7.0</td>\n",
       "      <td>11</td>\n",
       "      <td>F</td>\n",
       "      <td>USA</td>\n",
       "      <td>California</td>\n",
       "      <td>Investment</td>\n",
       "      <td>2</td>\n",
       "      <td>No</td>\n",
       "      <td>Agency</td>\n",
       "    </tr>\n",
       "    <tr>\n",
       "      <th>39</th>\n",
       "      <td>2044</td>\n",
       "      <td>2</td>\n",
       "      <td>2007</td>\n",
       "      <td>1</td>\n",
       "      <td>Apartment</td>\n",
       "      <td>44</td>\n",
       "      <td>722.9644</td>\n",
       "      <td>250773.1452</td>\n",
       "      <td>Sold</td>\n",
       "      <td>C0065</td>\n",
       "      <td>...</td>\n",
       "      <td>1973</td>\n",
       "      <td>6</td>\n",
       "      <td>7</td>\n",
       "      <td>F</td>\n",
       "      <td>USA</td>\n",
       "      <td>California</td>\n",
       "      <td>Home</td>\n",
       "      <td>5</td>\n",
       "      <td>Yes</td>\n",
       "      <td>Agency</td>\n",
       "    </tr>\n",
       "    <tr>\n",
       "      <th>40</th>\n",
       "      <td>3039</td>\n",
       "      <td>3</td>\n",
       "      <td>2007</td>\n",
       "      <td>5</td>\n",
       "      <td>Apartment</td>\n",
       "      <td>39</td>\n",
       "      <td>923.208</td>\n",
       "      <td>312211.144</td>\n",
       "      <td>Sold</td>\n",
       "      <td>C0096</td>\n",
       "      <td>...</td>\n",
       "      <td>1973</td>\n",
       "      <td>12</td>\n",
       "      <td>15</td>\n",
       "      <td>M</td>\n",
       "      <td>USA</td>\n",
       "      <td>Colorado</td>\n",
       "      <td>Home</td>\n",
       "      <td>3</td>\n",
       "      <td>No</td>\n",
       "      <td>Website</td>\n",
       "    </tr>\n",
       "    <tr>\n",
       "      <th>41</th>\n",
       "      <td>3053</td>\n",
       "      <td>3</td>\n",
       "      <td>2007</td>\n",
       "      <td>12</td>\n",
       "      <td>Apartment</td>\n",
       "      <td>53</td>\n",
       "      <td>670.2404</td>\n",
       "      <td>190119.504</td>\n",
       "      <td>Sold</td>\n",
       "      <td>C0164</td>\n",
       "      <td>...</td>\n",
       "      <td>1973</td>\n",
       "      <td>8</td>\n",
       "      <td>18</td>\n",
       "      <td>F</td>\n",
       "      <td>USA</td>\n",
       "      <td>California</td>\n",
       "      <td>Home</td>\n",
       "      <td>1</td>\n",
       "      <td>Yes</td>\n",
       "      <td>Agency</td>\n",
       "    </tr>\n",
       "    <tr>\n",
       "      <th>42</th>\n",
       "      <td>2041</td>\n",
       "      <td>2</td>\n",
       "      <td>2006</td>\n",
       "      <td>7</td>\n",
       "      <td>Apartment</td>\n",
       "      <td>41</td>\n",
       "      <td>785.48</td>\n",
       "      <td>225050.52</td>\n",
       "      <td>Sold</td>\n",
       "      <td>C0038</td>\n",
       "      <td>...</td>\n",
       "      <td>1971</td>\n",
       "      <td>12</td>\n",
       "      <td>2</td>\n",
       "      <td>M</td>\n",
       "      <td>USA</td>\n",
       "      <td>California</td>\n",
       "      <td>Home</td>\n",
       "      <td>1</td>\n",
       "      <td>No</td>\n",
       "      <td>Website</td>\n",
       "    </tr>\n",
       "    <tr>\n",
       "      <th>43</th>\n",
       "      <td>5035</td>\n",
       "      <td>5</td>\n",
       "      <td>2008</td>\n",
       "      <td>5</td>\n",
       "      <td>Apartment</td>\n",
       "      <td>35</td>\n",
       "      <td>798.2844</td>\n",
       "      <td>261742.742</td>\n",
       "      <td>Sold</td>\n",
       "      <td>C0087</td>\n",
       "      <td>...</td>\n",
       "      <td>1973</td>\n",
       "      <td>7</td>\n",
       "      <td>17</td>\n",
       "      <td>M</td>\n",
       "      <td>USA</td>\n",
       "      <td>Arizona</td>\n",
       "      <td>Investment</td>\n",
       "      <td>5</td>\n",
       "      <td>No</td>\n",
       "      <td>Website</td>\n",
       "    </tr>\n",
       "  </tbody>\n",
       "</table>\n",
       "<p>40 rows × 25 columns</p>\n",
       "</div>"
      ],
      "text/plain": [
       "      ID Building Year of sale Month of sale Type of property Property #  \\\n",
       "4   1030        1         2005            11        Apartment         30   \n",
       "5   1029        1         2005            10        Apartment         29   \n",
       "6   2002        2         2007             7        Apartment          2   \n",
       "7   2031        2         2007            12        Apartment         31   \n",
       "8   1049        1         2004            11        Apartment         49   \n",
       "9   3011        3         2007             9        Apartment         11   \n",
       "10  3026        3         2007             9        Apartment         26   \n",
       "11  3023        3         2008             1        Apartment         23   \n",
       "12  1031        1         2006             6        Apartment         31   \n",
       "13  4023        4         2006             3        Apartment         23   \n",
       "14  1036        1         2004            10        Apartment         36   \n",
       "15  1046        1         2006             8        Apartment         46   \n",
       "16  4035        4         2007            10        Apartment         35   \n",
       "17  2036        2         2006            11        Apartment         36   \n",
       "18  2056        2         2007             4        Apartment         56   \n",
       "19  1047        1         2007            12        Apartment         47   \n",
       "20  5051        5         2006             3        Apartment         51   \n",
       "21  2007        2         2006             8        Apartment          7   \n",
       "22  3020        3         2007             4        Apartment         20   \n",
       "23  3029        3         2007             4        Apartment         29   \n",
       "24  3015        3         2006            10        Apartment         15   \n",
       "25  2004        2         2006            12        Apartment          4   \n",
       "26  2006        2         2006            12        Apartment          6   \n",
       "27  5013        5         2007             9        Apartment         13   \n",
       "28  1026        1         2005             3        Apartment         26   \n",
       "29  2054        2         2006             6        Apartment         54   \n",
       "30  3033        3         2007             9        Apartment         33   \n",
       "31  1025        1         2005             3        Apartment         25   \n",
       "32  3027        3         2006             8        Apartment         27   \n",
       "33  3031        3         2007             3        Apartment         31   \n",
       "34  2043        2         2007             4        Apartment         43   \n",
       "35  3034        3         2007             4        Apartment         34   \n",
       "36  3016        3         2007             4        Apartment         16   \n",
       "37  1018        1         2004            10        Apartment         18   \n",
       "38  2050        2         2006             9        Apartment         50   \n",
       "39  2044        2         2007             1        Apartment         44   \n",
       "40  3039        3         2007             5        Apartment         39   \n",
       "41  3053        3         2007            12        Apartment         53   \n",
       "42  2041        2         2006             7        Apartment         41   \n",
       "43  5035        5         2008             5        Apartment         35   \n",
       "\n",
       "   Area (ft.)        Price Status Customer ID  ...     Y    M     D Gender  \\\n",
       "4    743.0856   246172.676   Sold       C0028  ...  1986    6    21      F   \n",
       "5    756.2128   246331.904   Sold       C0027  ...  1983    2  24.0      F   \n",
       "6    587.2808  209280.9104   Sold       C0112  ...  1985   12    27      M   \n",
       "7   1604.7464  452667.0064   Sold       C0160  ...  1985   12    27      M   \n",
       "8   1375.4508  467083.3132   Sold       C0014  ...  1979    5    15      F   \n",
       "9      675.19    203491.85   Sold       C0125  ...  1981   12    26      F   \n",
       "10    670.886   212520.826   Sold       C0125  ...  1981   12    26      F   \n",
       "11   720.8124  198591.8488   Sold       C0166  ...  1982    5    27      M   \n",
       "12    782.252    265467.68   Sold       C0034  ...  1979    6    27      M   \n",
       "13   794.5184  235633.2592   Sold       C0170  ...  1979   12     3      F   \n",
       "14  1160.3584  317473.8608   Sold       C0009  ...  1976    8    17      F   \n",
       "15  1942.5028  503790.2308   Sold       C0041  ...  1980    9    14      M   \n",
       "16   794.5184   217786.376   Sold       C0057  ...  1978    6     4      F   \n",
       "17  1109.2484   460001.256   Sold       C0061  ...  1977    6    10      M   \n",
       "18   1400.952   460001.256   Sold       C0089  ...  1978   12   3.0      F   \n",
       "19  1479.7152  448134.2688   Sold       C0159  ...  1978    9    14      M   \n",
       "20   790.5372  249591.9948   Sold       C0171  ...  1977   12    25      M   \n",
       "21   723.9328   196142.192   Sold       C0042  ...  1976   12    25      M   \n",
       "22   781.0684  258572.4776   Sold       C0093  ...  1977    1     8      M   \n",
       "23  1127.7556  310831.2116   Sold       C0093  ...  1977    1     8      M   \n",
       "24   720.7048  207281.5912   Sold       C0051  ...  1975    3    22      M   \n",
       "25   649.6888  168834.0424   Sold       C0064  ...  1975   10     5      M   \n",
       "26  1307.4476  396973.8324   Sold       C0064  ...  1975   10     5      M   \n",
       "27   618.3772  188743.1072   Sold       C0128  ...  1976    2    26      F   \n",
       "28   625.8016  179674.0752   Sold       C0019  ...  1973    9     1      M   \n",
       "29  1203.2908  306363.6436   Sold       C0037  ...  1974    3    27      M   \n",
       "30    670.886   200300.634   Sold       C0127  ...  1975    8  12.0      F   \n",
       "31  1434.0928   382041.128   Sold       C0018  ...  1972    3    26      M   \n",
       "32   781.0684  245572.7936   Sold       C0040  ...  1973    9    15      M   \n",
       "33  1596.3536  407214.2896   Sold       C0080  ...  1974   12    25      F   \n",
       "34  1110.3244  355073.4032   Sold       C0083  ...  1974  7.0    18      M   \n",
       "35   781.0684  256821.6404   Sold       C0085  ...  1974   12    25      F   \n",
       "36   697.8936  226342.8032   Sold       C0091  ...  1974    2    10      M   \n",
       "37   625.8016  191389.8688   Sold       C0007  ...  1970    5     5      F   \n",
       "38   957.5324  297008.9652   Sold       C0048  ...  1972  7.0    11      F   \n",
       "39   722.9644  250773.1452   Sold       C0065  ...  1973    6     7      F   \n",
       "40    923.208   312211.144   Sold       C0096  ...  1973   12    15      M   \n",
       "41   670.2404   190119.504   Sold       C0164  ...  1973    8    18      F   \n",
       "42     785.48    225050.52   Sold       C0038  ...  1971   12     2      M   \n",
       "43   798.2844   261742.742   Sold       C0087  ...  1973    7    17      M   \n",
       "\n",
       "   Country       State     Purpose Deal satisfaction Mortage   Source  \n",
       "4      USA  California        Home                 5      No  Website  \n",
       "5      USA  California        Home                 5      No  Website  \n",
       "6      USA  California        Home                 1     Yes   Client  \n",
       "7      USA  California  Investment                 3     Yes  Website  \n",
       "8      USA  California        Home                 4      No   Agency  \n",
       "9      USA    Virginia  Investment                 5      No   Client  \n",
       "10     USA    Virginia  Investment                 5      No   Agency  \n",
       "11     USA  California        Home                 5      No   Client  \n",
       "12     USA     Arizona        Home                 2     Yes  Website  \n",
       "13     USA    Virginia  Investment                 3     Yes   Agency  \n",
       "14     USA      Oregon        Home                 1      No   Agency  \n",
       "15     USA  California        Home                 5      No  Website  \n",
       "16     USA      Nevada        Home                 3     Yes  Website  \n",
       "17     USA  California        Home                 2      No  Website  \n",
       "18     USA  California        Home                 5      No   Agency  \n",
       "19     USA  California        Home                 5      No  Website  \n",
       "20     USA      Nevada        Home                 4     Yes  Website  \n",
       "21     USA    Colorado        Home                 4     Yes   Agency  \n",
       "22     USA     Arizona        Home                 5      No   Client  \n",
       "23     USA     Arizona        Home                 3      No   Client  \n",
       "24     USA      Nevada        Home                 5      No  Website  \n",
       "25     USA  California  Investment                 5      No   Agency  \n",
       "26     USA  California  Investment                 5      No   Agency  \n",
       "27     USA    Colorado        Home                 4     Yes   Agency  \n",
       "28     USA  California        Home                 4      No  Website  \n",
       "29     USA  California        Home                 5     Yes   Client  \n",
       "30     USA        Utah        Home                 1     Yes  Website  \n",
       "31     USA  California        Home                 1      No   Agency  \n",
       "32     USA  California        Home                 3      No  Website  \n",
       "33     USA  California  Investment                 4      No   Client  \n",
       "34     USA      Nevada        Home                 2     Yes  Website  \n",
       "35     USA  California  Investment                 3      No   Client  \n",
       "36      UK     Arizona  Investment                 4      No   Agency  \n",
       "37     USA  California        Home                 3      No  Website  \n",
       "38     USA  California  Investment                 2      No   Agency  \n",
       "39     USA  California        Home                 5     Yes   Agency  \n",
       "40     USA    Colorado        Home                 3      No  Website  \n",
       "41     USA  California        Home                 1     Yes   Agency  \n",
       "42     USA  California        Home                 1      No  Website  \n",
       "43     USA     Arizona  Investment                 5      No  Website  \n",
       "\n",
       "[40 rows x 25 columns]"
      ]
     },
     "execution_count": 79,
     "metadata": {},
     "output_type": "execute_result"
    }
   ],
   "source": [
    "df2 = df.drop([0, 1, 2])\n",
    "df2 = df2.drop(['Unnamed: 0', 'Unnamed: 10'], axis=1)\n",
    "df2.rename(columns={\n",
    "    '365 DataScience RE California Database': 'ID', \n",
    "    'Unnamed: 2': 'Building', \n",
    "    'Unnamed: 3': 'Year of sale',\n",
    "    'Unnamed: 4': 'Month of sale',\n",
    "    'Unnamed: 5': 'Type of property', \n",
    "    'Unnamed: 6': 'Property #', \n",
    "    'Unnamed: 7': 'Area (ft.)',\n",
    "    'Unnamed: 8': 'Price', \n",
    "    'Unnamed: 9': 'Status', \n",
    "    'Unnamed: 11': 'Customer ID', \n",
    "    'Unnamed: 12': 'Entity', \n",
    "    'Unnamed: 13': 'Name',\n",
    "    'Unnamed: 14': 'Surname', \n",
    "    'Unnamed: 15': 'Age at time of purchase', \n",
    "    'Unnamed: 16': 'Interval', \n",
    "    'Unnamed: 17': 'Y',\n",
    "    'Unnamed: 18': 'M', \n",
    "    'Unnamed: 19': 'D', \n",
    "    'Unnamed: 20': 'Gender', \n",
    "    'Unnamed: 21': 'Country',\n",
    "    'Unnamed: 22': 'State', \n",
    "    'Unnamed: 23': 'Purpose', \n",
    "    'Unnamed: 24': 'Deal satisfaction', \n",
    "    'Unnamed: 25': 'Mortage',\n",
    "    'Unnamed: 26': 'Source', \n",
    "     }, inplace=True)\n",
    "df2 = df2.drop([3])\n",
    "df2.head(40)"
   ]
  },
  {
   "cell_type": "code",
   "execution_count": 80,
   "metadata": {},
   "outputs": [
    {
     "data": {
      "text/plain": [
       "Index(['ID', 'Building', 'Year of sale', 'Month of sale', 'Type of property',\n",
       "       'Property #', 'Area (ft.)', 'Price', 'Status', 'Customer ID', 'Entity',\n",
       "       'Name', 'Surname', 'Age at time of purchase', 'Interval', 'Y', 'M', 'D',\n",
       "       'Gender', 'Country', 'State', 'Purpose', 'Deal satisfaction', 'Mortage',\n",
       "       'Source'],\n",
       "      dtype='object')"
      ]
     },
     "execution_count": 80,
     "metadata": {},
     "output_type": "execute_result"
    }
   ],
   "source": [
    "df2.columns"
   ]
  },
  {
   "cell_type": "code",
   "execution_count": 81,
   "metadata": {},
   "outputs": [
    {
     "data": {
      "text/plain": [
       "ID                          0\n",
       "Building                    0\n",
       "Year of sale               72\n",
       "Month of sale              72\n",
       "Type of property            0\n",
       "Property #                  0\n",
       "Area (ft.)                  0\n",
       "Price                       0\n",
       "Status                     72\n",
       "Customer ID                72\n",
       "Entity                     72\n",
       "Name                       72\n",
       "Surname                    72\n",
       "Age at time of purchase    88\n",
       "Interval                   89\n",
       "Y                          89\n",
       "M                          89\n",
       "D                          89\n",
       "Gender                     89\n",
       "Country                    72\n",
       "State                      86\n",
       "Purpose                    72\n",
       "Deal satisfaction          72\n",
       "Mortage                    72\n",
       "Source                     72\n",
       "dtype: int64"
      ]
     },
     "execution_count": 81,
     "metadata": {},
     "output_type": "execute_result"
    }
   ],
   "source": [
    "df2.isnull().sum()"
   ]
  },
  {
   "cell_type": "code",
   "execution_count": 82,
   "metadata": {},
   "outputs": [
    {
     "data": {
      "text/html": [
       "<div>\n",
       "<style scoped>\n",
       "    .dataframe tbody tr th:only-of-type {\n",
       "        vertical-align: middle;\n",
       "    }\n",
       "\n",
       "    .dataframe tbody tr th {\n",
       "        vertical-align: top;\n",
       "    }\n",
       "\n",
       "    .dataframe thead th {\n",
       "        text-align: right;\n",
       "    }\n",
       "</style>\n",
       "<table border=\"1\" class=\"dataframe\">\n",
       "  <thead>\n",
       "    <tr style=\"text-align: right;\">\n",
       "      <th></th>\n",
       "      <th>ID</th>\n",
       "      <th>Building</th>\n",
       "      <th>Year of sale</th>\n",
       "      <th>Month of sale</th>\n",
       "      <th>Type of property</th>\n",
       "      <th>Property #</th>\n",
       "      <th>Area (ft.)</th>\n",
       "      <th>Price</th>\n",
       "      <th>Status</th>\n",
       "      <th>Customer ID</th>\n",
       "      <th>...</th>\n",
       "      <th>Y</th>\n",
       "      <th>M</th>\n",
       "      <th>D</th>\n",
       "      <th>Gender</th>\n",
       "      <th>Country</th>\n",
       "      <th>State</th>\n",
       "      <th>Purpose</th>\n",
       "      <th>Deal satisfaction</th>\n",
       "      <th>Mortage</th>\n",
       "      <th>Source</th>\n",
       "    </tr>\n",
       "  </thead>\n",
       "  <tbody>\n",
       "    <tr>\n",
       "      <th>4</th>\n",
       "      <td>1030</td>\n",
       "      <td>1</td>\n",
       "      <td>2005</td>\n",
       "      <td>11</td>\n",
       "      <td>Apartment</td>\n",
       "      <td>30</td>\n",
       "      <td>743.0856</td>\n",
       "      <td>246172.676</td>\n",
       "      <td>Sold</td>\n",
       "      <td>C0028</td>\n",
       "      <td>...</td>\n",
       "      <td>1986</td>\n",
       "      <td>6</td>\n",
       "      <td>21</td>\n",
       "      <td>F</td>\n",
       "      <td>USA</td>\n",
       "      <td>California</td>\n",
       "      <td>Home</td>\n",
       "      <td>5</td>\n",
       "      <td>No</td>\n",
       "      <td>Website</td>\n",
       "    </tr>\n",
       "    <tr>\n",
       "      <th>5</th>\n",
       "      <td>1029</td>\n",
       "      <td>1</td>\n",
       "      <td>2005</td>\n",
       "      <td>10</td>\n",
       "      <td>Apartment</td>\n",
       "      <td>29</td>\n",
       "      <td>756.2128</td>\n",
       "      <td>246331.904</td>\n",
       "      <td>Sold</td>\n",
       "      <td>C0027</td>\n",
       "      <td>...</td>\n",
       "      <td>1983</td>\n",
       "      <td>2</td>\n",
       "      <td>24.0</td>\n",
       "      <td>F</td>\n",
       "      <td>USA</td>\n",
       "      <td>California</td>\n",
       "      <td>Home</td>\n",
       "      <td>5</td>\n",
       "      <td>No</td>\n",
       "      <td>Website</td>\n",
       "    </tr>\n",
       "    <tr>\n",
       "      <th>6</th>\n",
       "      <td>2002</td>\n",
       "      <td>2</td>\n",
       "      <td>2007</td>\n",
       "      <td>7</td>\n",
       "      <td>Apartment</td>\n",
       "      <td>2</td>\n",
       "      <td>587.2808</td>\n",
       "      <td>209280.9104</td>\n",
       "      <td>Sold</td>\n",
       "      <td>C0112</td>\n",
       "      <td>...</td>\n",
       "      <td>1985</td>\n",
       "      <td>12</td>\n",
       "      <td>27</td>\n",
       "      <td>M</td>\n",
       "      <td>USA</td>\n",
       "      <td>California</td>\n",
       "      <td>Home</td>\n",
       "      <td>1</td>\n",
       "      <td>Yes</td>\n",
       "      <td>Client</td>\n",
       "    </tr>\n",
       "    <tr>\n",
       "      <th>7</th>\n",
       "      <td>2031</td>\n",
       "      <td>2</td>\n",
       "      <td>2007</td>\n",
       "      <td>12</td>\n",
       "      <td>Apartment</td>\n",
       "      <td>31</td>\n",
       "      <td>1604.7464</td>\n",
       "      <td>452667.0064</td>\n",
       "      <td>Sold</td>\n",
       "      <td>C0160</td>\n",
       "      <td>...</td>\n",
       "      <td>1985</td>\n",
       "      <td>12</td>\n",
       "      <td>27</td>\n",
       "      <td>M</td>\n",
       "      <td>USA</td>\n",
       "      <td>California</td>\n",
       "      <td>Investment</td>\n",
       "      <td>3</td>\n",
       "      <td>Yes</td>\n",
       "      <td>Website</td>\n",
       "    </tr>\n",
       "    <tr>\n",
       "      <th>8</th>\n",
       "      <td>1049</td>\n",
       "      <td>1</td>\n",
       "      <td>2004</td>\n",
       "      <td>11</td>\n",
       "      <td>Apartment</td>\n",
       "      <td>49</td>\n",
       "      <td>1375.4508</td>\n",
       "      <td>467083.3132</td>\n",
       "      <td>Sold</td>\n",
       "      <td>C0014</td>\n",
       "      <td>...</td>\n",
       "      <td>1979</td>\n",
       "      <td>5</td>\n",
       "      <td>15</td>\n",
       "      <td>F</td>\n",
       "      <td>USA</td>\n",
       "      <td>California</td>\n",
       "      <td>Home</td>\n",
       "      <td>4</td>\n",
       "      <td>No</td>\n",
       "      <td>Agency</td>\n",
       "    </tr>\n",
       "    <tr>\n",
       "      <th>9</th>\n",
       "      <td>3011</td>\n",
       "      <td>3</td>\n",
       "      <td>2007</td>\n",
       "      <td>9</td>\n",
       "      <td>Apartment</td>\n",
       "      <td>11</td>\n",
       "      <td>675.19</td>\n",
       "      <td>203491.85</td>\n",
       "      <td>Sold</td>\n",
       "      <td>C0125</td>\n",
       "      <td>...</td>\n",
       "      <td>1981</td>\n",
       "      <td>12</td>\n",
       "      <td>26</td>\n",
       "      <td>F</td>\n",
       "      <td>USA</td>\n",
       "      <td>Virginia</td>\n",
       "      <td>Investment</td>\n",
       "      <td>5</td>\n",
       "      <td>No</td>\n",
       "      <td>Client</td>\n",
       "    </tr>\n",
       "    <tr>\n",
       "      <th>10</th>\n",
       "      <td>3026</td>\n",
       "      <td>3</td>\n",
       "      <td>2007</td>\n",
       "      <td>9</td>\n",
       "      <td>Apartment</td>\n",
       "      <td>26</td>\n",
       "      <td>670.886</td>\n",
       "      <td>212520.826</td>\n",
       "      <td>Sold</td>\n",
       "      <td>C0125</td>\n",
       "      <td>...</td>\n",
       "      <td>1981</td>\n",
       "      <td>12</td>\n",
       "      <td>26</td>\n",
       "      <td>F</td>\n",
       "      <td>USA</td>\n",
       "      <td>Virginia</td>\n",
       "      <td>Investment</td>\n",
       "      <td>5</td>\n",
       "      <td>No</td>\n",
       "      <td>Agency</td>\n",
       "    </tr>\n",
       "    <tr>\n",
       "      <th>11</th>\n",
       "      <td>3023</td>\n",
       "      <td>3</td>\n",
       "      <td>2008</td>\n",
       "      <td>1</td>\n",
       "      <td>Apartment</td>\n",
       "      <td>23</td>\n",
       "      <td>720.8124</td>\n",
       "      <td>198591.8488</td>\n",
       "      <td>Sold</td>\n",
       "      <td>C0166</td>\n",
       "      <td>...</td>\n",
       "      <td>1982</td>\n",
       "      <td>5</td>\n",
       "      <td>27</td>\n",
       "      <td>M</td>\n",
       "      <td>USA</td>\n",
       "      <td>California</td>\n",
       "      <td>Home</td>\n",
       "      <td>5</td>\n",
       "      <td>No</td>\n",
       "      <td>Client</td>\n",
       "    </tr>\n",
       "    <tr>\n",
       "      <th>12</th>\n",
       "      <td>1031</td>\n",
       "      <td>1</td>\n",
       "      <td>2006</td>\n",
       "      <td>6</td>\n",
       "      <td>Apartment</td>\n",
       "      <td>31</td>\n",
       "      <td>782.252</td>\n",
       "      <td>265467.68</td>\n",
       "      <td>Sold</td>\n",
       "      <td>C0034</td>\n",
       "      <td>...</td>\n",
       "      <td>1979</td>\n",
       "      <td>6</td>\n",
       "      <td>27</td>\n",
       "      <td>M</td>\n",
       "      <td>USA</td>\n",
       "      <td>Arizona</td>\n",
       "      <td>Home</td>\n",
       "      <td>2</td>\n",
       "      <td>Yes</td>\n",
       "      <td>Website</td>\n",
       "    </tr>\n",
       "    <tr>\n",
       "      <th>13</th>\n",
       "      <td>4023</td>\n",
       "      <td>4</td>\n",
       "      <td>2006</td>\n",
       "      <td>3</td>\n",
       "      <td>Apartment</td>\n",
       "      <td>23</td>\n",
       "      <td>794.5184</td>\n",
       "      <td>235633.2592</td>\n",
       "      <td>Sold</td>\n",
       "      <td>C0170</td>\n",
       "      <td>...</td>\n",
       "      <td>1979</td>\n",
       "      <td>12</td>\n",
       "      <td>3</td>\n",
       "      <td>F</td>\n",
       "      <td>USA</td>\n",
       "      <td>Virginia</td>\n",
       "      <td>Investment</td>\n",
       "      <td>3</td>\n",
       "      <td>Yes</td>\n",
       "      <td>Agency</td>\n",
       "    </tr>\n",
       "    <tr>\n",
       "      <th>14</th>\n",
       "      <td>1036</td>\n",
       "      <td>1</td>\n",
       "      <td>2004</td>\n",
       "      <td>10</td>\n",
       "      <td>Apartment</td>\n",
       "      <td>36</td>\n",
       "      <td>1160.3584</td>\n",
       "      <td>317473.8608</td>\n",
       "      <td>Sold</td>\n",
       "      <td>C0009</td>\n",
       "      <td>...</td>\n",
       "      <td>1976</td>\n",
       "      <td>8</td>\n",
       "      <td>17</td>\n",
       "      <td>F</td>\n",
       "      <td>USA</td>\n",
       "      <td>Oregon</td>\n",
       "      <td>Home</td>\n",
       "      <td>1</td>\n",
       "      <td>No</td>\n",
       "      <td>Agency</td>\n",
       "    </tr>\n",
       "    <tr>\n",
       "      <th>15</th>\n",
       "      <td>1046</td>\n",
       "      <td>1</td>\n",
       "      <td>2006</td>\n",
       "      <td>8</td>\n",
       "      <td>Apartment</td>\n",
       "      <td>46</td>\n",
       "      <td>1942.5028</td>\n",
       "      <td>503790.2308</td>\n",
       "      <td>Sold</td>\n",
       "      <td>C0041</td>\n",
       "      <td>...</td>\n",
       "      <td>1980</td>\n",
       "      <td>9</td>\n",
       "      <td>14</td>\n",
       "      <td>M</td>\n",
       "      <td>USA</td>\n",
       "      <td>California</td>\n",
       "      <td>Home</td>\n",
       "      <td>5</td>\n",
       "      <td>No</td>\n",
       "      <td>Website</td>\n",
       "    </tr>\n",
       "    <tr>\n",
       "      <th>16</th>\n",
       "      <td>4035</td>\n",
       "      <td>4</td>\n",
       "      <td>2007</td>\n",
       "      <td>10</td>\n",
       "      <td>Apartment</td>\n",
       "      <td>35</td>\n",
       "      <td>794.5184</td>\n",
       "      <td>217786.376</td>\n",
       "      <td>Sold</td>\n",
       "      <td>C0057</td>\n",
       "      <td>...</td>\n",
       "      <td>1978</td>\n",
       "      <td>6</td>\n",
       "      <td>4</td>\n",
       "      <td>F</td>\n",
       "      <td>USA</td>\n",
       "      <td>Nevada</td>\n",
       "      <td>Home</td>\n",
       "      <td>3</td>\n",
       "      <td>Yes</td>\n",
       "      <td>Website</td>\n",
       "    </tr>\n",
       "    <tr>\n",
       "      <th>17</th>\n",
       "      <td>2036</td>\n",
       "      <td>2</td>\n",
       "      <td>2006</td>\n",
       "      <td>11</td>\n",
       "      <td>Apartment</td>\n",
       "      <td>36</td>\n",
       "      <td>1109.2484</td>\n",
       "      <td>460001.256</td>\n",
       "      <td>Sold</td>\n",
       "      <td>C0061</td>\n",
       "      <td>...</td>\n",
       "      <td>1977</td>\n",
       "      <td>6</td>\n",
       "      <td>10</td>\n",
       "      <td>M</td>\n",
       "      <td>USA</td>\n",
       "      <td>California</td>\n",
       "      <td>Home</td>\n",
       "      <td>2</td>\n",
       "      <td>No</td>\n",
       "      <td>Website</td>\n",
       "    </tr>\n",
       "    <tr>\n",
       "      <th>18</th>\n",
       "      <td>2056</td>\n",
       "      <td>2</td>\n",
       "      <td>2007</td>\n",
       "      <td>4</td>\n",
       "      <td>Apartment</td>\n",
       "      <td>56</td>\n",
       "      <td>1400.952</td>\n",
       "      <td>460001.256</td>\n",
       "      <td>Sold</td>\n",
       "      <td>C0089</td>\n",
       "      <td>...</td>\n",
       "      <td>1978</td>\n",
       "      <td>12</td>\n",
       "      <td>3.0</td>\n",
       "      <td>F</td>\n",
       "      <td>USA</td>\n",
       "      <td>California</td>\n",
       "      <td>Home</td>\n",
       "      <td>5</td>\n",
       "      <td>No</td>\n",
       "      <td>Agency</td>\n",
       "    </tr>\n",
       "    <tr>\n",
       "      <th>19</th>\n",
       "      <td>1047</td>\n",
       "      <td>1</td>\n",
       "      <td>2007</td>\n",
       "      <td>12</td>\n",
       "      <td>Apartment</td>\n",
       "      <td>47</td>\n",
       "      <td>1479.7152</td>\n",
       "      <td>448134.2688</td>\n",
       "      <td>Sold</td>\n",
       "      <td>C0159</td>\n",
       "      <td>...</td>\n",
       "      <td>1978</td>\n",
       "      <td>9</td>\n",
       "      <td>14</td>\n",
       "      <td>M</td>\n",
       "      <td>USA</td>\n",
       "      <td>California</td>\n",
       "      <td>Home</td>\n",
       "      <td>5</td>\n",
       "      <td>No</td>\n",
       "      <td>Website</td>\n",
       "    </tr>\n",
       "    <tr>\n",
       "      <th>20</th>\n",
       "      <td>5051</td>\n",
       "      <td>5</td>\n",
       "      <td>2006</td>\n",
       "      <td>3</td>\n",
       "      <td>Apartment</td>\n",
       "      <td>51</td>\n",
       "      <td>790.5372</td>\n",
       "      <td>249591.9948</td>\n",
       "      <td>Sold</td>\n",
       "      <td>C0171</td>\n",
       "      <td>...</td>\n",
       "      <td>1977</td>\n",
       "      <td>12</td>\n",
       "      <td>25</td>\n",
       "      <td>M</td>\n",
       "      <td>USA</td>\n",
       "      <td>Nevada</td>\n",
       "      <td>Home</td>\n",
       "      <td>4</td>\n",
       "      <td>Yes</td>\n",
       "      <td>Website</td>\n",
       "    </tr>\n",
       "    <tr>\n",
       "      <th>21</th>\n",
       "      <td>2007</td>\n",
       "      <td>2</td>\n",
       "      <td>2006</td>\n",
       "      <td>8</td>\n",
       "      <td>Apartment</td>\n",
       "      <td>7</td>\n",
       "      <td>723.9328</td>\n",
       "      <td>196142.192</td>\n",
       "      <td>Sold</td>\n",
       "      <td>C0042</td>\n",
       "      <td>...</td>\n",
       "      <td>1976</td>\n",
       "      <td>12</td>\n",
       "      <td>25</td>\n",
       "      <td>M</td>\n",
       "      <td>USA</td>\n",
       "      <td>Colorado</td>\n",
       "      <td>Home</td>\n",
       "      <td>4</td>\n",
       "      <td>Yes</td>\n",
       "      <td>Agency</td>\n",
       "    </tr>\n",
       "    <tr>\n",
       "      <th>22</th>\n",
       "      <td>3020</td>\n",
       "      <td>3</td>\n",
       "      <td>2007</td>\n",
       "      <td>4</td>\n",
       "      <td>Apartment</td>\n",
       "      <td>20</td>\n",
       "      <td>781.0684</td>\n",
       "      <td>258572.4776</td>\n",
       "      <td>Sold</td>\n",
       "      <td>C0093</td>\n",
       "      <td>...</td>\n",
       "      <td>1977</td>\n",
       "      <td>1</td>\n",
       "      <td>8</td>\n",
       "      <td>M</td>\n",
       "      <td>USA</td>\n",
       "      <td>Arizona</td>\n",
       "      <td>Home</td>\n",
       "      <td>5</td>\n",
       "      <td>No</td>\n",
       "      <td>Client</td>\n",
       "    </tr>\n",
       "    <tr>\n",
       "      <th>23</th>\n",
       "      <td>3029</td>\n",
       "      <td>3</td>\n",
       "      <td>2007</td>\n",
       "      <td>4</td>\n",
       "      <td>Apartment</td>\n",
       "      <td>29</td>\n",
       "      <td>1127.7556</td>\n",
       "      <td>310831.2116</td>\n",
       "      <td>Sold</td>\n",
       "      <td>C0093</td>\n",
       "      <td>...</td>\n",
       "      <td>1977</td>\n",
       "      <td>1</td>\n",
       "      <td>8</td>\n",
       "      <td>M</td>\n",
       "      <td>USA</td>\n",
       "      <td>Arizona</td>\n",
       "      <td>Home</td>\n",
       "      <td>3</td>\n",
       "      <td>No</td>\n",
       "      <td>Client</td>\n",
       "    </tr>\n",
       "    <tr>\n",
       "      <th>24</th>\n",
       "      <td>3015</td>\n",
       "      <td>3</td>\n",
       "      <td>2006</td>\n",
       "      <td>10</td>\n",
       "      <td>Apartment</td>\n",
       "      <td>15</td>\n",
       "      <td>720.7048</td>\n",
       "      <td>207281.5912</td>\n",
       "      <td>Sold</td>\n",
       "      <td>C0051</td>\n",
       "      <td>...</td>\n",
       "      <td>1975</td>\n",
       "      <td>3</td>\n",
       "      <td>22</td>\n",
       "      <td>M</td>\n",
       "      <td>USA</td>\n",
       "      <td>Nevada</td>\n",
       "      <td>Home</td>\n",
       "      <td>5</td>\n",
       "      <td>No</td>\n",
       "      <td>Website</td>\n",
       "    </tr>\n",
       "    <tr>\n",
       "      <th>25</th>\n",
       "      <td>2004</td>\n",
       "      <td>2</td>\n",
       "      <td>2006</td>\n",
       "      <td>12</td>\n",
       "      <td>Apartment</td>\n",
       "      <td>4</td>\n",
       "      <td>649.6888</td>\n",
       "      <td>168834.0424</td>\n",
       "      <td>Sold</td>\n",
       "      <td>C0064</td>\n",
       "      <td>...</td>\n",
       "      <td>1975</td>\n",
       "      <td>10</td>\n",
       "      <td>5</td>\n",
       "      <td>M</td>\n",
       "      <td>USA</td>\n",
       "      <td>California</td>\n",
       "      <td>Investment</td>\n",
       "      <td>5</td>\n",
       "      <td>No</td>\n",
       "      <td>Agency</td>\n",
       "    </tr>\n",
       "    <tr>\n",
       "      <th>26</th>\n",
       "      <td>2006</td>\n",
       "      <td>2</td>\n",
       "      <td>2006</td>\n",
       "      <td>12</td>\n",
       "      <td>Apartment</td>\n",
       "      <td>6</td>\n",
       "      <td>1307.4476</td>\n",
       "      <td>396973.8324</td>\n",
       "      <td>Sold</td>\n",
       "      <td>C0064</td>\n",
       "      <td>...</td>\n",
       "      <td>1975</td>\n",
       "      <td>10</td>\n",
       "      <td>5</td>\n",
       "      <td>M</td>\n",
       "      <td>USA</td>\n",
       "      <td>California</td>\n",
       "      <td>Investment</td>\n",
       "      <td>5</td>\n",
       "      <td>No</td>\n",
       "      <td>Agency</td>\n",
       "    </tr>\n",
       "    <tr>\n",
       "      <th>27</th>\n",
       "      <td>5013</td>\n",
       "      <td>5</td>\n",
       "      <td>2007</td>\n",
       "      <td>9</td>\n",
       "      <td>Apartment</td>\n",
       "      <td>13</td>\n",
       "      <td>618.3772</td>\n",
       "      <td>188743.1072</td>\n",
       "      <td>Sold</td>\n",
       "      <td>C0128</td>\n",
       "      <td>...</td>\n",
       "      <td>1976</td>\n",
       "      <td>2</td>\n",
       "      <td>26</td>\n",
       "      <td>F</td>\n",
       "      <td>USA</td>\n",
       "      <td>Colorado</td>\n",
       "      <td>Home</td>\n",
       "      <td>4</td>\n",
       "      <td>Yes</td>\n",
       "      <td>Agency</td>\n",
       "    </tr>\n",
       "    <tr>\n",
       "      <th>28</th>\n",
       "      <td>1026</td>\n",
       "      <td>1</td>\n",
       "      <td>2005</td>\n",
       "      <td>3</td>\n",
       "      <td>Apartment</td>\n",
       "      <td>26</td>\n",
       "      <td>625.8016</td>\n",
       "      <td>179674.0752</td>\n",
       "      <td>Sold</td>\n",
       "      <td>C0019</td>\n",
       "      <td>...</td>\n",
       "      <td>1973</td>\n",
       "      <td>9</td>\n",
       "      <td>1</td>\n",
       "      <td>M</td>\n",
       "      <td>USA</td>\n",
       "      <td>California</td>\n",
       "      <td>Home</td>\n",
       "      <td>4</td>\n",
       "      <td>No</td>\n",
       "      <td>Website</td>\n",
       "    </tr>\n",
       "    <tr>\n",
       "      <th>29</th>\n",
       "      <td>2054</td>\n",
       "      <td>2</td>\n",
       "      <td>2006</td>\n",
       "      <td>6</td>\n",
       "      <td>Apartment</td>\n",
       "      <td>54</td>\n",
       "      <td>1203.2908</td>\n",
       "      <td>306363.6436</td>\n",
       "      <td>Sold</td>\n",
       "      <td>C0037</td>\n",
       "      <td>...</td>\n",
       "      <td>1974</td>\n",
       "      <td>3</td>\n",
       "      <td>27</td>\n",
       "      <td>M</td>\n",
       "      <td>USA</td>\n",
       "      <td>California</td>\n",
       "      <td>Home</td>\n",
       "      <td>5</td>\n",
       "      <td>Yes</td>\n",
       "      <td>Client</td>\n",
       "    </tr>\n",
       "    <tr>\n",
       "      <th>30</th>\n",
       "      <td>3033</td>\n",
       "      <td>3</td>\n",
       "      <td>2007</td>\n",
       "      <td>9</td>\n",
       "      <td>Apartment</td>\n",
       "      <td>33</td>\n",
       "      <td>670.886</td>\n",
       "      <td>200300.634</td>\n",
       "      <td>Sold</td>\n",
       "      <td>C0127</td>\n",
       "      <td>...</td>\n",
       "      <td>1975</td>\n",
       "      <td>8</td>\n",
       "      <td>12.0</td>\n",
       "      <td>F</td>\n",
       "      <td>USA</td>\n",
       "      <td>Utah</td>\n",
       "      <td>Home</td>\n",
       "      <td>1</td>\n",
       "      <td>Yes</td>\n",
       "      <td>Website</td>\n",
       "    </tr>\n",
       "    <tr>\n",
       "      <th>31</th>\n",
       "      <td>1025</td>\n",
       "      <td>1</td>\n",
       "      <td>2005</td>\n",
       "      <td>3</td>\n",
       "      <td>Apartment</td>\n",
       "      <td>25</td>\n",
       "      <td>1434.0928</td>\n",
       "      <td>382041.128</td>\n",
       "      <td>Sold</td>\n",
       "      <td>C0018</td>\n",
       "      <td>...</td>\n",
       "      <td>1972</td>\n",
       "      <td>3</td>\n",
       "      <td>26</td>\n",
       "      <td>M</td>\n",
       "      <td>USA</td>\n",
       "      <td>California</td>\n",
       "      <td>Home</td>\n",
       "      <td>1</td>\n",
       "      <td>No</td>\n",
       "      <td>Agency</td>\n",
       "    </tr>\n",
       "    <tr>\n",
       "      <th>32</th>\n",
       "      <td>3027</td>\n",
       "      <td>3</td>\n",
       "      <td>2006</td>\n",
       "      <td>8</td>\n",
       "      <td>Apartment</td>\n",
       "      <td>27</td>\n",
       "      <td>781.0684</td>\n",
       "      <td>245572.7936</td>\n",
       "      <td>Sold</td>\n",
       "      <td>C0040</td>\n",
       "      <td>...</td>\n",
       "      <td>1973</td>\n",
       "      <td>9</td>\n",
       "      <td>15</td>\n",
       "      <td>M</td>\n",
       "      <td>USA</td>\n",
       "      <td>California</td>\n",
       "      <td>Home</td>\n",
       "      <td>3</td>\n",
       "      <td>No</td>\n",
       "      <td>Website</td>\n",
       "    </tr>\n",
       "    <tr>\n",
       "      <th>33</th>\n",
       "      <td>3031</td>\n",
       "      <td>3</td>\n",
       "      <td>2007</td>\n",
       "      <td>3</td>\n",
       "      <td>Apartment</td>\n",
       "      <td>31</td>\n",
       "      <td>1596.3536</td>\n",
       "      <td>407214.2896</td>\n",
       "      <td>Sold</td>\n",
       "      <td>C0080</td>\n",
       "      <td>...</td>\n",
       "      <td>1974</td>\n",
       "      <td>12</td>\n",
       "      <td>25</td>\n",
       "      <td>F</td>\n",
       "      <td>USA</td>\n",
       "      <td>California</td>\n",
       "      <td>Investment</td>\n",
       "      <td>4</td>\n",
       "      <td>No</td>\n",
       "      <td>Client</td>\n",
       "    </tr>\n",
       "    <tr>\n",
       "      <th>34</th>\n",
       "      <td>2043</td>\n",
       "      <td>2</td>\n",
       "      <td>2007</td>\n",
       "      <td>4</td>\n",
       "      <td>Apartment</td>\n",
       "      <td>43</td>\n",
       "      <td>1110.3244</td>\n",
       "      <td>355073.4032</td>\n",
       "      <td>Sold</td>\n",
       "      <td>C0083</td>\n",
       "      <td>...</td>\n",
       "      <td>1974</td>\n",
       "      <td>7.0</td>\n",
       "      <td>18</td>\n",
       "      <td>M</td>\n",
       "      <td>USA</td>\n",
       "      <td>Nevada</td>\n",
       "      <td>Home</td>\n",
       "      <td>2</td>\n",
       "      <td>Yes</td>\n",
       "      <td>Website</td>\n",
       "    </tr>\n",
       "    <tr>\n",
       "      <th>35</th>\n",
       "      <td>3034</td>\n",
       "      <td>3</td>\n",
       "      <td>2007</td>\n",
       "      <td>4</td>\n",
       "      <td>Apartment</td>\n",
       "      <td>34</td>\n",
       "      <td>781.0684</td>\n",
       "      <td>256821.6404</td>\n",
       "      <td>Sold</td>\n",
       "      <td>C0085</td>\n",
       "      <td>...</td>\n",
       "      <td>1974</td>\n",
       "      <td>12</td>\n",
       "      <td>25</td>\n",
       "      <td>F</td>\n",
       "      <td>USA</td>\n",
       "      <td>California</td>\n",
       "      <td>Investment</td>\n",
       "      <td>3</td>\n",
       "      <td>No</td>\n",
       "      <td>Client</td>\n",
       "    </tr>\n",
       "    <tr>\n",
       "      <th>36</th>\n",
       "      <td>3016</td>\n",
       "      <td>3</td>\n",
       "      <td>2007</td>\n",
       "      <td>4</td>\n",
       "      <td>Apartment</td>\n",
       "      <td>16</td>\n",
       "      <td>697.8936</td>\n",
       "      <td>226342.8032</td>\n",
       "      <td>Sold</td>\n",
       "      <td>C0091</td>\n",
       "      <td>...</td>\n",
       "      <td>1974</td>\n",
       "      <td>2</td>\n",
       "      <td>10</td>\n",
       "      <td>M</td>\n",
       "      <td>UK</td>\n",
       "      <td>Arizona</td>\n",
       "      <td>Investment</td>\n",
       "      <td>4</td>\n",
       "      <td>No</td>\n",
       "      <td>Agency</td>\n",
       "    </tr>\n",
       "    <tr>\n",
       "      <th>37</th>\n",
       "      <td>1018</td>\n",
       "      <td>1</td>\n",
       "      <td>2004</td>\n",
       "      <td>10</td>\n",
       "      <td>Apartment</td>\n",
       "      <td>18</td>\n",
       "      <td>625.8016</td>\n",
       "      <td>191389.8688</td>\n",
       "      <td>Sold</td>\n",
       "      <td>C0007</td>\n",
       "      <td>...</td>\n",
       "      <td>1970</td>\n",
       "      <td>5</td>\n",
       "      <td>5</td>\n",
       "      <td>F</td>\n",
       "      <td>USA</td>\n",
       "      <td>California</td>\n",
       "      <td>Home</td>\n",
       "      <td>3</td>\n",
       "      <td>No</td>\n",
       "      <td>Website</td>\n",
       "    </tr>\n",
       "    <tr>\n",
       "      <th>38</th>\n",
       "      <td>2050</td>\n",
       "      <td>2</td>\n",
       "      <td>2006</td>\n",
       "      <td>9</td>\n",
       "      <td>Apartment</td>\n",
       "      <td>50</td>\n",
       "      <td>957.5324</td>\n",
       "      <td>297008.9652</td>\n",
       "      <td>Sold</td>\n",
       "      <td>C0048</td>\n",
       "      <td>...</td>\n",
       "      <td>1972</td>\n",
       "      <td>7.0</td>\n",
       "      <td>11</td>\n",
       "      <td>F</td>\n",
       "      <td>USA</td>\n",
       "      <td>California</td>\n",
       "      <td>Investment</td>\n",
       "      <td>2</td>\n",
       "      <td>No</td>\n",
       "      <td>Agency</td>\n",
       "    </tr>\n",
       "    <tr>\n",
       "      <th>39</th>\n",
       "      <td>2044</td>\n",
       "      <td>2</td>\n",
       "      <td>2007</td>\n",
       "      <td>1</td>\n",
       "      <td>Apartment</td>\n",
       "      <td>44</td>\n",
       "      <td>722.9644</td>\n",
       "      <td>250773.1452</td>\n",
       "      <td>Sold</td>\n",
       "      <td>C0065</td>\n",
       "      <td>...</td>\n",
       "      <td>1973</td>\n",
       "      <td>6</td>\n",
       "      <td>7</td>\n",
       "      <td>F</td>\n",
       "      <td>USA</td>\n",
       "      <td>California</td>\n",
       "      <td>Home</td>\n",
       "      <td>5</td>\n",
       "      <td>Yes</td>\n",
       "      <td>Agency</td>\n",
       "    </tr>\n",
       "    <tr>\n",
       "      <th>40</th>\n",
       "      <td>3039</td>\n",
       "      <td>3</td>\n",
       "      <td>2007</td>\n",
       "      <td>5</td>\n",
       "      <td>Apartment</td>\n",
       "      <td>39</td>\n",
       "      <td>923.208</td>\n",
       "      <td>312211.144</td>\n",
       "      <td>Sold</td>\n",
       "      <td>C0096</td>\n",
       "      <td>...</td>\n",
       "      <td>1973</td>\n",
       "      <td>12</td>\n",
       "      <td>15</td>\n",
       "      <td>M</td>\n",
       "      <td>USA</td>\n",
       "      <td>Colorado</td>\n",
       "      <td>Home</td>\n",
       "      <td>3</td>\n",
       "      <td>No</td>\n",
       "      <td>Website</td>\n",
       "    </tr>\n",
       "    <tr>\n",
       "      <th>41</th>\n",
       "      <td>3053</td>\n",
       "      <td>3</td>\n",
       "      <td>2007</td>\n",
       "      <td>12</td>\n",
       "      <td>Apartment</td>\n",
       "      <td>53</td>\n",
       "      <td>670.2404</td>\n",
       "      <td>190119.504</td>\n",
       "      <td>Sold</td>\n",
       "      <td>C0164</td>\n",
       "      <td>...</td>\n",
       "      <td>1973</td>\n",
       "      <td>8</td>\n",
       "      <td>18</td>\n",
       "      <td>F</td>\n",
       "      <td>USA</td>\n",
       "      <td>California</td>\n",
       "      <td>Home</td>\n",
       "      <td>1</td>\n",
       "      <td>Yes</td>\n",
       "      <td>Agency</td>\n",
       "    </tr>\n",
       "    <tr>\n",
       "      <th>42</th>\n",
       "      <td>2041</td>\n",
       "      <td>2</td>\n",
       "      <td>2006</td>\n",
       "      <td>7</td>\n",
       "      <td>Apartment</td>\n",
       "      <td>41</td>\n",
       "      <td>785.48</td>\n",
       "      <td>225050.52</td>\n",
       "      <td>Sold</td>\n",
       "      <td>C0038</td>\n",
       "      <td>...</td>\n",
       "      <td>1971</td>\n",
       "      <td>12</td>\n",
       "      <td>2</td>\n",
       "      <td>M</td>\n",
       "      <td>USA</td>\n",
       "      <td>California</td>\n",
       "      <td>Home</td>\n",
       "      <td>1</td>\n",
       "      <td>No</td>\n",
       "      <td>Website</td>\n",
       "    </tr>\n",
       "    <tr>\n",
       "      <th>43</th>\n",
       "      <td>5035</td>\n",
       "      <td>5</td>\n",
       "      <td>2008</td>\n",
       "      <td>5</td>\n",
       "      <td>Apartment</td>\n",
       "      <td>35</td>\n",
       "      <td>798.2844</td>\n",
       "      <td>261742.742</td>\n",
       "      <td>Sold</td>\n",
       "      <td>C0087</td>\n",
       "      <td>...</td>\n",
       "      <td>1973</td>\n",
       "      <td>7</td>\n",
       "      <td>17</td>\n",
       "      <td>M</td>\n",
       "      <td>USA</td>\n",
       "      <td>Arizona</td>\n",
       "      <td>Investment</td>\n",
       "      <td>5</td>\n",
       "      <td>No</td>\n",
       "      <td>Website</td>\n",
       "    </tr>\n",
       "  </tbody>\n",
       "</table>\n",
       "<p>40 rows × 25 columns</p>\n",
       "</div>"
      ],
      "text/plain": [
       "      ID Building Year of sale Month of sale Type of property Property #  \\\n",
       "4   1030        1         2005            11        Apartment         30   \n",
       "5   1029        1         2005            10        Apartment         29   \n",
       "6   2002        2         2007             7        Apartment          2   \n",
       "7   2031        2         2007            12        Apartment         31   \n",
       "8   1049        1         2004            11        Apartment         49   \n",
       "9   3011        3         2007             9        Apartment         11   \n",
       "10  3026        3         2007             9        Apartment         26   \n",
       "11  3023        3         2008             1        Apartment         23   \n",
       "12  1031        1         2006             6        Apartment         31   \n",
       "13  4023        4         2006             3        Apartment         23   \n",
       "14  1036        1         2004            10        Apartment         36   \n",
       "15  1046        1         2006             8        Apartment         46   \n",
       "16  4035        4         2007            10        Apartment         35   \n",
       "17  2036        2         2006            11        Apartment         36   \n",
       "18  2056        2         2007             4        Apartment         56   \n",
       "19  1047        1         2007            12        Apartment         47   \n",
       "20  5051        5         2006             3        Apartment         51   \n",
       "21  2007        2         2006             8        Apartment          7   \n",
       "22  3020        3         2007             4        Apartment         20   \n",
       "23  3029        3         2007             4        Apartment         29   \n",
       "24  3015        3         2006            10        Apartment         15   \n",
       "25  2004        2         2006            12        Apartment          4   \n",
       "26  2006        2         2006            12        Apartment          6   \n",
       "27  5013        5         2007             9        Apartment         13   \n",
       "28  1026        1         2005             3        Apartment         26   \n",
       "29  2054        2         2006             6        Apartment         54   \n",
       "30  3033        3         2007             9        Apartment         33   \n",
       "31  1025        1         2005             3        Apartment         25   \n",
       "32  3027        3         2006             8        Apartment         27   \n",
       "33  3031        3         2007             3        Apartment         31   \n",
       "34  2043        2         2007             4        Apartment         43   \n",
       "35  3034        3         2007             4        Apartment         34   \n",
       "36  3016        3         2007             4        Apartment         16   \n",
       "37  1018        1         2004            10        Apartment         18   \n",
       "38  2050        2         2006             9        Apartment         50   \n",
       "39  2044        2         2007             1        Apartment         44   \n",
       "40  3039        3         2007             5        Apartment         39   \n",
       "41  3053        3         2007            12        Apartment         53   \n",
       "42  2041        2         2006             7        Apartment         41   \n",
       "43  5035        5         2008             5        Apartment         35   \n",
       "\n",
       "   Area (ft.)        Price Status Customer ID  ...     Y    M     D Gender  \\\n",
       "4    743.0856   246172.676   Sold       C0028  ...  1986    6    21      F   \n",
       "5    756.2128   246331.904   Sold       C0027  ...  1983    2  24.0      F   \n",
       "6    587.2808  209280.9104   Sold       C0112  ...  1985   12    27      M   \n",
       "7   1604.7464  452667.0064   Sold       C0160  ...  1985   12    27      M   \n",
       "8   1375.4508  467083.3132   Sold       C0014  ...  1979    5    15      F   \n",
       "9      675.19    203491.85   Sold       C0125  ...  1981   12    26      F   \n",
       "10    670.886   212520.826   Sold       C0125  ...  1981   12    26      F   \n",
       "11   720.8124  198591.8488   Sold       C0166  ...  1982    5    27      M   \n",
       "12    782.252    265467.68   Sold       C0034  ...  1979    6    27      M   \n",
       "13   794.5184  235633.2592   Sold       C0170  ...  1979   12     3      F   \n",
       "14  1160.3584  317473.8608   Sold       C0009  ...  1976    8    17      F   \n",
       "15  1942.5028  503790.2308   Sold       C0041  ...  1980    9    14      M   \n",
       "16   794.5184   217786.376   Sold       C0057  ...  1978    6     4      F   \n",
       "17  1109.2484   460001.256   Sold       C0061  ...  1977    6    10      M   \n",
       "18   1400.952   460001.256   Sold       C0089  ...  1978   12   3.0      F   \n",
       "19  1479.7152  448134.2688   Sold       C0159  ...  1978    9    14      M   \n",
       "20   790.5372  249591.9948   Sold       C0171  ...  1977   12    25      M   \n",
       "21   723.9328   196142.192   Sold       C0042  ...  1976   12    25      M   \n",
       "22   781.0684  258572.4776   Sold       C0093  ...  1977    1     8      M   \n",
       "23  1127.7556  310831.2116   Sold       C0093  ...  1977    1     8      M   \n",
       "24   720.7048  207281.5912   Sold       C0051  ...  1975    3    22      M   \n",
       "25   649.6888  168834.0424   Sold       C0064  ...  1975   10     5      M   \n",
       "26  1307.4476  396973.8324   Sold       C0064  ...  1975   10     5      M   \n",
       "27   618.3772  188743.1072   Sold       C0128  ...  1976    2    26      F   \n",
       "28   625.8016  179674.0752   Sold       C0019  ...  1973    9     1      M   \n",
       "29  1203.2908  306363.6436   Sold       C0037  ...  1974    3    27      M   \n",
       "30    670.886   200300.634   Sold       C0127  ...  1975    8  12.0      F   \n",
       "31  1434.0928   382041.128   Sold       C0018  ...  1972    3    26      M   \n",
       "32   781.0684  245572.7936   Sold       C0040  ...  1973    9    15      M   \n",
       "33  1596.3536  407214.2896   Sold       C0080  ...  1974   12    25      F   \n",
       "34  1110.3244  355073.4032   Sold       C0083  ...  1974  7.0    18      M   \n",
       "35   781.0684  256821.6404   Sold       C0085  ...  1974   12    25      F   \n",
       "36   697.8936  226342.8032   Sold       C0091  ...  1974    2    10      M   \n",
       "37   625.8016  191389.8688   Sold       C0007  ...  1970    5     5      F   \n",
       "38   957.5324  297008.9652   Sold       C0048  ...  1972  7.0    11      F   \n",
       "39   722.9644  250773.1452   Sold       C0065  ...  1973    6     7      F   \n",
       "40    923.208   312211.144   Sold       C0096  ...  1973   12    15      M   \n",
       "41   670.2404   190119.504   Sold       C0164  ...  1973    8    18      F   \n",
       "42     785.48    225050.52   Sold       C0038  ...  1971   12     2      M   \n",
       "43   798.2844   261742.742   Sold       C0087  ...  1973    7    17      M   \n",
       "\n",
       "   Country       State     Purpose Deal satisfaction Mortage   Source  \n",
       "4      USA  California        Home                 5      No  Website  \n",
       "5      USA  California        Home                 5      No  Website  \n",
       "6      USA  California        Home                 1     Yes   Client  \n",
       "7      USA  California  Investment                 3     Yes  Website  \n",
       "8      USA  California        Home                 4      No   Agency  \n",
       "9      USA    Virginia  Investment                 5      No   Client  \n",
       "10     USA    Virginia  Investment                 5      No   Agency  \n",
       "11     USA  California        Home                 5      No   Client  \n",
       "12     USA     Arizona        Home                 2     Yes  Website  \n",
       "13     USA    Virginia  Investment                 3     Yes   Agency  \n",
       "14     USA      Oregon        Home                 1      No   Agency  \n",
       "15     USA  California        Home                 5      No  Website  \n",
       "16     USA      Nevada        Home                 3     Yes  Website  \n",
       "17     USA  California        Home                 2      No  Website  \n",
       "18     USA  California        Home                 5      No   Agency  \n",
       "19     USA  California        Home                 5      No  Website  \n",
       "20     USA      Nevada        Home                 4     Yes  Website  \n",
       "21     USA    Colorado        Home                 4     Yes   Agency  \n",
       "22     USA     Arizona        Home                 5      No   Client  \n",
       "23     USA     Arizona        Home                 3      No   Client  \n",
       "24     USA      Nevada        Home                 5      No  Website  \n",
       "25     USA  California  Investment                 5      No   Agency  \n",
       "26     USA  California  Investment                 5      No   Agency  \n",
       "27     USA    Colorado        Home                 4     Yes   Agency  \n",
       "28     USA  California        Home                 4      No  Website  \n",
       "29     USA  California        Home                 5     Yes   Client  \n",
       "30     USA        Utah        Home                 1     Yes  Website  \n",
       "31     USA  California        Home                 1      No   Agency  \n",
       "32     USA  California        Home                 3      No  Website  \n",
       "33     USA  California  Investment                 4      No   Client  \n",
       "34     USA      Nevada        Home                 2     Yes  Website  \n",
       "35     USA  California  Investment                 3      No   Client  \n",
       "36      UK     Arizona  Investment                 4      No   Agency  \n",
       "37     USA  California        Home                 3      No  Website  \n",
       "38     USA  California  Investment                 2      No   Agency  \n",
       "39     USA  California        Home                 5     Yes   Agency  \n",
       "40     USA    Colorado        Home                 3      No  Website  \n",
       "41     USA  California        Home                 1     Yes   Agency  \n",
       "42     USA  California        Home                 1      No  Website  \n",
       "43     USA     Arizona  Investment                 5      No  Website  \n",
       "\n",
       "[40 rows x 25 columns]"
      ]
     },
     "execution_count": 82,
     "metadata": {},
     "output_type": "execute_result"
    }
   ],
   "source": [
    "df2.head(40)"
   ]
  },
  {
   "cell_type": "code",
   "execution_count": 83,
   "metadata": {},
   "outputs": [
    {
     "data": {
      "text/plain": [
       "4       No\n",
       "5       No\n",
       "6      Yes\n",
       "7      Yes\n",
       "8       No\n",
       "      ... \n",
       "266    NaN\n",
       "267    NaN\n",
       "268    NaN\n",
       "269    NaN\n",
       "270    NaN\n",
       "Name: Mortage, Length: 267, dtype: object"
      ]
     },
     "execution_count": 83,
     "metadata": {},
     "output_type": "execute_result"
    }
   ],
   "source": [
    "df2.Mortage"
   ]
  },
  {
   "cell_type": "code",
   "execution_count": 84,
   "metadata": {},
   "outputs": [
    {
     "data": {
      "application/vnd.plotly.v1+json": {
       "config": {
        "plotlyServerURL": "https://plot.ly"
       },
       "data": [
        {
         "alignmentgroup": "True",
         "bingroup": "x",
         "hovertemplate": "Price=%{x}<br>count=%{y}<extra></extra>",
         "legendgroup": "",
         "marker": {
          "color": "#636efa",
          "pattern": {
           "shape": ""
          }
         },
         "name": "",
         "offsetgroup": "",
         "orientation": "v",
         "showlegend": false,
         "type": "histogram",
         "x": [
          246172.676,
          246331.904,
          209280.9104,
          452667.00639999995,
          467083.3132,
          203491.84999999998,
          212520.826,
          198591.84879999998,
          265467.68000000005,
          235633.2592,
          317473.8608,
          503790.2308,
          217786.37600000002,
          460001.25599999994,
          460001.25599999994,
          448134.2688,
          249591.9948,
          196142.192,
          258572.4776,
          310831.2116,
          207281.5912,
          168834.0424,
          396973.8324,
          188743.1072,
          179674.0752,
          306363.6436,
          200300.634,
          382041.12799999997,
          245572.7936,
          407214.2896,
          355073.4032,
          256821.6404,
          226342.8032,
          191389.8688,
          297008.9652,
          250773.1452,
          312211.144,
          190119.50400000002,
          225050.52000000002,
          261742.742,
          344530.88879999996,
          215410.276,
          252185.992,
          480545.8096,
          300385.6176,
          240539.3476,
          222138.716,
          228410.054,
          197053.5144,
          193660.62079999998,
          237060.1488,
          372001.6968,
          290031.25879999995,
          238811.06399999998,
          199054.1992,
          496266.4064,
          346906.89319999993,
          376964.6156,
          315733.1536,
          188273.7304,
          253831.0248,
          278575.86879999994,
          402081.79600000003,
          310832.58759999997,
          257183.48,
          326885.336,
          344568.7428,
          214631.68039999998,
          237207.68,
          464549.1904,
          310577.03959999996,
          205098.2108,
          248525.11680000002,
          224463.86599999998,
          220606.28,
          220865,
          338181.18080000003,
          432679.91199999995,
          196220.048,
          323915.8112,
          200719.0152,
          380809.52,
          213942.5624,
          207581.4272,
          241671.52000000002,
          336695.2524,
          171262.6544,
          299159.1384,
          212265.66799999998,
          388515.14,
          263790.81440000003,
          367976.4576,
          243052.5904,
          269075.3016,
          223577.32,
          198075.992,
          354553.2324,
          456919.45599999995,
          233142.8,
          225401.6152,
          195153.16,
          206631.81,
          358525.59239999996,
          223917.336,
          201518.89440000002,
          269278.572,
          204808.16039999996,
          306878.45759999997,
          275394.2484,
          192092.24,
          165430.282,
          310223.29079999996,
          231552.32559999998,
          215774.28439999997,
          289727.9904,
          195874.944,
          357538.19519999996,
          239248.7512,
          382277.1488,
          248422.664,
          242740.656,
          253025.7772,
          234172.38800000004,
          200678.75119999997,
          226578.512,
          200148.89440000002,
          218585.9248,
          198841.69519999996,
          252927.84,
          225290.2204,
          234750.586,
          287466.4116,
          229464.7112,
          377313.5552,
          276759.18,
          219373.4056,
          230216.2192,
          410932.67319999996,
          214341.3364,
          248274.3136,
          390494.2712,
          293876.2748,
          204286.66679999998,
          230154.52999999997,
          228170.02560000002,
          205085.4048,
          177555.06399999998,
          217748.48,
          247739.44,
          484458.03040000005,
          356506.36999999994,
          197869.36400000003,
          236608.95279999997,
          208930.812,
          263123.4208,
          286433.57279999997,
          229581.7836,
          252053.0264,
          244820.66720000003,
          241620.48320000002,
          235762.34000000003,
          236639.56,
          294807.648,
          293828.68799999997,
          412856.56159999996,
          224076.836,
          258015.6144,
          153466.71240000002,
          261871.696,
          210038.6992,
          210824.0576,
          249075.6568,
          219865.7608,
          204292.49399999998,
          261579.89200000002,
          222867.42080000002,
          291494.36,
          296483.144,
          532877.384,
          117564.0716,
          317196.39999999997,
          264142.16000000003,
          222947.2088,
          250312.5344,
          246050.404,
          529317.2832,
          169158.2944,
          206958.712,
          206445.4232,
          239341.58079999997,
          398903.42240000004,
          210745.1664,
          331154.87840000005,
          204434.6784,
          189194.3072,
          204027.0912,
          400865.91599999997,
          217787.71039999998,
          219630.90120000002,
          244624.87199999997,
          163162.8792,
          401302.8192,
          538271.7356,
          461464.992,
          275812.4928,
          216552.71200000003,
          495570.44480000006,
          388656.80639999994,
          495024.0912,
          526947.1632000001,
          427236.09959999996,
          327044.3684,
          385447.6872,
          401894.81799999997,
          264275.7824,
          231348.92799999996,
          264238.94999999995,
          217357.6328,
          482404.31200000003,
          228937.89599999995,
          498994.03200000006,
          256376.27599999995,
          255243.1088,
          506786.66400000005,
          233172.48999999996,
          233834.00480000002,
          523373.4480000001,
          228872.91199999995,
          208655.6704,
          322952.5584,
          216826,
          298730.404,
          230495.00639999998,
          346048.04079999996,
          377043.5956,
          413761.70639999997,
          212644.39479999998,
          250415.38199999995,
          219252.89199999996,
          264011.698,
          211406.86800000002,
          396330.29079999996,
          227072.87839999996,
          276323.86559999996,
          230943.37959999996,
          315382.11,
          372016.5616,
          237680.87519999995,
          234032.88399999996,
          273165.57680000004,
          271227.49439999997,
          349865.22239999997,
          199730.734,
          338482.4544,
          351304.57759999996,
          338472.13279999996,
          212916.3568,
          308660.80319999997,
          147343.69400000002,
          448574.6704,
          255337.89800000002,
          175773.5856,
          322610.73919999995,
          279191.256,
          287996.5296,
          365868.7776,
          199216.40399999995
         ],
         "xaxis": "x",
         "yaxis": "y"
        }
       ],
       "layout": {
        "barmode": "relative",
        "legend": {
         "tracegroupgap": 0
        },
        "margin": {
         "t": 60
        },
        "template": {
         "data": {
          "bar": [
           {
            "error_x": {
             "color": "#f2f5fa"
            },
            "error_y": {
             "color": "#f2f5fa"
            },
            "marker": {
             "line": {
              "color": "rgb(17,17,17)",
              "width": 0.5
             },
             "pattern": {
              "fillmode": "overlay",
              "size": 10,
              "solidity": 0.2
             }
            },
            "type": "bar"
           }
          ],
          "barpolar": [
           {
            "marker": {
             "line": {
              "color": "rgb(17,17,17)",
              "width": 0.5
             },
             "pattern": {
              "fillmode": "overlay",
              "size": 10,
              "solidity": 0.2
             }
            },
            "type": "barpolar"
           }
          ],
          "carpet": [
           {
            "aaxis": {
             "endlinecolor": "#A2B1C6",
             "gridcolor": "#506784",
             "linecolor": "#506784",
             "minorgridcolor": "#506784",
             "startlinecolor": "#A2B1C6"
            },
            "baxis": {
             "endlinecolor": "#A2B1C6",
             "gridcolor": "#506784",
             "linecolor": "#506784",
             "minorgridcolor": "#506784",
             "startlinecolor": "#A2B1C6"
            },
            "type": "carpet"
           }
          ],
          "choropleth": [
           {
            "colorbar": {
             "outlinewidth": 0,
             "ticks": ""
            },
            "type": "choropleth"
           }
          ],
          "contour": [
           {
            "colorbar": {
             "outlinewidth": 0,
             "ticks": ""
            },
            "colorscale": [
             [
              0,
              "#0d0887"
             ],
             [
              0.1111111111111111,
              "#46039f"
             ],
             [
              0.2222222222222222,
              "#7201a8"
             ],
             [
              0.3333333333333333,
              "#9c179e"
             ],
             [
              0.4444444444444444,
              "#bd3786"
             ],
             [
              0.5555555555555556,
              "#d8576b"
             ],
             [
              0.6666666666666666,
              "#ed7953"
             ],
             [
              0.7777777777777778,
              "#fb9f3a"
             ],
             [
              0.8888888888888888,
              "#fdca26"
             ],
             [
              1,
              "#f0f921"
             ]
            ],
            "type": "contour"
           }
          ],
          "contourcarpet": [
           {
            "colorbar": {
             "outlinewidth": 0,
             "ticks": ""
            },
            "type": "contourcarpet"
           }
          ],
          "heatmap": [
           {
            "colorbar": {
             "outlinewidth": 0,
             "ticks": ""
            },
            "colorscale": [
             [
              0,
              "#0d0887"
             ],
             [
              0.1111111111111111,
              "#46039f"
             ],
             [
              0.2222222222222222,
              "#7201a8"
             ],
             [
              0.3333333333333333,
              "#9c179e"
             ],
             [
              0.4444444444444444,
              "#bd3786"
             ],
             [
              0.5555555555555556,
              "#d8576b"
             ],
             [
              0.6666666666666666,
              "#ed7953"
             ],
             [
              0.7777777777777778,
              "#fb9f3a"
             ],
             [
              0.8888888888888888,
              "#fdca26"
             ],
             [
              1,
              "#f0f921"
             ]
            ],
            "type": "heatmap"
           }
          ],
          "heatmapgl": [
           {
            "colorbar": {
             "outlinewidth": 0,
             "ticks": ""
            },
            "colorscale": [
             [
              0,
              "#0d0887"
             ],
             [
              0.1111111111111111,
              "#46039f"
             ],
             [
              0.2222222222222222,
              "#7201a8"
             ],
             [
              0.3333333333333333,
              "#9c179e"
             ],
             [
              0.4444444444444444,
              "#bd3786"
             ],
             [
              0.5555555555555556,
              "#d8576b"
             ],
             [
              0.6666666666666666,
              "#ed7953"
             ],
             [
              0.7777777777777778,
              "#fb9f3a"
             ],
             [
              0.8888888888888888,
              "#fdca26"
             ],
             [
              1,
              "#f0f921"
             ]
            ],
            "type": "heatmapgl"
           }
          ],
          "histogram": [
           {
            "marker": {
             "pattern": {
              "fillmode": "overlay",
              "size": 10,
              "solidity": 0.2
             }
            },
            "type": "histogram"
           }
          ],
          "histogram2d": [
           {
            "colorbar": {
             "outlinewidth": 0,
             "ticks": ""
            },
            "colorscale": [
             [
              0,
              "#0d0887"
             ],
             [
              0.1111111111111111,
              "#46039f"
             ],
             [
              0.2222222222222222,
              "#7201a8"
             ],
             [
              0.3333333333333333,
              "#9c179e"
             ],
             [
              0.4444444444444444,
              "#bd3786"
             ],
             [
              0.5555555555555556,
              "#d8576b"
             ],
             [
              0.6666666666666666,
              "#ed7953"
             ],
             [
              0.7777777777777778,
              "#fb9f3a"
             ],
             [
              0.8888888888888888,
              "#fdca26"
             ],
             [
              1,
              "#f0f921"
             ]
            ],
            "type": "histogram2d"
           }
          ],
          "histogram2dcontour": [
           {
            "colorbar": {
             "outlinewidth": 0,
             "ticks": ""
            },
            "colorscale": [
             [
              0,
              "#0d0887"
             ],
             [
              0.1111111111111111,
              "#46039f"
             ],
             [
              0.2222222222222222,
              "#7201a8"
             ],
             [
              0.3333333333333333,
              "#9c179e"
             ],
             [
              0.4444444444444444,
              "#bd3786"
             ],
             [
              0.5555555555555556,
              "#d8576b"
             ],
             [
              0.6666666666666666,
              "#ed7953"
             ],
             [
              0.7777777777777778,
              "#fb9f3a"
             ],
             [
              0.8888888888888888,
              "#fdca26"
             ],
             [
              1,
              "#f0f921"
             ]
            ],
            "type": "histogram2dcontour"
           }
          ],
          "mesh3d": [
           {
            "colorbar": {
             "outlinewidth": 0,
             "ticks": ""
            },
            "type": "mesh3d"
           }
          ],
          "parcoords": [
           {
            "line": {
             "colorbar": {
              "outlinewidth": 0,
              "ticks": ""
             }
            },
            "type": "parcoords"
           }
          ],
          "pie": [
           {
            "automargin": true,
            "type": "pie"
           }
          ],
          "scatter": [
           {
            "marker": {
             "line": {
              "color": "#283442"
             }
            },
            "type": "scatter"
           }
          ],
          "scatter3d": [
           {
            "line": {
             "colorbar": {
              "outlinewidth": 0,
              "ticks": ""
             }
            },
            "marker": {
             "colorbar": {
              "outlinewidth": 0,
              "ticks": ""
             }
            },
            "type": "scatter3d"
           }
          ],
          "scattercarpet": [
           {
            "marker": {
             "colorbar": {
              "outlinewidth": 0,
              "ticks": ""
             }
            },
            "type": "scattercarpet"
           }
          ],
          "scattergeo": [
           {
            "marker": {
             "colorbar": {
              "outlinewidth": 0,
              "ticks": ""
             }
            },
            "type": "scattergeo"
           }
          ],
          "scattergl": [
           {
            "marker": {
             "line": {
              "color": "#283442"
             }
            },
            "type": "scattergl"
           }
          ],
          "scattermapbox": [
           {
            "marker": {
             "colorbar": {
              "outlinewidth": 0,
              "ticks": ""
             }
            },
            "type": "scattermapbox"
           }
          ],
          "scatterpolar": [
           {
            "marker": {
             "colorbar": {
              "outlinewidth": 0,
              "ticks": ""
             }
            },
            "type": "scatterpolar"
           }
          ],
          "scatterpolargl": [
           {
            "marker": {
             "colorbar": {
              "outlinewidth": 0,
              "ticks": ""
             }
            },
            "type": "scatterpolargl"
           }
          ],
          "scatterternary": [
           {
            "marker": {
             "colorbar": {
              "outlinewidth": 0,
              "ticks": ""
             }
            },
            "type": "scatterternary"
           }
          ],
          "surface": [
           {
            "colorbar": {
             "outlinewidth": 0,
             "ticks": ""
            },
            "colorscale": [
             [
              0,
              "#0d0887"
             ],
             [
              0.1111111111111111,
              "#46039f"
             ],
             [
              0.2222222222222222,
              "#7201a8"
             ],
             [
              0.3333333333333333,
              "#9c179e"
             ],
             [
              0.4444444444444444,
              "#bd3786"
             ],
             [
              0.5555555555555556,
              "#d8576b"
             ],
             [
              0.6666666666666666,
              "#ed7953"
             ],
             [
              0.7777777777777778,
              "#fb9f3a"
             ],
             [
              0.8888888888888888,
              "#fdca26"
             ],
             [
              1,
              "#f0f921"
             ]
            ],
            "type": "surface"
           }
          ],
          "table": [
           {
            "cells": {
             "fill": {
              "color": "#506784"
             },
             "line": {
              "color": "rgb(17,17,17)"
             }
            },
            "header": {
             "fill": {
              "color": "#2a3f5f"
             },
             "line": {
              "color": "rgb(17,17,17)"
             }
            },
            "type": "table"
           }
          ]
         },
         "layout": {
          "annotationdefaults": {
           "arrowcolor": "#f2f5fa",
           "arrowhead": 0,
           "arrowwidth": 1
          },
          "autotypenumbers": "strict",
          "coloraxis": {
           "colorbar": {
            "outlinewidth": 0,
            "ticks": ""
           }
          },
          "colorscale": {
           "diverging": [
            [
             0,
             "#8e0152"
            ],
            [
             0.1,
             "#c51b7d"
            ],
            [
             0.2,
             "#de77ae"
            ],
            [
             0.3,
             "#f1b6da"
            ],
            [
             0.4,
             "#fde0ef"
            ],
            [
             0.5,
             "#f7f7f7"
            ],
            [
             0.6,
             "#e6f5d0"
            ],
            [
             0.7,
             "#b8e186"
            ],
            [
             0.8,
             "#7fbc41"
            ],
            [
             0.9,
             "#4d9221"
            ],
            [
             1,
             "#276419"
            ]
           ],
           "sequential": [
            [
             0,
             "#0d0887"
            ],
            [
             0.1111111111111111,
             "#46039f"
            ],
            [
             0.2222222222222222,
             "#7201a8"
            ],
            [
             0.3333333333333333,
             "#9c179e"
            ],
            [
             0.4444444444444444,
             "#bd3786"
            ],
            [
             0.5555555555555556,
             "#d8576b"
            ],
            [
             0.6666666666666666,
             "#ed7953"
            ],
            [
             0.7777777777777778,
             "#fb9f3a"
            ],
            [
             0.8888888888888888,
             "#fdca26"
            ],
            [
             1,
             "#f0f921"
            ]
           ],
           "sequentialminus": [
            [
             0,
             "#0d0887"
            ],
            [
             0.1111111111111111,
             "#46039f"
            ],
            [
             0.2222222222222222,
             "#7201a8"
            ],
            [
             0.3333333333333333,
             "#9c179e"
            ],
            [
             0.4444444444444444,
             "#bd3786"
            ],
            [
             0.5555555555555556,
             "#d8576b"
            ],
            [
             0.6666666666666666,
             "#ed7953"
            ],
            [
             0.7777777777777778,
             "#fb9f3a"
            ],
            [
             0.8888888888888888,
             "#fdca26"
            ],
            [
             1,
             "#f0f921"
            ]
           ]
          },
          "colorway": [
           "#636efa",
           "#EF553B",
           "#00cc96",
           "#ab63fa",
           "#FFA15A",
           "#19d3f3",
           "#FF6692",
           "#B6E880",
           "#FF97FF",
           "#FECB52"
          ],
          "font": {
           "color": "#f2f5fa"
          },
          "geo": {
           "bgcolor": "rgb(17,17,17)",
           "lakecolor": "rgb(17,17,17)",
           "landcolor": "rgb(17,17,17)",
           "showlakes": true,
           "showland": true,
           "subunitcolor": "#506784"
          },
          "hoverlabel": {
           "align": "left"
          },
          "hovermode": "closest",
          "mapbox": {
           "style": "dark"
          },
          "paper_bgcolor": "rgb(17,17,17)",
          "plot_bgcolor": "rgb(17,17,17)",
          "polar": {
           "angularaxis": {
            "gridcolor": "#506784",
            "linecolor": "#506784",
            "ticks": ""
           },
           "bgcolor": "rgb(17,17,17)",
           "radialaxis": {
            "gridcolor": "#506784",
            "linecolor": "#506784",
            "ticks": ""
           }
          },
          "scene": {
           "xaxis": {
            "backgroundcolor": "rgb(17,17,17)",
            "gridcolor": "#506784",
            "gridwidth": 2,
            "linecolor": "#506784",
            "showbackground": true,
            "ticks": "",
            "zerolinecolor": "#C8D4E3"
           },
           "yaxis": {
            "backgroundcolor": "rgb(17,17,17)",
            "gridcolor": "#506784",
            "gridwidth": 2,
            "linecolor": "#506784",
            "showbackground": true,
            "ticks": "",
            "zerolinecolor": "#C8D4E3"
           },
           "zaxis": {
            "backgroundcolor": "rgb(17,17,17)",
            "gridcolor": "#506784",
            "gridwidth": 2,
            "linecolor": "#506784",
            "showbackground": true,
            "ticks": "",
            "zerolinecolor": "#C8D4E3"
           }
          },
          "shapedefaults": {
           "line": {
            "color": "#f2f5fa"
           }
          },
          "sliderdefaults": {
           "bgcolor": "#C8D4E3",
           "bordercolor": "rgb(17,17,17)",
           "borderwidth": 1,
           "tickwidth": 0
          },
          "ternary": {
           "aaxis": {
            "gridcolor": "#506784",
            "linecolor": "#506784",
            "ticks": ""
           },
           "baxis": {
            "gridcolor": "#506784",
            "linecolor": "#506784",
            "ticks": ""
           },
           "bgcolor": "rgb(17,17,17)",
           "caxis": {
            "gridcolor": "#506784",
            "linecolor": "#506784",
            "ticks": ""
           }
          },
          "title": {
           "x": 0.05
          },
          "updatemenudefaults": {
           "bgcolor": "#506784",
           "borderwidth": 0
          },
          "xaxis": {
           "automargin": true,
           "gridcolor": "#283442",
           "linecolor": "#506784",
           "ticks": "",
           "title": {
            "standoff": 15
           },
           "zerolinecolor": "#283442",
           "zerolinewidth": 2
          },
          "yaxis": {
           "automargin": true,
           "gridcolor": "#283442",
           "linecolor": "#506784",
           "ticks": "",
           "title": {
            "standoff": 15
           },
           "zerolinecolor": "#283442",
           "zerolinewidth": 2
          }
         }
        },
        "xaxis": {
         "anchor": "y",
         "domain": [
          0,
          1
         ],
         "title": {
          "text": "Price"
         }
        },
        "yaxis": {
         "anchor": "x",
         "domain": [
          0,
          1
         ],
         "title": {
          "text": "count"
         }
        }
       }
      }
     },
     "metadata": {},
     "output_type": "display_data"
    }
   ],
   "source": [
    "fig = px.histogram(df2, x=\"Price\")\n",
    "fig.show()"
   ]
  },
  {
   "cell_type": "code",
   "execution_count": 85,
   "metadata": {},
   "outputs": [
    {
     "name": "stdout",
     "output_type": "stream",
     "text": [
      "<class 'pandas.core.frame.DataFrame'>\n",
      "RangeIndex: 267 entries, 4 to 270\n",
      "Data columns (total 25 columns):\n",
      " #   Column                   Non-Null Count  Dtype  \n",
      "---  ------                   --------------  -----  \n",
      " 0   ID                       267 non-null    object \n",
      " 1   Building                 267 non-null    object \n",
      " 2   Year of sale             195 non-null    object \n",
      " 3   Month of sale            195 non-null    object \n",
      " 4   Type of property         267 non-null    object \n",
      " 5   Property #               267 non-null    object \n",
      " 6   Area (ft.)               267 non-null    float64\n",
      " 7   Price                    267 non-null    float64\n",
      " 8   Status                   195 non-null    object \n",
      " 9   Customer ID              195 non-null    object \n",
      " 10  Entity                   195 non-null    object \n",
      " 11  Name                     195 non-null    object \n",
      " 12  Surname                  195 non-null    object \n",
      " 13  Age at time of purchase  179 non-null    object \n",
      " 14  Interval                 178 non-null    object \n",
      " 15  Y                        178 non-null    object \n",
      " 16  M                        178 non-null    object \n",
      " 17  D                        178 non-null    object \n",
      " 18  Gender                   178 non-null    object \n",
      " 19  Country                  195 non-null    object \n",
      " 20  State                    181 non-null    object \n",
      " 21  Purpose                  195 non-null    object \n",
      " 22  Deal satisfaction        195 non-null    object \n",
      " 23  Mortage                  195 non-null    object \n",
      " 24  Source                   195 non-null    object \n",
      "dtypes: float64(2), object(23)\n",
      "memory usage: 52.3+ KB\n"
     ]
    }
   ],
   "source": [
    "df2['Price'] = pd.to_numeric(df2['Price'])\n",
    "df2['Area (ft.)'] = pd.to_numeric(df2['Area (ft.)'])\n",
    "df2.info()"
   ]
  },
  {
   "cell_type": "code",
   "execution_count": 86,
   "metadata": {},
   "outputs": [
    {
     "data": {
      "application/vnd.plotly.v1+json": {
       "config": {
        "plotlyServerURL": "https://plot.ly"
       },
       "data": [
        {
         "hovertemplate": "Price=%{marker.size}<br>Area (ft.)=%{marker.color}<extra></extra>",
         "legendgroup": "",
         "marker": {
          "color": [
           743.0856,
           756.2128,
           587.2808,
           1604.7463999999998,
           1375.4507999999998,
           675.1899999999999,
           670.886,
           720.8123999999999,
           782.2520000000001,
           794.5184,
           1160.3584,
           1942.5028,
           794.5184,
           1109.2484,
           1400.9519999999998,
           1479.7152,
           790.5372,
           723.9328,
           781.0684,
           1127.7556,
           720.7048,
           649.6888,
           1307.4476,
           618.3772,
           625.8016,
           1203.2908,
           670.886,
           1434.0928,
           781.0684,
           1596.3536000000001,
           1110.3244,
           781.0684,
           697.8936,
           625.8016,
           957.5323999999999,
           722.9644,
           923.208,
           670.2404,
           785.48,
           798.2844,
           1121.9451999999999,
           782.2520000000001,
           923.208,
           1434.0928,
           1160.3584,
           798.2844,
           733.1863999999999,
           798.2844,
           733.1863999999999,
           717.0464,
           747.4972,
           1121.9451999999999,
           1121.9451999999999,
           827.8743999999999,
           747.4972,
           1608.8352,
           1132.0595999999998,
           1383.8436000000002,
           927.8348,
           669.1644,
           928.1576,
           798.4995999999999,
           1305.6184,
           1121.9451999999999,
           785.48,
           927.0816,
           1109.2484,
           649.7964,
           785.48,
           1596.3536000000001,
           1121.9451999999999,
           743.4084,
           756.2128,
           649.7964,
           785.48,
           785.48,
           1283.4528,
           1434.0928,
           782.2520000000001,
           1288.6176,
           781.0684,
           1222.336,
           781.0684,
           743.0856,
           785.48,
           1109.2484,
           579.7488,
           1128.4012,
           701.6596,
           1336.93,
           794.5184,
           1171.5488,
           794.5184,
           798.2844,
           798.2844,
           649.7964,
           1137.4396,
           1604.7463999999998,
           675.1899999999999,
           649.6888,
           785.48,
           781.0684,
           1127.7556,
           794.5184,
           794.5184,
           781.0684,
           720.8123999999999,
           927.8348,
           927.8348,
           785.48,
           618.162,
           1109.2484,
           720.7048,
           720.8123999999999,
           927.0816,
           798.2844,
           1057.9232,
           781.0684,
           1396.8632,
           794.5184,
           923.208,
           781.0684,
           782.2520000000001,
           733.1863999999999,
           733.1863999999999,
           794.5184,
           756.2128,
           736.6295999999999,
           785.48,
           781.0684,
           798.2844,
           798.2844,
           827.8743999999999,
           1160.3584,
           827.8743999999999,
           723.8252,
           798.2844,
           1238.5836,
           723.8252,
           977.8688,
           1093.0008,
           927.8348,
           701.6596,
           680.5699999999999,
           723.9328,
           649.7964,
           649.7964,
           785.48,
           785.48,
           1615.2912000000001,
           1132.0595999999998,
           720.3820000000001,
           733.1863999999999,
           782.2520000000001,
           798.2844,
           1057.9232,
           723.8252,
           798.2844,
           794.5184,
           794.5184,
           782.2520000000001,
           785.48,
           923.208,
           923.208,
           1434.0928,
           782.2520000000001,
           781.0684,
           618.3772,
           923.208,
           781.0684,
           781.0684,
           781.0684,
           697.8936,
           670.886,
           782.2520000000001,
           743.4084,
           923.208,
           923.208,
           1769.4819999999997,
           410.7092,
           1200.82,
           800.96,
           827.8743999999999,
           775.6884,
           775.6884,
           1604.7463999999998,
           587.2808,
           756.2128,
           743.0856,
           827.8743999999999,
           1160.3584,
           743.0856,
           1160.3584,
           625.8016,
           756.2128,
           625.8016,
           1238.5836,
           713.7108,
           763.2068,
           798.4995999999999,
           618.3772,
           1479.7152,
           1603.9932,
           1615.2912000000001,
           784.1887999999999,
           720.3820000000001,
           1596.3536000000001,
           1121.9451999999999,
           1596.3536000000001,
           1596.3536000000001,
           1273.8763999999999,
           966.5708,
           1357.1588,
           1343.386,
           758.6876000000001,
           789.2459999999999,
           789.2459999999999,
           733.1863999999999,
           1611.8480000000002,
           789.2459999999999,
           1611.8480000000002,
           789.2459999999999,
           794.5184,
           1611.8480000000002,
           789.2459999999999,
           794.5184,
           1611.8480000000002,
           789.2459999999999,
           794.5184,
           1111.7232,
           785.48,
           1058.2459999999999,
           791.7207999999999,
           1068.5756,
           1325.3092,
           1273.8763999999999,
           798.4995999999999,
           798.4995999999999,
           798.4995999999999,
           1058.2459999999999,
           618.162,
           1273.8763999999999,
           798.4995999999999,
           798.4995999999999,
           798.4995999999999,
           1058.2459999999999,
           1273.5536,
           798.4995999999999,
           798.4995999999999,
           798.2844,
           1057.9232,
           1273.5536,
           618.162,
           1273.5536,
           1057.9232,
           1273.5536,
           798.2844,
           1057.9232,
           606.326,
           1273.5536,
           798.2844,
           598.5788,
           1238.5836,
           794.5184,
           1013.2692,
           1074.7087999999999,
           789.2459999999999
          ],
          "coloraxis": "coloraxis",
          "size": [
           246172.676,
           246331.904,
           209280.9104,
           452667.00639999995,
           467083.3132,
           203491.84999999998,
           212520.826,
           198591.84879999998,
           265467.68000000005,
           235633.2592,
           317473.8608,
           503790.2308,
           217786.37600000002,
           460001.25599999994,
           460001.25599999994,
           448134.2688,
           249591.9948,
           196142.192,
           258572.4776,
           310831.2116,
           207281.5912,
           168834.0424,
           396973.8324,
           188743.1072,
           179674.0752,
           306363.6436,
           200300.634,
           382041.12799999997,
           245572.7936,
           407214.2896,
           355073.4032,
           256821.6404,
           226342.8032,
           191389.8688,
           297008.9652,
           250773.1452,
           312211.144,
           190119.50400000002,
           225050.52000000002,
           261742.742,
           344530.88879999996,
           215410.276,
           252185.992,
           480545.8096,
           300385.6176,
           240539.3476,
           222138.716,
           228410.054,
           197053.5144,
           193660.62079999998,
           237060.1488,
           372001.6968,
           290031.25879999995,
           238811.06399999998,
           199054.1992,
           496266.4064,
           346906.89319999993,
           376964.6156,
           315733.1536,
           188273.7304,
           253831.0248,
           278575.86879999994,
           402081.79600000003,
           310832.58759999997,
           257183.48,
           326885.336,
           344568.7428,
           214631.68039999998,
           237207.68,
           464549.1904,
           310577.03959999996,
           205098.2108,
           248525.11680000002,
           224463.86599999998,
           220606.28,
           220865,
           338181.18080000003,
           432679.91199999995,
           196220.048,
           323915.8112,
           200719.0152,
           380809.52,
           213942.5624,
           207581.4272,
           241671.52000000002,
           336695.2524,
           171262.6544,
           299159.1384,
           212265.66799999998,
           388515.14,
           263790.81440000003,
           367976.4576,
           243052.5904,
           269075.3016,
           223577.32,
           198075.992,
           354553.2324,
           456919.45599999995,
           233142.8,
           225401.6152,
           195153.16,
           206631.81,
           358525.59239999996,
           223917.336,
           201518.89440000002,
           269278.572,
           204808.16039999996,
           306878.45759999997,
           275394.2484,
           192092.24,
           165430.282,
           310223.29079999996,
           231552.32559999998,
           215774.28439999997,
           289727.9904,
           195874.944,
           357538.19519999996,
           239248.7512,
           382277.1488,
           248422.664,
           242740.656,
           253025.7772,
           234172.38800000004,
           200678.75119999997,
           226578.512,
           200148.89440000002,
           218585.9248,
           198841.69519999996,
           252927.84,
           225290.2204,
           234750.586,
           287466.4116,
           229464.7112,
           377313.5552,
           276759.18,
           219373.4056,
           230216.2192,
           410932.67319999996,
           214341.3364,
           248274.3136,
           390494.2712,
           293876.2748,
           204286.66679999998,
           230154.52999999997,
           228170.02560000002,
           205085.4048,
           177555.06399999998,
           217748.48,
           247739.44,
           484458.03040000005,
           356506.36999999994,
           197869.36400000003,
           236608.95279999997,
           208930.812,
           263123.4208,
           286433.57279999997,
           229581.7836,
           252053.0264,
           244820.66720000003,
           241620.48320000002,
           235762.34000000003,
           236639.56,
           294807.648,
           293828.68799999997,
           412856.56159999996,
           224076.836,
           258015.6144,
           153466.71240000002,
           261871.696,
           210038.6992,
           210824.0576,
           249075.6568,
           219865.7608,
           204292.49399999998,
           261579.89200000002,
           222867.42080000002,
           291494.36,
           296483.144,
           532877.384,
           117564.0716,
           317196.39999999997,
           264142.16000000003,
           222947.2088,
           250312.5344,
           246050.404,
           529317.2832,
           169158.2944,
           206958.712,
           206445.4232,
           239341.58079999997,
           398903.42240000004,
           210745.1664,
           331154.87840000005,
           204434.6784,
           189194.3072,
           204027.0912,
           400865.91599999997,
           217787.71039999998,
           219630.90120000002,
           244624.87199999997,
           163162.8792,
           401302.8192,
           538271.7356,
           461464.992,
           275812.4928,
           216552.71200000003,
           495570.44480000006,
           388656.80639999994,
           495024.0912,
           526947.1632000001,
           427236.09959999996,
           327044.3684,
           385447.6872,
           401894.81799999997,
           264275.7824,
           231348.92799999996,
           264238.94999999995,
           217357.6328,
           482404.31200000003,
           228937.89599999995,
           498994.03200000006,
           256376.27599999995,
           255243.1088,
           506786.66400000005,
           233172.48999999996,
           233834.00480000002,
           523373.4480000001,
           228872.91199999995,
           208655.6704,
           322952.5584,
           216826,
           298730.404,
           230495.00639999998,
           346048.04079999996,
           377043.5956,
           413761.70639999997,
           212644.39479999998,
           250415.38199999995,
           219252.89199999996,
           264011.698,
           211406.86800000002,
           396330.29079999996,
           227072.87839999996,
           276323.86559999996,
           230943.37959999996,
           315382.11,
           372016.5616,
           237680.87519999995,
           234032.88399999996,
           273165.57680000004,
           271227.49439999997,
           349865.22239999997,
           199730.734,
           338482.4544,
           351304.57759999996,
           338472.13279999996,
           212916.3568,
           308660.80319999997,
           147343.69400000002,
           448574.6704,
           255337.89800000002,
           175773.5856,
           322610.73919999995,
           279191.256,
           287996.5296,
           365868.7776,
           199216.40399999995
          ],
          "sizemode": "area",
          "sizeref": 1345.679339,
          "symbol": "circle"
         },
         "mode": "markers",
         "name": "",
         "orientation": "v",
         "showlegend": false,
         "type": "scatter",
         "x": [
          246172.676,
          246331.904,
          209280.9104,
          452667.00639999995,
          467083.3132,
          203491.84999999998,
          212520.826,
          198591.84879999998,
          265467.68000000005,
          235633.2592,
          317473.8608,
          503790.2308,
          217786.37600000002,
          460001.25599999994,
          460001.25599999994,
          448134.2688,
          249591.9948,
          196142.192,
          258572.4776,
          310831.2116,
          207281.5912,
          168834.0424,
          396973.8324,
          188743.1072,
          179674.0752,
          306363.6436,
          200300.634,
          382041.12799999997,
          245572.7936,
          407214.2896,
          355073.4032,
          256821.6404,
          226342.8032,
          191389.8688,
          297008.9652,
          250773.1452,
          312211.144,
          190119.50400000002,
          225050.52000000002,
          261742.742,
          344530.88879999996,
          215410.276,
          252185.992,
          480545.8096,
          300385.6176,
          240539.3476,
          222138.716,
          228410.054,
          197053.5144,
          193660.62079999998,
          237060.1488,
          372001.6968,
          290031.25879999995,
          238811.06399999998,
          199054.1992,
          496266.4064,
          346906.89319999993,
          376964.6156,
          315733.1536,
          188273.7304,
          253831.0248,
          278575.86879999994,
          402081.79600000003,
          310832.58759999997,
          257183.48,
          326885.336,
          344568.7428,
          214631.68039999998,
          237207.68,
          464549.1904,
          310577.03959999996,
          205098.2108,
          248525.11680000002,
          224463.86599999998,
          220606.28,
          220865,
          338181.18080000003,
          432679.91199999995,
          196220.048,
          323915.8112,
          200719.0152,
          380809.52,
          213942.5624,
          207581.4272,
          241671.52000000002,
          336695.2524,
          171262.6544,
          299159.1384,
          212265.66799999998,
          388515.14,
          263790.81440000003,
          367976.4576,
          243052.5904,
          269075.3016,
          223577.32,
          198075.992,
          354553.2324,
          456919.45599999995,
          233142.8,
          225401.6152,
          195153.16,
          206631.81,
          358525.59239999996,
          223917.336,
          201518.89440000002,
          269278.572,
          204808.16039999996,
          306878.45759999997,
          275394.2484,
          192092.24,
          165430.282,
          310223.29079999996,
          231552.32559999998,
          215774.28439999997,
          289727.9904,
          195874.944,
          357538.19519999996,
          239248.7512,
          382277.1488,
          248422.664,
          242740.656,
          253025.7772,
          234172.38800000004,
          200678.75119999997,
          226578.512,
          200148.89440000002,
          218585.9248,
          198841.69519999996,
          252927.84,
          225290.2204,
          234750.586,
          287466.4116,
          229464.7112,
          377313.5552,
          276759.18,
          219373.4056,
          230216.2192,
          410932.67319999996,
          214341.3364,
          248274.3136,
          390494.2712,
          293876.2748,
          204286.66679999998,
          230154.52999999997,
          228170.02560000002,
          205085.4048,
          177555.06399999998,
          217748.48,
          247739.44,
          484458.03040000005,
          356506.36999999994,
          197869.36400000003,
          236608.95279999997,
          208930.812,
          263123.4208,
          286433.57279999997,
          229581.7836,
          252053.0264,
          244820.66720000003,
          241620.48320000002,
          235762.34000000003,
          236639.56,
          294807.648,
          293828.68799999997,
          412856.56159999996,
          224076.836,
          258015.6144,
          153466.71240000002,
          261871.696,
          210038.6992,
          210824.0576,
          249075.6568,
          219865.7608,
          204292.49399999998,
          261579.89200000002,
          222867.42080000002,
          291494.36,
          296483.144,
          532877.384,
          117564.0716,
          317196.39999999997,
          264142.16000000003,
          222947.2088,
          250312.5344,
          246050.404,
          529317.2832,
          169158.2944,
          206958.712,
          206445.4232,
          239341.58079999997,
          398903.42240000004,
          210745.1664,
          331154.87840000005,
          204434.6784,
          189194.3072,
          204027.0912,
          400865.91599999997,
          217787.71039999998,
          219630.90120000002,
          244624.87199999997,
          163162.8792,
          401302.8192,
          538271.7356,
          461464.992,
          275812.4928,
          216552.71200000003,
          495570.44480000006,
          388656.80639999994,
          495024.0912,
          526947.1632000001,
          427236.09959999996,
          327044.3684,
          385447.6872,
          401894.81799999997,
          264275.7824,
          231348.92799999996,
          264238.94999999995,
          217357.6328,
          482404.31200000003,
          228937.89599999995,
          498994.03200000006,
          256376.27599999995,
          255243.1088,
          506786.66400000005,
          233172.48999999996,
          233834.00480000002,
          523373.4480000001,
          228872.91199999995,
          208655.6704,
          322952.5584,
          216826,
          298730.404,
          230495.00639999998,
          346048.04079999996,
          377043.5956,
          413761.70639999997,
          212644.39479999998,
          250415.38199999995,
          219252.89199999996,
          264011.698,
          211406.86800000002,
          396330.29079999996,
          227072.87839999996,
          276323.86559999996,
          230943.37959999996,
          315382.11,
          372016.5616,
          237680.87519999995,
          234032.88399999996,
          273165.57680000004,
          271227.49439999997,
          349865.22239999997,
          199730.734,
          338482.4544,
          351304.57759999996,
          338472.13279999996,
          212916.3568,
          308660.80319999997,
          147343.69400000002,
          448574.6704,
          255337.89800000002,
          175773.5856,
          322610.73919999995,
          279191.256,
          287996.5296,
          365868.7776,
          199216.40399999995
         ],
         "xaxis": "x",
         "y": [
          743.0856,
          756.2128,
          587.2808,
          1604.7463999999998,
          1375.4507999999998,
          675.1899999999999,
          670.886,
          720.8123999999999,
          782.2520000000001,
          794.5184,
          1160.3584,
          1942.5028,
          794.5184,
          1109.2484,
          1400.9519999999998,
          1479.7152,
          790.5372,
          723.9328,
          781.0684,
          1127.7556,
          720.7048,
          649.6888,
          1307.4476,
          618.3772,
          625.8016,
          1203.2908,
          670.886,
          1434.0928,
          781.0684,
          1596.3536000000001,
          1110.3244,
          781.0684,
          697.8936,
          625.8016,
          957.5323999999999,
          722.9644,
          923.208,
          670.2404,
          785.48,
          798.2844,
          1121.9451999999999,
          782.2520000000001,
          923.208,
          1434.0928,
          1160.3584,
          798.2844,
          733.1863999999999,
          798.2844,
          733.1863999999999,
          717.0464,
          747.4972,
          1121.9451999999999,
          1121.9451999999999,
          827.8743999999999,
          747.4972,
          1608.8352,
          1132.0595999999998,
          1383.8436000000002,
          927.8348,
          669.1644,
          928.1576,
          798.4995999999999,
          1305.6184,
          1121.9451999999999,
          785.48,
          927.0816,
          1109.2484,
          649.7964,
          785.48,
          1596.3536000000001,
          1121.9451999999999,
          743.4084,
          756.2128,
          649.7964,
          785.48,
          785.48,
          1283.4528,
          1434.0928,
          782.2520000000001,
          1288.6176,
          781.0684,
          1222.336,
          781.0684,
          743.0856,
          785.48,
          1109.2484,
          579.7488,
          1128.4012,
          701.6596,
          1336.93,
          794.5184,
          1171.5488,
          794.5184,
          798.2844,
          798.2844,
          649.7964,
          1137.4396,
          1604.7463999999998,
          675.1899999999999,
          649.6888,
          785.48,
          781.0684,
          1127.7556,
          794.5184,
          794.5184,
          781.0684,
          720.8123999999999,
          927.8348,
          927.8348,
          785.48,
          618.162,
          1109.2484,
          720.7048,
          720.8123999999999,
          927.0816,
          798.2844,
          1057.9232,
          781.0684,
          1396.8632,
          794.5184,
          923.208,
          781.0684,
          782.2520000000001,
          733.1863999999999,
          733.1863999999999,
          794.5184,
          756.2128,
          736.6295999999999,
          785.48,
          781.0684,
          798.2844,
          798.2844,
          827.8743999999999,
          1160.3584,
          827.8743999999999,
          723.8252,
          798.2844,
          1238.5836,
          723.8252,
          977.8688,
          1093.0008,
          927.8348,
          701.6596,
          680.5699999999999,
          723.9328,
          649.7964,
          649.7964,
          785.48,
          785.48,
          1615.2912000000001,
          1132.0595999999998,
          720.3820000000001,
          733.1863999999999,
          782.2520000000001,
          798.2844,
          1057.9232,
          723.8252,
          798.2844,
          794.5184,
          794.5184,
          782.2520000000001,
          785.48,
          923.208,
          923.208,
          1434.0928,
          782.2520000000001,
          781.0684,
          618.3772,
          923.208,
          781.0684,
          781.0684,
          781.0684,
          697.8936,
          670.886,
          782.2520000000001,
          743.4084,
          923.208,
          923.208,
          1769.4819999999997,
          410.7092,
          1200.82,
          800.96,
          827.8743999999999,
          775.6884,
          775.6884,
          1604.7463999999998,
          587.2808,
          756.2128,
          743.0856,
          827.8743999999999,
          1160.3584,
          743.0856,
          1160.3584,
          625.8016,
          756.2128,
          625.8016,
          1238.5836,
          713.7108,
          763.2068,
          798.4995999999999,
          618.3772,
          1479.7152,
          1603.9932,
          1615.2912000000001,
          784.1887999999999,
          720.3820000000001,
          1596.3536000000001,
          1121.9451999999999,
          1596.3536000000001,
          1596.3536000000001,
          1273.8763999999999,
          966.5708,
          1357.1588,
          1343.386,
          758.6876000000001,
          789.2459999999999,
          789.2459999999999,
          733.1863999999999,
          1611.8480000000002,
          789.2459999999999,
          1611.8480000000002,
          789.2459999999999,
          794.5184,
          1611.8480000000002,
          789.2459999999999,
          794.5184,
          1611.8480000000002,
          789.2459999999999,
          794.5184,
          1111.7232,
          785.48,
          1058.2459999999999,
          791.7207999999999,
          1068.5756,
          1325.3092,
          1273.8763999999999,
          798.4995999999999,
          798.4995999999999,
          798.4995999999999,
          1058.2459999999999,
          618.162,
          1273.8763999999999,
          798.4995999999999,
          798.4995999999999,
          798.4995999999999,
          1058.2459999999999,
          1273.5536,
          798.4995999999999,
          798.4995999999999,
          798.2844,
          1057.9232,
          1273.5536,
          618.162,
          1273.5536,
          1057.9232,
          1273.5536,
          798.2844,
          1057.9232,
          606.326,
          1273.5536,
          798.2844,
          598.5788,
          1238.5836,
          794.5184,
          1013.2692,
          1074.7087999999999,
          789.2459999999999
         ],
         "yaxis": "y"
        }
       ],
       "layout": {
        "coloraxis": {
         "colorbar": {
          "title": {
           "text": "Area (ft.)"
          }
         },
         "colorscale": [
          [
           0,
           "#0d0887"
          ],
          [
           0.1111111111111111,
           "#46039f"
          ],
          [
           0.2222222222222222,
           "#7201a8"
          ],
          [
           0.3333333333333333,
           "#9c179e"
          ],
          [
           0.4444444444444444,
           "#bd3786"
          ],
          [
           0.5555555555555556,
           "#d8576b"
          ],
          [
           0.6666666666666666,
           "#ed7953"
          ],
          [
           0.7777777777777778,
           "#fb9f3a"
          ],
          [
           0.8888888888888888,
           "#fdca26"
          ],
          [
           1,
           "#f0f921"
          ]
         ]
        },
        "legend": {
         "itemsizing": "constant",
         "tracegroupgap": 0
        },
        "margin": {
         "t": 60
        },
        "template": {
         "data": {
          "bar": [
           {
            "error_x": {
             "color": "#f2f5fa"
            },
            "error_y": {
             "color": "#f2f5fa"
            },
            "marker": {
             "line": {
              "color": "rgb(17,17,17)",
              "width": 0.5
             },
             "pattern": {
              "fillmode": "overlay",
              "size": 10,
              "solidity": 0.2
             }
            },
            "type": "bar"
           }
          ],
          "barpolar": [
           {
            "marker": {
             "line": {
              "color": "rgb(17,17,17)",
              "width": 0.5
             },
             "pattern": {
              "fillmode": "overlay",
              "size": 10,
              "solidity": 0.2
             }
            },
            "type": "barpolar"
           }
          ],
          "carpet": [
           {
            "aaxis": {
             "endlinecolor": "#A2B1C6",
             "gridcolor": "#506784",
             "linecolor": "#506784",
             "minorgridcolor": "#506784",
             "startlinecolor": "#A2B1C6"
            },
            "baxis": {
             "endlinecolor": "#A2B1C6",
             "gridcolor": "#506784",
             "linecolor": "#506784",
             "minorgridcolor": "#506784",
             "startlinecolor": "#A2B1C6"
            },
            "type": "carpet"
           }
          ],
          "choropleth": [
           {
            "colorbar": {
             "outlinewidth": 0,
             "ticks": ""
            },
            "type": "choropleth"
           }
          ],
          "contour": [
           {
            "colorbar": {
             "outlinewidth": 0,
             "ticks": ""
            },
            "colorscale": [
             [
              0,
              "#0d0887"
             ],
             [
              0.1111111111111111,
              "#46039f"
             ],
             [
              0.2222222222222222,
              "#7201a8"
             ],
             [
              0.3333333333333333,
              "#9c179e"
             ],
             [
              0.4444444444444444,
              "#bd3786"
             ],
             [
              0.5555555555555556,
              "#d8576b"
             ],
             [
              0.6666666666666666,
              "#ed7953"
             ],
             [
              0.7777777777777778,
              "#fb9f3a"
             ],
             [
              0.8888888888888888,
              "#fdca26"
             ],
             [
              1,
              "#f0f921"
             ]
            ],
            "type": "contour"
           }
          ],
          "contourcarpet": [
           {
            "colorbar": {
             "outlinewidth": 0,
             "ticks": ""
            },
            "type": "contourcarpet"
           }
          ],
          "heatmap": [
           {
            "colorbar": {
             "outlinewidth": 0,
             "ticks": ""
            },
            "colorscale": [
             [
              0,
              "#0d0887"
             ],
             [
              0.1111111111111111,
              "#46039f"
             ],
             [
              0.2222222222222222,
              "#7201a8"
             ],
             [
              0.3333333333333333,
              "#9c179e"
             ],
             [
              0.4444444444444444,
              "#bd3786"
             ],
             [
              0.5555555555555556,
              "#d8576b"
             ],
             [
              0.6666666666666666,
              "#ed7953"
             ],
             [
              0.7777777777777778,
              "#fb9f3a"
             ],
             [
              0.8888888888888888,
              "#fdca26"
             ],
             [
              1,
              "#f0f921"
             ]
            ],
            "type": "heatmap"
           }
          ],
          "heatmapgl": [
           {
            "colorbar": {
             "outlinewidth": 0,
             "ticks": ""
            },
            "colorscale": [
             [
              0,
              "#0d0887"
             ],
             [
              0.1111111111111111,
              "#46039f"
             ],
             [
              0.2222222222222222,
              "#7201a8"
             ],
             [
              0.3333333333333333,
              "#9c179e"
             ],
             [
              0.4444444444444444,
              "#bd3786"
             ],
             [
              0.5555555555555556,
              "#d8576b"
             ],
             [
              0.6666666666666666,
              "#ed7953"
             ],
             [
              0.7777777777777778,
              "#fb9f3a"
             ],
             [
              0.8888888888888888,
              "#fdca26"
             ],
             [
              1,
              "#f0f921"
             ]
            ],
            "type": "heatmapgl"
           }
          ],
          "histogram": [
           {
            "marker": {
             "pattern": {
              "fillmode": "overlay",
              "size": 10,
              "solidity": 0.2
             }
            },
            "type": "histogram"
           }
          ],
          "histogram2d": [
           {
            "colorbar": {
             "outlinewidth": 0,
             "ticks": ""
            },
            "colorscale": [
             [
              0,
              "#0d0887"
             ],
             [
              0.1111111111111111,
              "#46039f"
             ],
             [
              0.2222222222222222,
              "#7201a8"
             ],
             [
              0.3333333333333333,
              "#9c179e"
             ],
             [
              0.4444444444444444,
              "#bd3786"
             ],
             [
              0.5555555555555556,
              "#d8576b"
             ],
             [
              0.6666666666666666,
              "#ed7953"
             ],
             [
              0.7777777777777778,
              "#fb9f3a"
             ],
             [
              0.8888888888888888,
              "#fdca26"
             ],
             [
              1,
              "#f0f921"
             ]
            ],
            "type": "histogram2d"
           }
          ],
          "histogram2dcontour": [
           {
            "colorbar": {
             "outlinewidth": 0,
             "ticks": ""
            },
            "colorscale": [
             [
              0,
              "#0d0887"
             ],
             [
              0.1111111111111111,
              "#46039f"
             ],
             [
              0.2222222222222222,
              "#7201a8"
             ],
             [
              0.3333333333333333,
              "#9c179e"
             ],
             [
              0.4444444444444444,
              "#bd3786"
             ],
             [
              0.5555555555555556,
              "#d8576b"
             ],
             [
              0.6666666666666666,
              "#ed7953"
             ],
             [
              0.7777777777777778,
              "#fb9f3a"
             ],
             [
              0.8888888888888888,
              "#fdca26"
             ],
             [
              1,
              "#f0f921"
             ]
            ],
            "type": "histogram2dcontour"
           }
          ],
          "mesh3d": [
           {
            "colorbar": {
             "outlinewidth": 0,
             "ticks": ""
            },
            "type": "mesh3d"
           }
          ],
          "parcoords": [
           {
            "line": {
             "colorbar": {
              "outlinewidth": 0,
              "ticks": ""
             }
            },
            "type": "parcoords"
           }
          ],
          "pie": [
           {
            "automargin": true,
            "type": "pie"
           }
          ],
          "scatter": [
           {
            "marker": {
             "line": {
              "color": "#283442"
             }
            },
            "type": "scatter"
           }
          ],
          "scatter3d": [
           {
            "line": {
             "colorbar": {
              "outlinewidth": 0,
              "ticks": ""
             }
            },
            "marker": {
             "colorbar": {
              "outlinewidth": 0,
              "ticks": ""
             }
            },
            "type": "scatter3d"
           }
          ],
          "scattercarpet": [
           {
            "marker": {
             "colorbar": {
              "outlinewidth": 0,
              "ticks": ""
             }
            },
            "type": "scattercarpet"
           }
          ],
          "scattergeo": [
           {
            "marker": {
             "colorbar": {
              "outlinewidth": 0,
              "ticks": ""
             }
            },
            "type": "scattergeo"
           }
          ],
          "scattergl": [
           {
            "marker": {
             "line": {
              "color": "#283442"
             }
            },
            "type": "scattergl"
           }
          ],
          "scattermapbox": [
           {
            "marker": {
             "colorbar": {
              "outlinewidth": 0,
              "ticks": ""
             }
            },
            "type": "scattermapbox"
           }
          ],
          "scatterpolar": [
           {
            "marker": {
             "colorbar": {
              "outlinewidth": 0,
              "ticks": ""
             }
            },
            "type": "scatterpolar"
           }
          ],
          "scatterpolargl": [
           {
            "marker": {
             "colorbar": {
              "outlinewidth": 0,
              "ticks": ""
             }
            },
            "type": "scatterpolargl"
           }
          ],
          "scatterternary": [
           {
            "marker": {
             "colorbar": {
              "outlinewidth": 0,
              "ticks": ""
             }
            },
            "type": "scatterternary"
           }
          ],
          "surface": [
           {
            "colorbar": {
             "outlinewidth": 0,
             "ticks": ""
            },
            "colorscale": [
             [
              0,
              "#0d0887"
             ],
             [
              0.1111111111111111,
              "#46039f"
             ],
             [
              0.2222222222222222,
              "#7201a8"
             ],
             [
              0.3333333333333333,
              "#9c179e"
             ],
             [
              0.4444444444444444,
              "#bd3786"
             ],
             [
              0.5555555555555556,
              "#d8576b"
             ],
             [
              0.6666666666666666,
              "#ed7953"
             ],
             [
              0.7777777777777778,
              "#fb9f3a"
             ],
             [
              0.8888888888888888,
              "#fdca26"
             ],
             [
              1,
              "#f0f921"
             ]
            ],
            "type": "surface"
           }
          ],
          "table": [
           {
            "cells": {
             "fill": {
              "color": "#506784"
             },
             "line": {
              "color": "rgb(17,17,17)"
             }
            },
            "header": {
             "fill": {
              "color": "#2a3f5f"
             },
             "line": {
              "color": "rgb(17,17,17)"
             }
            },
            "type": "table"
           }
          ]
         },
         "layout": {
          "annotationdefaults": {
           "arrowcolor": "#f2f5fa",
           "arrowhead": 0,
           "arrowwidth": 1
          },
          "autotypenumbers": "strict",
          "coloraxis": {
           "colorbar": {
            "outlinewidth": 0,
            "ticks": ""
           }
          },
          "colorscale": {
           "diverging": [
            [
             0,
             "#8e0152"
            ],
            [
             0.1,
             "#c51b7d"
            ],
            [
             0.2,
             "#de77ae"
            ],
            [
             0.3,
             "#f1b6da"
            ],
            [
             0.4,
             "#fde0ef"
            ],
            [
             0.5,
             "#f7f7f7"
            ],
            [
             0.6,
             "#e6f5d0"
            ],
            [
             0.7,
             "#b8e186"
            ],
            [
             0.8,
             "#7fbc41"
            ],
            [
             0.9,
             "#4d9221"
            ],
            [
             1,
             "#276419"
            ]
           ],
           "sequential": [
            [
             0,
             "#0d0887"
            ],
            [
             0.1111111111111111,
             "#46039f"
            ],
            [
             0.2222222222222222,
             "#7201a8"
            ],
            [
             0.3333333333333333,
             "#9c179e"
            ],
            [
             0.4444444444444444,
             "#bd3786"
            ],
            [
             0.5555555555555556,
             "#d8576b"
            ],
            [
             0.6666666666666666,
             "#ed7953"
            ],
            [
             0.7777777777777778,
             "#fb9f3a"
            ],
            [
             0.8888888888888888,
             "#fdca26"
            ],
            [
             1,
             "#f0f921"
            ]
           ],
           "sequentialminus": [
            [
             0,
             "#0d0887"
            ],
            [
             0.1111111111111111,
             "#46039f"
            ],
            [
             0.2222222222222222,
             "#7201a8"
            ],
            [
             0.3333333333333333,
             "#9c179e"
            ],
            [
             0.4444444444444444,
             "#bd3786"
            ],
            [
             0.5555555555555556,
             "#d8576b"
            ],
            [
             0.6666666666666666,
             "#ed7953"
            ],
            [
             0.7777777777777778,
             "#fb9f3a"
            ],
            [
             0.8888888888888888,
             "#fdca26"
            ],
            [
             1,
             "#f0f921"
            ]
           ]
          },
          "colorway": [
           "#636efa",
           "#EF553B",
           "#00cc96",
           "#ab63fa",
           "#FFA15A",
           "#19d3f3",
           "#FF6692",
           "#B6E880",
           "#FF97FF",
           "#FECB52"
          ],
          "font": {
           "color": "#f2f5fa"
          },
          "geo": {
           "bgcolor": "rgb(17,17,17)",
           "lakecolor": "rgb(17,17,17)",
           "landcolor": "rgb(17,17,17)",
           "showlakes": true,
           "showland": true,
           "subunitcolor": "#506784"
          },
          "hoverlabel": {
           "align": "left"
          },
          "hovermode": "closest",
          "mapbox": {
           "style": "dark"
          },
          "paper_bgcolor": "rgb(17,17,17)",
          "plot_bgcolor": "rgb(17,17,17)",
          "polar": {
           "angularaxis": {
            "gridcolor": "#506784",
            "linecolor": "#506784",
            "ticks": ""
           },
           "bgcolor": "rgb(17,17,17)",
           "radialaxis": {
            "gridcolor": "#506784",
            "linecolor": "#506784",
            "ticks": ""
           }
          },
          "scene": {
           "xaxis": {
            "backgroundcolor": "rgb(17,17,17)",
            "gridcolor": "#506784",
            "gridwidth": 2,
            "linecolor": "#506784",
            "showbackground": true,
            "ticks": "",
            "zerolinecolor": "#C8D4E3"
           },
           "yaxis": {
            "backgroundcolor": "rgb(17,17,17)",
            "gridcolor": "#506784",
            "gridwidth": 2,
            "linecolor": "#506784",
            "showbackground": true,
            "ticks": "",
            "zerolinecolor": "#C8D4E3"
           },
           "zaxis": {
            "backgroundcolor": "rgb(17,17,17)",
            "gridcolor": "#506784",
            "gridwidth": 2,
            "linecolor": "#506784",
            "showbackground": true,
            "ticks": "",
            "zerolinecolor": "#C8D4E3"
           }
          },
          "shapedefaults": {
           "line": {
            "color": "#f2f5fa"
           }
          },
          "sliderdefaults": {
           "bgcolor": "#C8D4E3",
           "bordercolor": "rgb(17,17,17)",
           "borderwidth": 1,
           "tickwidth": 0
          },
          "ternary": {
           "aaxis": {
            "gridcolor": "#506784",
            "linecolor": "#506784",
            "ticks": ""
           },
           "baxis": {
            "gridcolor": "#506784",
            "linecolor": "#506784",
            "ticks": ""
           },
           "bgcolor": "rgb(17,17,17)",
           "caxis": {
            "gridcolor": "#506784",
            "linecolor": "#506784",
            "ticks": ""
           }
          },
          "title": {
           "x": 0.05
          },
          "updatemenudefaults": {
           "bgcolor": "#506784",
           "borderwidth": 0
          },
          "xaxis": {
           "automargin": true,
           "gridcolor": "#283442",
           "linecolor": "#506784",
           "ticks": "",
           "title": {
            "standoff": 15
           },
           "zerolinecolor": "#283442",
           "zerolinewidth": 2
          },
          "yaxis": {
           "automargin": true,
           "gridcolor": "#283442",
           "linecolor": "#506784",
           "ticks": "",
           "title": {
            "standoff": 15
           },
           "zerolinecolor": "#283442",
           "zerolinewidth": 2
          }
         }
        },
        "xaxis": {
         "anchor": "y",
         "domain": [
          0,
          1
         ],
         "title": {
          "text": "Price"
         }
        },
        "yaxis": {
         "anchor": "x",
         "domain": [
          0,
          1
         ],
         "title": {
          "text": "Area (ft.)"
         }
        }
       }
      }
     },
     "metadata": {},
     "output_type": "display_data"
    }
   ],
   "source": [
    "fig = px.scatter(df2, x=\"Price\", y=\"Area (ft.)\", color=\"Area (ft.)\",\n",
    "                 size='Price', hover_data=['Price'])\n",
    "fig.show()"
   ]
  },
  {
   "cell_type": "code",
   "execution_count": 87,
   "metadata": {},
   "outputs": [
    {
     "data": {
      "application/vnd.plotly.v1+json": {
       "config": {
        "plotlyServerURL": "https://plot.ly"
       },
       "data": [
        {
         "hovertemplate": "Area (ft.)=%{marker.size}<br>Price=%{marker.color}<extra></extra>",
         "legendgroup": "",
         "marker": {
          "color": [
           246172.676,
           246331.904,
           209280.9104,
           452667.00639999995,
           467083.3132,
           203491.84999999998,
           212520.826,
           198591.84879999998,
           265467.68000000005,
           235633.2592,
           317473.8608,
           503790.2308,
           217786.37600000002,
           460001.25599999994,
           460001.25599999994,
           448134.2688,
           249591.9948,
           196142.192,
           258572.4776,
           310831.2116,
           207281.5912,
           168834.0424,
           396973.8324,
           188743.1072,
           179674.0752,
           306363.6436,
           200300.634,
           382041.12799999997,
           245572.7936,
           407214.2896,
           355073.4032,
           256821.6404,
           226342.8032,
           191389.8688,
           297008.9652,
           250773.1452,
           312211.144,
           190119.50400000002,
           225050.52000000002,
           261742.742,
           344530.88879999996,
           215410.276,
           252185.992,
           480545.8096,
           300385.6176,
           240539.3476,
           222138.716,
           228410.054,
           197053.5144,
           193660.62079999998,
           237060.1488,
           372001.6968,
           290031.25879999995,
           238811.06399999998,
           199054.1992,
           496266.4064,
           346906.89319999993,
           376964.6156,
           315733.1536,
           188273.7304,
           253831.0248,
           278575.86879999994,
           402081.79600000003,
           310832.58759999997,
           257183.48,
           326885.336,
           344568.7428,
           214631.68039999998,
           237207.68,
           464549.1904,
           310577.03959999996,
           205098.2108,
           248525.11680000002,
           224463.86599999998,
           220606.28,
           220865,
           338181.18080000003,
           432679.91199999995,
           196220.048,
           323915.8112,
           200719.0152,
           380809.52,
           213942.5624,
           207581.4272,
           241671.52000000002,
           336695.2524,
           171262.6544,
           299159.1384,
           212265.66799999998,
           388515.14,
           263790.81440000003,
           367976.4576,
           243052.5904,
           269075.3016,
           223577.32,
           198075.992,
           354553.2324,
           456919.45599999995,
           233142.8,
           225401.6152,
           195153.16,
           206631.81,
           358525.59239999996,
           223917.336,
           201518.89440000002,
           269278.572,
           204808.16039999996,
           306878.45759999997,
           275394.2484,
           192092.24,
           165430.282,
           310223.29079999996,
           231552.32559999998,
           215774.28439999997,
           289727.9904,
           195874.944,
           357538.19519999996,
           239248.7512,
           382277.1488,
           248422.664,
           242740.656,
           253025.7772,
           234172.38800000004,
           200678.75119999997,
           226578.512,
           200148.89440000002,
           218585.9248,
           198841.69519999996,
           252927.84,
           225290.2204,
           234750.586,
           287466.4116,
           229464.7112,
           377313.5552,
           276759.18,
           219373.4056,
           230216.2192,
           410932.67319999996,
           214341.3364,
           248274.3136,
           390494.2712,
           293876.2748,
           204286.66679999998,
           230154.52999999997,
           228170.02560000002,
           205085.4048,
           177555.06399999998,
           217748.48,
           247739.44,
           484458.03040000005,
           356506.36999999994,
           197869.36400000003,
           236608.95279999997,
           208930.812,
           263123.4208,
           286433.57279999997,
           229581.7836,
           252053.0264,
           244820.66720000003,
           241620.48320000002,
           235762.34000000003,
           236639.56,
           294807.648,
           293828.68799999997,
           412856.56159999996,
           224076.836,
           258015.6144,
           153466.71240000002,
           261871.696,
           210038.6992,
           210824.0576,
           249075.6568,
           219865.7608,
           204292.49399999998,
           261579.89200000002,
           222867.42080000002,
           291494.36,
           296483.144,
           532877.384,
           117564.0716,
           317196.39999999997,
           264142.16000000003,
           222947.2088,
           250312.5344,
           246050.404,
           529317.2832,
           169158.2944,
           206958.712,
           206445.4232,
           239341.58079999997,
           398903.42240000004,
           210745.1664,
           331154.87840000005,
           204434.6784,
           189194.3072,
           204027.0912,
           400865.91599999997,
           217787.71039999998,
           219630.90120000002,
           244624.87199999997,
           163162.8792,
           401302.8192,
           538271.7356,
           461464.992,
           275812.4928,
           216552.71200000003,
           495570.44480000006,
           388656.80639999994,
           495024.0912,
           526947.1632000001,
           427236.09959999996,
           327044.3684,
           385447.6872,
           401894.81799999997,
           264275.7824,
           231348.92799999996,
           264238.94999999995,
           217357.6328,
           482404.31200000003,
           228937.89599999995,
           498994.03200000006,
           256376.27599999995,
           255243.1088,
           506786.66400000005,
           233172.48999999996,
           233834.00480000002,
           523373.4480000001,
           228872.91199999995,
           208655.6704,
           322952.5584,
           216826,
           298730.404,
           230495.00639999998,
           346048.04079999996,
           377043.5956,
           413761.70639999997,
           212644.39479999998,
           250415.38199999995,
           219252.89199999996,
           264011.698,
           211406.86800000002,
           396330.29079999996,
           227072.87839999996,
           276323.86559999996,
           230943.37959999996,
           315382.11,
           372016.5616,
           237680.87519999995,
           234032.88399999996,
           273165.57680000004,
           271227.49439999997,
           349865.22239999997,
           199730.734,
           338482.4544,
           351304.57759999996,
           338472.13279999996,
           212916.3568,
           308660.80319999997,
           147343.69400000002,
           448574.6704,
           255337.89800000002,
           175773.5856,
           322610.73919999995,
           279191.256,
           287996.5296,
           365868.7776,
           199216.40399999995
          ],
          "coloraxis": "coloraxis",
          "size": [
           743.0856,
           756.2128,
           587.2808,
           1604.7463999999998,
           1375.4507999999998,
           675.1899999999999,
           670.886,
           720.8123999999999,
           782.2520000000001,
           794.5184,
           1160.3584,
           1942.5028,
           794.5184,
           1109.2484,
           1400.9519999999998,
           1479.7152,
           790.5372,
           723.9328,
           781.0684,
           1127.7556,
           720.7048,
           649.6888,
           1307.4476,
           618.3772,
           625.8016,
           1203.2908,
           670.886,
           1434.0928,
           781.0684,
           1596.3536000000001,
           1110.3244,
           781.0684,
           697.8936,
           625.8016,
           957.5323999999999,
           722.9644,
           923.208,
           670.2404,
           785.48,
           798.2844,
           1121.9451999999999,
           782.2520000000001,
           923.208,
           1434.0928,
           1160.3584,
           798.2844,
           733.1863999999999,
           798.2844,
           733.1863999999999,
           717.0464,
           747.4972,
           1121.9451999999999,
           1121.9451999999999,
           827.8743999999999,
           747.4972,
           1608.8352,
           1132.0595999999998,
           1383.8436000000002,
           927.8348,
           669.1644,
           928.1576,
           798.4995999999999,
           1305.6184,
           1121.9451999999999,
           785.48,
           927.0816,
           1109.2484,
           649.7964,
           785.48,
           1596.3536000000001,
           1121.9451999999999,
           743.4084,
           756.2128,
           649.7964,
           785.48,
           785.48,
           1283.4528,
           1434.0928,
           782.2520000000001,
           1288.6176,
           781.0684,
           1222.336,
           781.0684,
           743.0856,
           785.48,
           1109.2484,
           579.7488,
           1128.4012,
           701.6596,
           1336.93,
           794.5184,
           1171.5488,
           794.5184,
           798.2844,
           798.2844,
           649.7964,
           1137.4396,
           1604.7463999999998,
           675.1899999999999,
           649.6888,
           785.48,
           781.0684,
           1127.7556,
           794.5184,
           794.5184,
           781.0684,
           720.8123999999999,
           927.8348,
           927.8348,
           785.48,
           618.162,
           1109.2484,
           720.7048,
           720.8123999999999,
           927.0816,
           798.2844,
           1057.9232,
           781.0684,
           1396.8632,
           794.5184,
           923.208,
           781.0684,
           782.2520000000001,
           733.1863999999999,
           733.1863999999999,
           794.5184,
           756.2128,
           736.6295999999999,
           785.48,
           781.0684,
           798.2844,
           798.2844,
           827.8743999999999,
           1160.3584,
           827.8743999999999,
           723.8252,
           798.2844,
           1238.5836,
           723.8252,
           977.8688,
           1093.0008,
           927.8348,
           701.6596,
           680.5699999999999,
           723.9328,
           649.7964,
           649.7964,
           785.48,
           785.48,
           1615.2912000000001,
           1132.0595999999998,
           720.3820000000001,
           733.1863999999999,
           782.2520000000001,
           798.2844,
           1057.9232,
           723.8252,
           798.2844,
           794.5184,
           794.5184,
           782.2520000000001,
           785.48,
           923.208,
           923.208,
           1434.0928,
           782.2520000000001,
           781.0684,
           618.3772,
           923.208,
           781.0684,
           781.0684,
           781.0684,
           697.8936,
           670.886,
           782.2520000000001,
           743.4084,
           923.208,
           923.208,
           1769.4819999999997,
           410.7092,
           1200.82,
           800.96,
           827.8743999999999,
           775.6884,
           775.6884,
           1604.7463999999998,
           587.2808,
           756.2128,
           743.0856,
           827.8743999999999,
           1160.3584,
           743.0856,
           1160.3584,
           625.8016,
           756.2128,
           625.8016,
           1238.5836,
           713.7108,
           763.2068,
           798.4995999999999,
           618.3772,
           1479.7152,
           1603.9932,
           1615.2912000000001,
           784.1887999999999,
           720.3820000000001,
           1596.3536000000001,
           1121.9451999999999,
           1596.3536000000001,
           1596.3536000000001,
           1273.8763999999999,
           966.5708,
           1357.1588,
           1343.386,
           758.6876000000001,
           789.2459999999999,
           789.2459999999999,
           733.1863999999999,
           1611.8480000000002,
           789.2459999999999,
           1611.8480000000002,
           789.2459999999999,
           794.5184,
           1611.8480000000002,
           789.2459999999999,
           794.5184,
           1611.8480000000002,
           789.2459999999999,
           794.5184,
           1111.7232,
           785.48,
           1058.2459999999999,
           791.7207999999999,
           1068.5756,
           1325.3092,
           1273.8763999999999,
           798.4995999999999,
           798.4995999999999,
           798.4995999999999,
           1058.2459999999999,
           618.162,
           1273.8763999999999,
           798.4995999999999,
           798.4995999999999,
           798.4995999999999,
           1058.2459999999999,
           1273.5536,
           798.4995999999999,
           798.4995999999999,
           798.2844,
           1057.9232,
           1273.5536,
           618.162,
           1273.5536,
           1057.9232,
           1273.5536,
           798.2844,
           1057.9232,
           606.326,
           1273.5536,
           798.2844,
           598.5788,
           1238.5836,
           794.5184,
           1013.2692,
           1074.7087999999999,
           789.2459999999999
          ],
          "sizemode": "area",
          "sizeref": 4.856257,
          "symbol": "circle"
         },
         "mode": "markers",
         "name": "",
         "orientation": "v",
         "showlegend": false,
         "type": "scatter",
         "x": [
          743.0856,
          756.2128,
          587.2808,
          1604.7463999999998,
          1375.4507999999998,
          675.1899999999999,
          670.886,
          720.8123999999999,
          782.2520000000001,
          794.5184,
          1160.3584,
          1942.5028,
          794.5184,
          1109.2484,
          1400.9519999999998,
          1479.7152,
          790.5372,
          723.9328,
          781.0684,
          1127.7556,
          720.7048,
          649.6888,
          1307.4476,
          618.3772,
          625.8016,
          1203.2908,
          670.886,
          1434.0928,
          781.0684,
          1596.3536000000001,
          1110.3244,
          781.0684,
          697.8936,
          625.8016,
          957.5323999999999,
          722.9644,
          923.208,
          670.2404,
          785.48,
          798.2844,
          1121.9451999999999,
          782.2520000000001,
          923.208,
          1434.0928,
          1160.3584,
          798.2844,
          733.1863999999999,
          798.2844,
          733.1863999999999,
          717.0464,
          747.4972,
          1121.9451999999999,
          1121.9451999999999,
          827.8743999999999,
          747.4972,
          1608.8352,
          1132.0595999999998,
          1383.8436000000002,
          927.8348,
          669.1644,
          928.1576,
          798.4995999999999,
          1305.6184,
          1121.9451999999999,
          785.48,
          927.0816,
          1109.2484,
          649.7964,
          785.48,
          1596.3536000000001,
          1121.9451999999999,
          743.4084,
          756.2128,
          649.7964,
          785.48,
          785.48,
          1283.4528,
          1434.0928,
          782.2520000000001,
          1288.6176,
          781.0684,
          1222.336,
          781.0684,
          743.0856,
          785.48,
          1109.2484,
          579.7488,
          1128.4012,
          701.6596,
          1336.93,
          794.5184,
          1171.5488,
          794.5184,
          798.2844,
          798.2844,
          649.7964,
          1137.4396,
          1604.7463999999998,
          675.1899999999999,
          649.6888,
          785.48,
          781.0684,
          1127.7556,
          794.5184,
          794.5184,
          781.0684,
          720.8123999999999,
          927.8348,
          927.8348,
          785.48,
          618.162,
          1109.2484,
          720.7048,
          720.8123999999999,
          927.0816,
          798.2844,
          1057.9232,
          781.0684,
          1396.8632,
          794.5184,
          923.208,
          781.0684,
          782.2520000000001,
          733.1863999999999,
          733.1863999999999,
          794.5184,
          756.2128,
          736.6295999999999,
          785.48,
          781.0684,
          798.2844,
          798.2844,
          827.8743999999999,
          1160.3584,
          827.8743999999999,
          723.8252,
          798.2844,
          1238.5836,
          723.8252,
          977.8688,
          1093.0008,
          927.8348,
          701.6596,
          680.5699999999999,
          723.9328,
          649.7964,
          649.7964,
          785.48,
          785.48,
          1615.2912000000001,
          1132.0595999999998,
          720.3820000000001,
          733.1863999999999,
          782.2520000000001,
          798.2844,
          1057.9232,
          723.8252,
          798.2844,
          794.5184,
          794.5184,
          782.2520000000001,
          785.48,
          923.208,
          923.208,
          1434.0928,
          782.2520000000001,
          781.0684,
          618.3772,
          923.208,
          781.0684,
          781.0684,
          781.0684,
          697.8936,
          670.886,
          782.2520000000001,
          743.4084,
          923.208,
          923.208,
          1769.4819999999997,
          410.7092,
          1200.82,
          800.96,
          827.8743999999999,
          775.6884,
          775.6884,
          1604.7463999999998,
          587.2808,
          756.2128,
          743.0856,
          827.8743999999999,
          1160.3584,
          743.0856,
          1160.3584,
          625.8016,
          756.2128,
          625.8016,
          1238.5836,
          713.7108,
          763.2068,
          798.4995999999999,
          618.3772,
          1479.7152,
          1603.9932,
          1615.2912000000001,
          784.1887999999999,
          720.3820000000001,
          1596.3536000000001,
          1121.9451999999999,
          1596.3536000000001,
          1596.3536000000001,
          1273.8763999999999,
          966.5708,
          1357.1588,
          1343.386,
          758.6876000000001,
          789.2459999999999,
          789.2459999999999,
          733.1863999999999,
          1611.8480000000002,
          789.2459999999999,
          1611.8480000000002,
          789.2459999999999,
          794.5184,
          1611.8480000000002,
          789.2459999999999,
          794.5184,
          1611.8480000000002,
          789.2459999999999,
          794.5184,
          1111.7232,
          785.48,
          1058.2459999999999,
          791.7207999999999,
          1068.5756,
          1325.3092,
          1273.8763999999999,
          798.4995999999999,
          798.4995999999999,
          798.4995999999999,
          1058.2459999999999,
          618.162,
          1273.8763999999999,
          798.4995999999999,
          798.4995999999999,
          798.4995999999999,
          1058.2459999999999,
          1273.5536,
          798.4995999999999,
          798.4995999999999,
          798.2844,
          1057.9232,
          1273.5536,
          618.162,
          1273.5536,
          1057.9232,
          1273.5536,
          798.2844,
          1057.9232,
          606.326,
          1273.5536,
          798.2844,
          598.5788,
          1238.5836,
          794.5184,
          1013.2692,
          1074.7087999999999,
          789.2459999999999
         ],
         "xaxis": "x",
         "y": [
          246172.676,
          246331.904,
          209280.9104,
          452667.00639999995,
          467083.3132,
          203491.84999999998,
          212520.826,
          198591.84879999998,
          265467.68000000005,
          235633.2592,
          317473.8608,
          503790.2308,
          217786.37600000002,
          460001.25599999994,
          460001.25599999994,
          448134.2688,
          249591.9948,
          196142.192,
          258572.4776,
          310831.2116,
          207281.5912,
          168834.0424,
          396973.8324,
          188743.1072,
          179674.0752,
          306363.6436,
          200300.634,
          382041.12799999997,
          245572.7936,
          407214.2896,
          355073.4032,
          256821.6404,
          226342.8032,
          191389.8688,
          297008.9652,
          250773.1452,
          312211.144,
          190119.50400000002,
          225050.52000000002,
          261742.742,
          344530.88879999996,
          215410.276,
          252185.992,
          480545.8096,
          300385.6176,
          240539.3476,
          222138.716,
          228410.054,
          197053.5144,
          193660.62079999998,
          237060.1488,
          372001.6968,
          290031.25879999995,
          238811.06399999998,
          199054.1992,
          496266.4064,
          346906.89319999993,
          376964.6156,
          315733.1536,
          188273.7304,
          253831.0248,
          278575.86879999994,
          402081.79600000003,
          310832.58759999997,
          257183.48,
          326885.336,
          344568.7428,
          214631.68039999998,
          237207.68,
          464549.1904,
          310577.03959999996,
          205098.2108,
          248525.11680000002,
          224463.86599999998,
          220606.28,
          220865,
          338181.18080000003,
          432679.91199999995,
          196220.048,
          323915.8112,
          200719.0152,
          380809.52,
          213942.5624,
          207581.4272,
          241671.52000000002,
          336695.2524,
          171262.6544,
          299159.1384,
          212265.66799999998,
          388515.14,
          263790.81440000003,
          367976.4576,
          243052.5904,
          269075.3016,
          223577.32,
          198075.992,
          354553.2324,
          456919.45599999995,
          233142.8,
          225401.6152,
          195153.16,
          206631.81,
          358525.59239999996,
          223917.336,
          201518.89440000002,
          269278.572,
          204808.16039999996,
          306878.45759999997,
          275394.2484,
          192092.24,
          165430.282,
          310223.29079999996,
          231552.32559999998,
          215774.28439999997,
          289727.9904,
          195874.944,
          357538.19519999996,
          239248.7512,
          382277.1488,
          248422.664,
          242740.656,
          253025.7772,
          234172.38800000004,
          200678.75119999997,
          226578.512,
          200148.89440000002,
          218585.9248,
          198841.69519999996,
          252927.84,
          225290.2204,
          234750.586,
          287466.4116,
          229464.7112,
          377313.5552,
          276759.18,
          219373.4056,
          230216.2192,
          410932.67319999996,
          214341.3364,
          248274.3136,
          390494.2712,
          293876.2748,
          204286.66679999998,
          230154.52999999997,
          228170.02560000002,
          205085.4048,
          177555.06399999998,
          217748.48,
          247739.44,
          484458.03040000005,
          356506.36999999994,
          197869.36400000003,
          236608.95279999997,
          208930.812,
          263123.4208,
          286433.57279999997,
          229581.7836,
          252053.0264,
          244820.66720000003,
          241620.48320000002,
          235762.34000000003,
          236639.56,
          294807.648,
          293828.68799999997,
          412856.56159999996,
          224076.836,
          258015.6144,
          153466.71240000002,
          261871.696,
          210038.6992,
          210824.0576,
          249075.6568,
          219865.7608,
          204292.49399999998,
          261579.89200000002,
          222867.42080000002,
          291494.36,
          296483.144,
          532877.384,
          117564.0716,
          317196.39999999997,
          264142.16000000003,
          222947.2088,
          250312.5344,
          246050.404,
          529317.2832,
          169158.2944,
          206958.712,
          206445.4232,
          239341.58079999997,
          398903.42240000004,
          210745.1664,
          331154.87840000005,
          204434.6784,
          189194.3072,
          204027.0912,
          400865.91599999997,
          217787.71039999998,
          219630.90120000002,
          244624.87199999997,
          163162.8792,
          401302.8192,
          538271.7356,
          461464.992,
          275812.4928,
          216552.71200000003,
          495570.44480000006,
          388656.80639999994,
          495024.0912,
          526947.1632000001,
          427236.09959999996,
          327044.3684,
          385447.6872,
          401894.81799999997,
          264275.7824,
          231348.92799999996,
          264238.94999999995,
          217357.6328,
          482404.31200000003,
          228937.89599999995,
          498994.03200000006,
          256376.27599999995,
          255243.1088,
          506786.66400000005,
          233172.48999999996,
          233834.00480000002,
          523373.4480000001,
          228872.91199999995,
          208655.6704,
          322952.5584,
          216826,
          298730.404,
          230495.00639999998,
          346048.04079999996,
          377043.5956,
          413761.70639999997,
          212644.39479999998,
          250415.38199999995,
          219252.89199999996,
          264011.698,
          211406.86800000002,
          396330.29079999996,
          227072.87839999996,
          276323.86559999996,
          230943.37959999996,
          315382.11,
          372016.5616,
          237680.87519999995,
          234032.88399999996,
          273165.57680000004,
          271227.49439999997,
          349865.22239999997,
          199730.734,
          338482.4544,
          351304.57759999996,
          338472.13279999996,
          212916.3568,
          308660.80319999997,
          147343.69400000002,
          448574.6704,
          255337.89800000002,
          175773.5856,
          322610.73919999995,
          279191.256,
          287996.5296,
          365868.7776,
          199216.40399999995
         ],
         "yaxis": "y"
        }
       ],
       "layout": {
        "coloraxis": {
         "colorbar": {
          "title": {
           "text": "Price"
          }
         },
         "colorscale": [
          [
           0,
           "#0d0887"
          ],
          [
           0.1111111111111111,
           "#46039f"
          ],
          [
           0.2222222222222222,
           "#7201a8"
          ],
          [
           0.3333333333333333,
           "#9c179e"
          ],
          [
           0.4444444444444444,
           "#bd3786"
          ],
          [
           0.5555555555555556,
           "#d8576b"
          ],
          [
           0.6666666666666666,
           "#ed7953"
          ],
          [
           0.7777777777777778,
           "#fb9f3a"
          ],
          [
           0.8888888888888888,
           "#fdca26"
          ],
          [
           1,
           "#f0f921"
          ]
         ]
        },
        "legend": {
         "itemsizing": "constant",
         "tracegroupgap": 0
        },
        "margin": {
         "t": 60
        },
        "template": {
         "data": {
          "bar": [
           {
            "error_x": {
             "color": "#f2f5fa"
            },
            "error_y": {
             "color": "#f2f5fa"
            },
            "marker": {
             "line": {
              "color": "rgb(17,17,17)",
              "width": 0.5
             },
             "pattern": {
              "fillmode": "overlay",
              "size": 10,
              "solidity": 0.2
             }
            },
            "type": "bar"
           }
          ],
          "barpolar": [
           {
            "marker": {
             "line": {
              "color": "rgb(17,17,17)",
              "width": 0.5
             },
             "pattern": {
              "fillmode": "overlay",
              "size": 10,
              "solidity": 0.2
             }
            },
            "type": "barpolar"
           }
          ],
          "carpet": [
           {
            "aaxis": {
             "endlinecolor": "#A2B1C6",
             "gridcolor": "#506784",
             "linecolor": "#506784",
             "minorgridcolor": "#506784",
             "startlinecolor": "#A2B1C6"
            },
            "baxis": {
             "endlinecolor": "#A2B1C6",
             "gridcolor": "#506784",
             "linecolor": "#506784",
             "minorgridcolor": "#506784",
             "startlinecolor": "#A2B1C6"
            },
            "type": "carpet"
           }
          ],
          "choropleth": [
           {
            "colorbar": {
             "outlinewidth": 0,
             "ticks": ""
            },
            "type": "choropleth"
           }
          ],
          "contour": [
           {
            "colorbar": {
             "outlinewidth": 0,
             "ticks": ""
            },
            "colorscale": [
             [
              0,
              "#0d0887"
             ],
             [
              0.1111111111111111,
              "#46039f"
             ],
             [
              0.2222222222222222,
              "#7201a8"
             ],
             [
              0.3333333333333333,
              "#9c179e"
             ],
             [
              0.4444444444444444,
              "#bd3786"
             ],
             [
              0.5555555555555556,
              "#d8576b"
             ],
             [
              0.6666666666666666,
              "#ed7953"
             ],
             [
              0.7777777777777778,
              "#fb9f3a"
             ],
             [
              0.8888888888888888,
              "#fdca26"
             ],
             [
              1,
              "#f0f921"
             ]
            ],
            "type": "contour"
           }
          ],
          "contourcarpet": [
           {
            "colorbar": {
             "outlinewidth": 0,
             "ticks": ""
            },
            "type": "contourcarpet"
           }
          ],
          "heatmap": [
           {
            "colorbar": {
             "outlinewidth": 0,
             "ticks": ""
            },
            "colorscale": [
             [
              0,
              "#0d0887"
             ],
             [
              0.1111111111111111,
              "#46039f"
             ],
             [
              0.2222222222222222,
              "#7201a8"
             ],
             [
              0.3333333333333333,
              "#9c179e"
             ],
             [
              0.4444444444444444,
              "#bd3786"
             ],
             [
              0.5555555555555556,
              "#d8576b"
             ],
             [
              0.6666666666666666,
              "#ed7953"
             ],
             [
              0.7777777777777778,
              "#fb9f3a"
             ],
             [
              0.8888888888888888,
              "#fdca26"
             ],
             [
              1,
              "#f0f921"
             ]
            ],
            "type": "heatmap"
           }
          ],
          "heatmapgl": [
           {
            "colorbar": {
             "outlinewidth": 0,
             "ticks": ""
            },
            "colorscale": [
             [
              0,
              "#0d0887"
             ],
             [
              0.1111111111111111,
              "#46039f"
             ],
             [
              0.2222222222222222,
              "#7201a8"
             ],
             [
              0.3333333333333333,
              "#9c179e"
             ],
             [
              0.4444444444444444,
              "#bd3786"
             ],
             [
              0.5555555555555556,
              "#d8576b"
             ],
             [
              0.6666666666666666,
              "#ed7953"
             ],
             [
              0.7777777777777778,
              "#fb9f3a"
             ],
             [
              0.8888888888888888,
              "#fdca26"
             ],
             [
              1,
              "#f0f921"
             ]
            ],
            "type": "heatmapgl"
           }
          ],
          "histogram": [
           {
            "marker": {
             "pattern": {
              "fillmode": "overlay",
              "size": 10,
              "solidity": 0.2
             }
            },
            "type": "histogram"
           }
          ],
          "histogram2d": [
           {
            "colorbar": {
             "outlinewidth": 0,
             "ticks": ""
            },
            "colorscale": [
             [
              0,
              "#0d0887"
             ],
             [
              0.1111111111111111,
              "#46039f"
             ],
             [
              0.2222222222222222,
              "#7201a8"
             ],
             [
              0.3333333333333333,
              "#9c179e"
             ],
             [
              0.4444444444444444,
              "#bd3786"
             ],
             [
              0.5555555555555556,
              "#d8576b"
             ],
             [
              0.6666666666666666,
              "#ed7953"
             ],
             [
              0.7777777777777778,
              "#fb9f3a"
             ],
             [
              0.8888888888888888,
              "#fdca26"
             ],
             [
              1,
              "#f0f921"
             ]
            ],
            "type": "histogram2d"
           }
          ],
          "histogram2dcontour": [
           {
            "colorbar": {
             "outlinewidth": 0,
             "ticks": ""
            },
            "colorscale": [
             [
              0,
              "#0d0887"
             ],
             [
              0.1111111111111111,
              "#46039f"
             ],
             [
              0.2222222222222222,
              "#7201a8"
             ],
             [
              0.3333333333333333,
              "#9c179e"
             ],
             [
              0.4444444444444444,
              "#bd3786"
             ],
             [
              0.5555555555555556,
              "#d8576b"
             ],
             [
              0.6666666666666666,
              "#ed7953"
             ],
             [
              0.7777777777777778,
              "#fb9f3a"
             ],
             [
              0.8888888888888888,
              "#fdca26"
             ],
             [
              1,
              "#f0f921"
             ]
            ],
            "type": "histogram2dcontour"
           }
          ],
          "mesh3d": [
           {
            "colorbar": {
             "outlinewidth": 0,
             "ticks": ""
            },
            "type": "mesh3d"
           }
          ],
          "parcoords": [
           {
            "line": {
             "colorbar": {
              "outlinewidth": 0,
              "ticks": ""
             }
            },
            "type": "parcoords"
           }
          ],
          "pie": [
           {
            "automargin": true,
            "type": "pie"
           }
          ],
          "scatter": [
           {
            "marker": {
             "line": {
              "color": "#283442"
             }
            },
            "type": "scatter"
           }
          ],
          "scatter3d": [
           {
            "line": {
             "colorbar": {
              "outlinewidth": 0,
              "ticks": ""
             }
            },
            "marker": {
             "colorbar": {
              "outlinewidth": 0,
              "ticks": ""
             }
            },
            "type": "scatter3d"
           }
          ],
          "scattercarpet": [
           {
            "marker": {
             "colorbar": {
              "outlinewidth": 0,
              "ticks": ""
             }
            },
            "type": "scattercarpet"
           }
          ],
          "scattergeo": [
           {
            "marker": {
             "colorbar": {
              "outlinewidth": 0,
              "ticks": ""
             }
            },
            "type": "scattergeo"
           }
          ],
          "scattergl": [
           {
            "marker": {
             "line": {
              "color": "#283442"
             }
            },
            "type": "scattergl"
           }
          ],
          "scattermapbox": [
           {
            "marker": {
             "colorbar": {
              "outlinewidth": 0,
              "ticks": ""
             }
            },
            "type": "scattermapbox"
           }
          ],
          "scatterpolar": [
           {
            "marker": {
             "colorbar": {
              "outlinewidth": 0,
              "ticks": ""
             }
            },
            "type": "scatterpolar"
           }
          ],
          "scatterpolargl": [
           {
            "marker": {
             "colorbar": {
              "outlinewidth": 0,
              "ticks": ""
             }
            },
            "type": "scatterpolargl"
           }
          ],
          "scatterternary": [
           {
            "marker": {
             "colorbar": {
              "outlinewidth": 0,
              "ticks": ""
             }
            },
            "type": "scatterternary"
           }
          ],
          "surface": [
           {
            "colorbar": {
             "outlinewidth": 0,
             "ticks": ""
            },
            "colorscale": [
             [
              0,
              "#0d0887"
             ],
             [
              0.1111111111111111,
              "#46039f"
             ],
             [
              0.2222222222222222,
              "#7201a8"
             ],
             [
              0.3333333333333333,
              "#9c179e"
             ],
             [
              0.4444444444444444,
              "#bd3786"
             ],
             [
              0.5555555555555556,
              "#d8576b"
             ],
             [
              0.6666666666666666,
              "#ed7953"
             ],
             [
              0.7777777777777778,
              "#fb9f3a"
             ],
             [
              0.8888888888888888,
              "#fdca26"
             ],
             [
              1,
              "#f0f921"
             ]
            ],
            "type": "surface"
           }
          ],
          "table": [
           {
            "cells": {
             "fill": {
              "color": "#506784"
             },
             "line": {
              "color": "rgb(17,17,17)"
             }
            },
            "header": {
             "fill": {
              "color": "#2a3f5f"
             },
             "line": {
              "color": "rgb(17,17,17)"
             }
            },
            "type": "table"
           }
          ]
         },
         "layout": {
          "annotationdefaults": {
           "arrowcolor": "#f2f5fa",
           "arrowhead": 0,
           "arrowwidth": 1
          },
          "autotypenumbers": "strict",
          "coloraxis": {
           "colorbar": {
            "outlinewidth": 0,
            "ticks": ""
           }
          },
          "colorscale": {
           "diverging": [
            [
             0,
             "#8e0152"
            ],
            [
             0.1,
             "#c51b7d"
            ],
            [
             0.2,
             "#de77ae"
            ],
            [
             0.3,
             "#f1b6da"
            ],
            [
             0.4,
             "#fde0ef"
            ],
            [
             0.5,
             "#f7f7f7"
            ],
            [
             0.6,
             "#e6f5d0"
            ],
            [
             0.7,
             "#b8e186"
            ],
            [
             0.8,
             "#7fbc41"
            ],
            [
             0.9,
             "#4d9221"
            ],
            [
             1,
             "#276419"
            ]
           ],
           "sequential": [
            [
             0,
             "#0d0887"
            ],
            [
             0.1111111111111111,
             "#46039f"
            ],
            [
             0.2222222222222222,
             "#7201a8"
            ],
            [
             0.3333333333333333,
             "#9c179e"
            ],
            [
             0.4444444444444444,
             "#bd3786"
            ],
            [
             0.5555555555555556,
             "#d8576b"
            ],
            [
             0.6666666666666666,
             "#ed7953"
            ],
            [
             0.7777777777777778,
             "#fb9f3a"
            ],
            [
             0.8888888888888888,
             "#fdca26"
            ],
            [
             1,
             "#f0f921"
            ]
           ],
           "sequentialminus": [
            [
             0,
             "#0d0887"
            ],
            [
             0.1111111111111111,
             "#46039f"
            ],
            [
             0.2222222222222222,
             "#7201a8"
            ],
            [
             0.3333333333333333,
             "#9c179e"
            ],
            [
             0.4444444444444444,
             "#bd3786"
            ],
            [
             0.5555555555555556,
             "#d8576b"
            ],
            [
             0.6666666666666666,
             "#ed7953"
            ],
            [
             0.7777777777777778,
             "#fb9f3a"
            ],
            [
             0.8888888888888888,
             "#fdca26"
            ],
            [
             1,
             "#f0f921"
            ]
           ]
          },
          "colorway": [
           "#636efa",
           "#EF553B",
           "#00cc96",
           "#ab63fa",
           "#FFA15A",
           "#19d3f3",
           "#FF6692",
           "#B6E880",
           "#FF97FF",
           "#FECB52"
          ],
          "font": {
           "color": "#f2f5fa"
          },
          "geo": {
           "bgcolor": "rgb(17,17,17)",
           "lakecolor": "rgb(17,17,17)",
           "landcolor": "rgb(17,17,17)",
           "showlakes": true,
           "showland": true,
           "subunitcolor": "#506784"
          },
          "hoverlabel": {
           "align": "left"
          },
          "hovermode": "closest",
          "mapbox": {
           "style": "dark"
          },
          "paper_bgcolor": "rgb(17,17,17)",
          "plot_bgcolor": "rgb(17,17,17)",
          "polar": {
           "angularaxis": {
            "gridcolor": "#506784",
            "linecolor": "#506784",
            "ticks": ""
           },
           "bgcolor": "rgb(17,17,17)",
           "radialaxis": {
            "gridcolor": "#506784",
            "linecolor": "#506784",
            "ticks": ""
           }
          },
          "scene": {
           "xaxis": {
            "backgroundcolor": "rgb(17,17,17)",
            "gridcolor": "#506784",
            "gridwidth": 2,
            "linecolor": "#506784",
            "showbackground": true,
            "ticks": "",
            "zerolinecolor": "#C8D4E3"
           },
           "yaxis": {
            "backgroundcolor": "rgb(17,17,17)",
            "gridcolor": "#506784",
            "gridwidth": 2,
            "linecolor": "#506784",
            "showbackground": true,
            "ticks": "",
            "zerolinecolor": "#C8D4E3"
           },
           "zaxis": {
            "backgroundcolor": "rgb(17,17,17)",
            "gridcolor": "#506784",
            "gridwidth": 2,
            "linecolor": "#506784",
            "showbackground": true,
            "ticks": "",
            "zerolinecolor": "#C8D4E3"
           }
          },
          "shapedefaults": {
           "line": {
            "color": "#f2f5fa"
           }
          },
          "sliderdefaults": {
           "bgcolor": "#C8D4E3",
           "bordercolor": "rgb(17,17,17)",
           "borderwidth": 1,
           "tickwidth": 0
          },
          "ternary": {
           "aaxis": {
            "gridcolor": "#506784",
            "linecolor": "#506784",
            "ticks": ""
           },
           "baxis": {
            "gridcolor": "#506784",
            "linecolor": "#506784",
            "ticks": ""
           },
           "bgcolor": "rgb(17,17,17)",
           "caxis": {
            "gridcolor": "#506784",
            "linecolor": "#506784",
            "ticks": ""
           }
          },
          "title": {
           "x": 0.05
          },
          "updatemenudefaults": {
           "bgcolor": "#506784",
           "borderwidth": 0
          },
          "xaxis": {
           "automargin": true,
           "gridcolor": "#283442",
           "linecolor": "#506784",
           "ticks": "",
           "title": {
            "standoff": 15
           },
           "zerolinecolor": "#283442",
           "zerolinewidth": 2
          },
          "yaxis": {
           "automargin": true,
           "gridcolor": "#283442",
           "linecolor": "#506784",
           "ticks": "",
           "title": {
            "standoff": 15
           },
           "zerolinecolor": "#283442",
           "zerolinewidth": 2
          }
         }
        },
        "xaxis": {
         "anchor": "y",
         "domain": [
          0,
          1
         ],
         "title": {
          "text": "Area (ft.)"
         }
        },
        "yaxis": {
         "anchor": "x",
         "domain": [
          0,
          1
         ],
         "title": {
          "text": "Price"
         }
        }
       }
      }
     },
     "metadata": {},
     "output_type": "display_data"
    }
   ],
   "source": [
    "fig = px.scatter(df2, x=\"Area (ft.)\", y=\"Price\", color=\"Price\",\n",
    "                 size='Area (ft.)', hover_data=['Area (ft.)'])\n",
    "fig.show()"
   ]
  },
  {
   "cell_type": "markdown",
   "metadata": {},
   "source": [
    "absolute Frequency destribution table"
   ]
  },
  {
   "cell_type": "code",
   "execution_count": 88,
   "metadata": {},
   "outputs": [
    {
     "data": {
      "text/plain": [
       "USA        177\n",
       "Canada       7\n",
       "Russia       4\n",
       "UK           2\n",
       "Belgium      2\n",
       "Denmark      1\n",
       "Germany      1\n",
       "Mexico       1\n",
       "Name: Country, dtype: int64"
      ]
     },
     "execution_count": 88,
     "metadata": {},
     "output_type": "execute_result"
    }
   ],
   "source": [
    "ab = df2.Country.value_counts().copy()\n",
    "ab"
   ]
  },
  {
   "cell_type": "code",
   "execution_count": 89,
   "metadata": {},
   "outputs": [
    {
     "data": {
      "text/html": [
       "<div>\n",
       "<style scoped>\n",
       "    .dataframe tbody tr th:only-of-type {\n",
       "        vertical-align: middle;\n",
       "    }\n",
       "\n",
       "    .dataframe tbody tr th {\n",
       "        vertical-align: top;\n",
       "    }\n",
       "\n",
       "    .dataframe thead th {\n",
       "        text-align: right;\n",
       "    }\n",
       "</style>\n",
       "<table border=\"1\" class=\"dataframe\">\n",
       "  <thead>\n",
       "    <tr style=\"text-align: right;\">\n",
       "      <th></th>\n",
       "      <th>Country</th>\n",
       "      <th>Absolut_freq</th>\n",
       "    </tr>\n",
       "  </thead>\n",
       "  <tbody>\n",
       "    <tr>\n",
       "      <th>0</th>\n",
       "      <td>USA</td>\n",
       "      <td>177</td>\n",
       "    </tr>\n",
       "    <tr>\n",
       "      <th>1</th>\n",
       "      <td>Canada</td>\n",
       "      <td>7</td>\n",
       "    </tr>\n",
       "    <tr>\n",
       "      <th>2</th>\n",
       "      <td>Russia</td>\n",
       "      <td>4</td>\n",
       "    </tr>\n",
       "    <tr>\n",
       "      <th>3</th>\n",
       "      <td>UK</td>\n",
       "      <td>2</td>\n",
       "    </tr>\n",
       "    <tr>\n",
       "      <th>4</th>\n",
       "      <td>Belgium</td>\n",
       "      <td>2</td>\n",
       "    </tr>\n",
       "  </tbody>\n",
       "</table>\n",
       "</div>"
      ],
      "text/plain": [
       "   Country  Absolut_freq\n",
       "0      USA           177\n",
       "1   Canada             7\n",
       "2   Russia             4\n",
       "3       UK             2\n",
       "4  Belgium             2"
      ]
     },
     "execution_count": 89,
     "metadata": {},
     "output_type": "execute_result"
    }
   ],
   "source": [
    "data_freq = {\n",
    "    'Country': ['USA', 'Canada', 'Russia', 'UK', 'Belgium', 'Denmark', 'Germany', 'Mexico'],\n",
    "    'Absolut_freq': [177, 7, 4, 2, 2, 1, 1, 1],\n",
    "}\n",
    "df_freq =pd.DataFrame(data_freq)\n",
    "df_freq.head()"
   ]
  },
  {
   "cell_type": "markdown",
   "metadata": {},
   "source": [
    "relative frequency"
   ]
  },
  {
   "cell_type": "code",
   "execution_count": 90,
   "metadata": {},
   "outputs": [
    {
     "data": {
      "text/html": [
       "<div>\n",
       "<style scoped>\n",
       "    .dataframe tbody tr th:only-of-type {\n",
       "        vertical-align: middle;\n",
       "    }\n",
       "\n",
       "    .dataframe tbody tr th {\n",
       "        vertical-align: top;\n",
       "    }\n",
       "\n",
       "    .dataframe thead th {\n",
       "        text-align: right;\n",
       "    }\n",
       "</style>\n",
       "<table border=\"1\" class=\"dataframe\">\n",
       "  <thead>\n",
       "    <tr style=\"text-align: right;\">\n",
       "      <th></th>\n",
       "      <th>Country</th>\n",
       "      <th>Absolut_freq</th>\n",
       "      <th>relative_freq</th>\n",
       "    </tr>\n",
       "  </thead>\n",
       "  <tbody>\n",
       "    <tr>\n",
       "      <th>0</th>\n",
       "      <td>USA</td>\n",
       "      <td>177</td>\n",
       "      <td>91.0</td>\n",
       "    </tr>\n",
       "    <tr>\n",
       "      <th>1</th>\n",
       "      <td>Canada</td>\n",
       "      <td>7</td>\n",
       "      <td>4.0</td>\n",
       "    </tr>\n",
       "    <tr>\n",
       "      <th>2</th>\n",
       "      <td>Russia</td>\n",
       "      <td>4</td>\n",
       "      <td>2.0</td>\n",
       "    </tr>\n",
       "    <tr>\n",
       "      <th>3</th>\n",
       "      <td>UK</td>\n",
       "      <td>2</td>\n",
       "      <td>1.0</td>\n",
       "    </tr>\n",
       "    <tr>\n",
       "      <th>4</th>\n",
       "      <td>Belgium</td>\n",
       "      <td>2</td>\n",
       "      <td>1.0</td>\n",
       "    </tr>\n",
       "  </tbody>\n",
       "</table>\n",
       "</div>"
      ],
      "text/plain": [
       "   Country  Absolut_freq  relative_freq\n",
       "0      USA           177           91.0\n",
       "1   Canada             7            4.0\n",
       "2   Russia             4            2.0\n",
       "3       UK             2            1.0\n",
       "4  Belgium             2            1.0"
      ]
     },
     "execution_count": 90,
     "metadata": {},
     "output_type": "execute_result"
    }
   ],
   "source": [
    "df_freq['relative_freq'] = round(df_freq.Absolut_freq / 195 * 100, 0)\n",
    "df_freq.head()"
   ]
  },
  {
   "cell_type": "markdown",
   "metadata": {},
   "source": [
    "Cumulative frequency"
   ]
  },
  {
   "cell_type": "code",
   "execution_count": 91,
   "metadata": {},
   "outputs": [
    {
     "data": {
      "text/html": [
       "<div>\n",
       "<style scoped>\n",
       "    .dataframe tbody tr th:only-of-type {\n",
       "        vertical-align: middle;\n",
       "    }\n",
       "\n",
       "    .dataframe tbody tr th {\n",
       "        vertical-align: top;\n",
       "    }\n",
       "\n",
       "    .dataframe thead th {\n",
       "        text-align: right;\n",
       "    }\n",
       "</style>\n",
       "<table border=\"1\" class=\"dataframe\">\n",
       "  <thead>\n",
       "    <tr style=\"text-align: right;\">\n",
       "      <th></th>\n",
       "      <th>Country</th>\n",
       "      <th>Absolut_freq</th>\n",
       "      <th>relative_freq</th>\n",
       "      <th>cumulative_freq</th>\n",
       "    </tr>\n",
       "  </thead>\n",
       "  <tbody>\n",
       "    <tr>\n",
       "      <th>0</th>\n",
       "      <td>USA</td>\n",
       "      <td>177</td>\n",
       "      <td>91.0</td>\n",
       "      <td>91.0</td>\n",
       "    </tr>\n",
       "    <tr>\n",
       "      <th>1</th>\n",
       "      <td>Canada</td>\n",
       "      <td>7</td>\n",
       "      <td>4.0</td>\n",
       "      <td>95.0</td>\n",
       "    </tr>\n",
       "    <tr>\n",
       "      <th>2</th>\n",
       "      <td>Russia</td>\n",
       "      <td>4</td>\n",
       "      <td>2.0</td>\n",
       "      <td>97.0</td>\n",
       "    </tr>\n",
       "    <tr>\n",
       "      <th>3</th>\n",
       "      <td>UK</td>\n",
       "      <td>2</td>\n",
       "      <td>1.0</td>\n",
       "      <td>98.0</td>\n",
       "    </tr>\n",
       "    <tr>\n",
       "      <th>4</th>\n",
       "      <td>Belgium</td>\n",
       "      <td>2</td>\n",
       "      <td>1.0</td>\n",
       "      <td>99.0</td>\n",
       "    </tr>\n",
       "  </tbody>\n",
       "</table>\n",
       "</div>"
      ],
      "text/plain": [
       "   Country  Absolut_freq  relative_freq  cumulative_freq\n",
       "0      USA           177           91.0             91.0\n",
       "1   Canada             7            4.0             95.0\n",
       "2   Russia             4            2.0             97.0\n",
       "3       UK             2            1.0             98.0\n",
       "4  Belgium             2            1.0             99.0"
      ]
     },
     "execution_count": 91,
     "metadata": {},
     "output_type": "execute_result"
    }
   ],
   "source": [
    "df_freq['cumulative_freq'] = df_freq.relative_freq.cumsum()\n",
    "df_freq.head()"
   ]
  },
  {
   "cell_type": "code",
   "execution_count": 94,
   "metadata": {},
   "outputs": [
    {
     "data": {
      "image/png": "[encoded data removed]",
      "text/plain": [
       "<Figure size 640x480 with 2 Axes>"
      ]
     },
     "metadata": {},
     "output_type": "display_data"
    }
   ],
   "source": [
    "\n",
    "#define aesthetics for plot\n",
    "color1 = 'steelblue'\n",
    "color2 = 'red'\n",
    "line_size = 4\n",
    "\n",
    "#create basic bar plot\n",
    "fig, ax = plt.subplots()\n",
    "ax.bar(df_freq.index, df_freq['relative_freq'], color=color1)\n",
    "\n",
    "#add cumulative percentage line to plot\n",
    "ax2 = ax.twinx()\n",
    "ax2.plot(df_freq.index, df_freq['cumulative_freq'], color=color2, marker=\"D\", ms=line_size)\n",
    "ax2.yaxis.set_major_formatter(PercentFormatter())\n",
    "\n",
    "#specify axis colors\n",
    "ax.tick_params(axis='y', colors=color1)\n",
    "ax2.tick_params(axis='y', colors=color2)\n",
    "\n",
    "#display Pareto chart\n",
    "plt.show()"
   ]
  },
  {
   "cell_type": "markdown",
   "metadata": {},
   "source": [
    "# Mean"
   ]
  },
  {
   "cell_type": "code",
   "execution_count": 100,
   "metadata": {},
   "outputs": [
    {
     "data": {
      "text/plain": [
       "281171.9015011236"
      ]
     },
     "execution_count": 100,
     "metadata": {},
     "output_type": "execute_result"
    }
   ],
   "source": [
    "mean = df2.Price.mean()\n",
    "mean"
   ]
  },
  {
   "cell_type": "markdown",
   "metadata": {},
   "source": [
    "# Median"
   ]
  },
  {
   "cell_type": "code",
   "execution_count": 101,
   "metadata": {},
   "outputs": [
    {
     "data": {
      "text/plain": [
       "249075.6568"
      ]
     },
     "execution_count": 101,
     "metadata": {},
     "output_type": "execute_result"
    }
   ],
   "source": [
    "median = df2.Price.median()\n",
    "median"
   ]
  },
  {
   "cell_type": "markdown",
   "metadata": {},
   "source": [
    "# Mode"
   ]
  },
  {
   "cell_type": "code",
   "execution_count": 102,
   "metadata": {},
   "outputs": [
    {
     "data": {
      "text/plain": [
       "0    460001.256\n",
       "Name: Price, dtype: float64"
      ]
     },
     "execution_count": 102,
     "metadata": {},
     "output_type": "execute_result"
    }
   ],
   "source": [
    "mode = df2.Price.mode()\n",
    "mode"
   ]
  },
  {
   "cell_type": "markdown",
   "metadata": {},
   "source": [
    "# Skewness = Positive Mean > median"
   ]
  },
  {
   "cell_type": "code",
   "execution_count": 113,
   "metadata": {},
   "outputs": [
    {
     "data": {
      "text/plain": [
       "1.0960149435317836"
      ]
     },
     "execution_count": 113,
     "metadata": {},
     "output_type": "execute_result"
    }
   ],
   "source": [
    "from scipy.stats import skew\n",
    "skew(df2.Price, bias=False)"
   ]
  },
  {
   "cell_type": "markdown",
   "metadata": {},
   "source": [
    "# Calculation of Variance"
   ]
  },
  {
   "cell_type": "code",
   "execution_count": 103,
   "metadata": {},
   "outputs": [
    {
     "data": {
      "text/plain": [
       "(267,)"
      ]
     },
     "execution_count": 103,
     "metadata": {},
     "output_type": "execute_result"
    }
   ],
   "source": [
    "df2.Price.shape"
   ]
  },
  {
   "cell_type": "code",
   "execution_count": 106,
   "metadata": {},
   "outputs": [
    {
     "data": {
      "text/plain": [
       "7942217700.92089"
      ]
     },
     "execution_count": 106,
     "metadata": {},
     "output_type": "execute_result"
    }
   ],
   "source": [
    "x = 0\n",
    "for ab in df2.Price:\n",
    "     x += (ab - mean) ** 2\n",
    "x / (267 - 1)"
   ]
  },
  {
   "cell_type": "markdown",
   "metadata": {},
   "source": [
    "# Standar deviation"
   ]
  },
  {
   "cell_type": "code",
   "execution_count": 107,
   "metadata": {},
   "outputs": [
    {
     "data": {
      "text/plain": [
       "89119.12084912468"
      ]
     },
     "execution_count": 107,
     "metadata": {},
     "output_type": "execute_result"
    }
   ],
   "source": [
    "import math\n",
    "s_d = math.sqrt(7942217700.92089)\n",
    "s_d"
   ]
  },
  {
   "cell_type": "markdown",
   "metadata": {},
   "source": [
    "# Covariance - price vs area"
   ]
  },
  {
   "cell_type": "code",
   "execution_count": 108,
   "metadata": {},
   "outputs": [
    {
     "data": {
      "text/plain": [
       "(267,)"
      ]
     },
     "execution_count": 108,
     "metadata": {},
     "output_type": "execute_result"
    }
   ],
   "source": [
    "df2.Price.shape"
   ]
  },
  {
   "cell_type": "code",
   "execution_count": 110,
   "metadata": {},
   "outputs": [
    {
     "data": {
      "text/plain": [
       "281171.9015011236"
      ]
     },
     "execution_count": 110,
     "metadata": {},
     "output_type": "execute_result"
    }
   ],
   "source": [
    "mean_price = df2.Price.mean()\n",
    "mean_price"
   ]
  },
  {
   "cell_type": "code",
   "execution_count": 111,
   "metadata": {},
   "outputs": [
    {
     "data": {
      "text/plain": [
       "(267,)"
      ]
     },
     "execution_count": 111,
     "metadata": {},
     "output_type": "execute_result"
    }
   ],
   "source": [
    "df2['Area (ft.)'].shape"
   ]
  },
  {
   "cell_type": "code",
   "execution_count": 112,
   "metadata": {},
   "outputs": [
    {
     "data": {
      "text/plain": [
       "936.2211131086164"
      ]
     },
     "execution_count": 112,
     "metadata": {},
     "output_type": "execute_result"
    }
   ],
   "source": [
    "mean_area = df2['Area (ft.)'].mean()\n",
    "mean_area"
   ]
  },
  {
   "cell_type": "code",
   "execution_count": 116,
   "metadata": {},
   "outputs": [
    {
     "data": {
      "text/plain": [
       "4      6.759593e+06\n",
       "5      6.271489e+06\n",
       "6      2.508566e+07\n",
       "7      1.146488e+08\n",
       "8      8.165781e+07\n",
       "           ...     \n",
       "266    1.252955e+07\n",
       "267    2.806628e+05\n",
       "268    5.258245e+05\n",
       "269    1.172947e+07\n",
       "270    1.204542e+07\n",
       "Length: 267, dtype: float64"
      ]
     },
     "execution_count": 116,
     "metadata": {},
     "output_type": "execute_result"
    }
   ],
   "source": [
    "covariance_p_a_numerator = (df2['Price'] - mean_price) * (df2['Area (ft.)'] - mean_area)\n",
    "covariance_p_a_numerator"
   ]
  },
  {
   "cell_type": "code",
   "execution_count": 118,
   "metadata": {},
   "outputs": [
    {
     "data": {
      "text/plain": [
       "24147721.725818872"
      ]
     },
     "execution_count": 118,
     "metadata": {},
     "output_type": "execute_result"
    }
   ],
   "source": [
    "covariance_p_a_result = covariance_p_a_numerator.sum() / (267 - 1)\n",
    "covariance_p_a_result"
   ]
  },
  {
   "cell_type": "markdown",
   "metadata": {},
   "source": [
    "# Correlation Coefficient\n",
    "### Covariance / Standar Deviation x * Standar Deviation y"
   ]
  },
  {
   "cell_type": "code",
   "execution_count": 120,
   "metadata": {},
   "outputs": [
    {
     "data": {
      "text/plain": [
       "4       37301.326424\n",
       "5       32402.992788\n",
       "6      121759.342112\n",
       "7      446926.059213\n",
       "8      192922.717847\n",
       "           ...      \n",
       "266     91423.073479\n",
       "267     20079.658902\n",
       "268      5936.407694\n",
       "269     19178.839421\n",
       "270     21601.683873\n",
       "Name: Area (ft.), Length: 267, dtype: float64"
      ]
     },
     "execution_count": 120,
     "metadata": {},
     "output_type": "execute_result"
    }
   ],
   "source": [
    "variance_area_pre = (df2['Area (ft.)'] - mean_area) ** 2\n",
    "variance_area_pre"
   ]
  },
  {
   "cell_type": "code",
   "execution_count": 121,
   "metadata": {},
   "outputs": [
    {
     "data": {
      "text/plain": [
       "81165.16989153046"
      ]
     },
     "execution_count": 121,
     "metadata": {},
     "output_type": "execute_result"
    }
   ],
   "source": [
    "variance_area = variance_area_pre.sum() / (267-1)\n",
    "variance_area"
   ]
  },
  {
   "cell_type": "code",
   "execution_count": 122,
   "metadata": {},
   "outputs": [
    {
     "data": {
      "text/plain": [
       "284.8950155610492"
      ]
     },
     "execution_count": 122,
     "metadata": {},
     "output_type": "execute_result"
    }
   ],
   "source": [
    "sd_area = math.sqrt(81165.16989153046)\n",
    "sd_area"
   ]
  },
  {
   "cell_type": "code",
   "execution_count": 124,
   "metadata": {},
   "outputs": [
    {
     "data": {
      "text/plain": [
       "0.9510873774316208"
      ]
     },
     "execution_count": 124,
     "metadata": {},
     "output_type": "execute_result"
    }
   ],
   "source": [
    "correlation_coefficient = covariance_p_a_result / (s_d * sd_area)\n",
    "correlation_coefficient"
   ]
  }
 ],
 "metadata": {
  "kernelspec": {
   "display_name": "Python 3.9.13",
   "language": "python",
   "name": "python3"
  },
  "language_info": {
   "codemirror_mode": {
    "name": "ipython",
    "version": 3
   },
   "file_extension": ".py",
   "mimetype": "text/x-python",
   "name": "python",
   "nbconvert_exporter": "python",
   "pygments_lexer": "ipython3",
   "version": "3.9.13"
  },
  "orig_nbformat": 4,
  "vscode": {
   "interpreter": {
    "hash": "749e0dbe91b89cf1d8cb279a1bad7e853c2aa125658729b13daa0bc51ab016c8"
   }
  }
 },
 "nbformat": 4,
 "nbformat_minor": 2
}
